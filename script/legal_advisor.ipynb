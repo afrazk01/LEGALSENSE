{
 "cells": [
  {
   "cell_type": "code",
   "execution_count": 1,
   "id": "0e50c0e4",
   "metadata": {},
   "outputs": [
    {
     "data": {
      "application/vnd.jupyter.widget-view+json": {
       "model_id": "2bc5a9a4af5d43b8b54b92d760f91a2c",
       "version_major": 2,
       "version_minor": 0
      },
      "text/plain": [
       "0it [00:00, ?it/s]"
      ]
     },
     "metadata": {},
     "output_type": "display_data"
    },
    {
     "data": {
      "text/plain": [
       "[{'page_number': -4,\n",
       "  'page_char_count': 1651,\n",
       "  'page_word_count': 283,\n",
       "  'page_sentence_count': 14,\n",
       "  'page_token_count': 412.75,\n",
       "  'text': 'Pakistan Penal Code (Act XLV of 1860) Act XLV of 1860 October 6th, 1860 Amended by: Protection of Women (Criminal Laws Amendment) Act, 2006,Criminal Laws (Amendment) Act, 2004 (I of 2005),Criminal Law (Amendment) Ordinance (LXXXV of 2002),Criminal Laws (Reforms) Ordinance (LXXXVI of 2002),etc.  Whereas it is expedient to provide a general Penal Code for Pakistan:  It is enacted as follows:-   CHAPTER I INTRODUCTION 1. Title and extent of operation of the Code. This Act shall be called the Pakistan Penal Code, and shall take effect throughout Pakistan.   2. Punishment of offences committed within Pakistan. Every person shall be liable to punishment under this Code and not otherwise for every act or omission contrary to the provisions thereof, of which he shall be guilty within Pakistan.   3. Punishment of offences committed beyond, but which by law may be tried within Pakistan. Any person liable, by any Pakistan Law, to be tried for an offence committed beyond Pakistan shall be dealt with according to the provision of this Code for any act committed beyond Pakistan in the same manner as if such act had been committed within Pakistan.   4. Extension of Code to extra-territorial offences. The provisions of this Code apply also to any offence committed by:-   1[(1) any citizen of Pakistan or any person in the service of Pakistan in any place without and beyond Pakistan;] 1  2[] 2 4[] 4  (4) any person on any ship or aircraft registered in Pakistan wherever it may be. Explanation: In this section the word \"offence\" includes every act committed outside Pakistan which, if committed in Pakistan, would be punishable under this Code.'},\n",
       " {'page_number': -3,\n",
       "  'page_char_count': 1896,\n",
       "  'page_word_count': 353,\n",
       "  'page_sentence_count': 14,\n",
       "  'page_token_count': 474.0,\n",
       "  'text': 'Illustrations (a) A, a Pakistan subject, commits a murder in Uganda. He can be tried and convicted of murder in any place in Pakistan in which he may be found.     5[] 5   6[(c) C, a foreigner who is in the service of Pakistan commits a murder in London. He can be tried and convicted of murder at any place in Pakistan in which he may be found.] 6   (d) D, a British subject living in Junagadh, instigates E to commit a murder in Lahore. D is guilty of abetting murder.       7[  5. Certain laws not to be affected by this Act. Nothing in this Act is intended to repeal, vary, suspend or affect any of the provisions of any Act for punishing mutiny and desertion of officers, soldiers, sailors or airmen in the service of the State or of any special or local law.   ] 7   CHAPTER II GENERAL EXPLANATIONS 6. Definitions in the code to be understood subject to exceptions. Throughout this Code every definition of an offence, every penal provision and every illustration of every such definition or penal provision, shall be understood subject to the exceptions contained in the chapter entitled \"General Exceptions,\" though those exceptions are not repeated in such definition, penal provision or illustration.  Illustrations (a) The sections in this Code, which contains definitions of offences, do not express that a child under seven years of age cannot commit such offences; but the definitions are to be understood subject to the general exception which provides that nothing shall be an offence which is done by a child under seven years of age.    (b) A, a police officer, without warrant, apprehends Z who has committed murder. Here A is not guilty of the offence of wrongful confinement; for he was bound by law to apprehend Z, and, therefore, the case falls within the general exception which provides that \"nothing is an offence which is done by a person who is bound by law to do it.\"'}]"
      ]
     },
     "execution_count": 1,
     "metadata": {},
     "output_type": "execute_result"
    }
   ],
   "source": [
    "import os\n",
    "import fitz\n",
    "from tqdm.auto import tqdm\n",
    "\n",
    "pdf_path = \"U:\\\\LEGALSENSE\\\\script\\\\Pakistan Penal Code.pdf\"\n",
    "\n",
    "\n",
    "def text_formatter(text: str) -> str:\n",
    "    cleaned_text = text.replace(\"\\n\", \"\").strip()\n",
    "    return cleaned_text\n",
    "\n",
    "\n",
    "def open_and_read_pdf(pdf_path: str) -> list[dict]:\n",
    "    doc = fitz.open(pdf_path)\n",
    "    pages_and_text = []\n",
    "    for page_number, page in tqdm(enumerate(doc)):\n",
    "        text = page.get_text()\n",
    "        text = text_formatter(text=text)\n",
    "        pages_and_text.append({\"page_number\": page_number - 4,\n",
    "                               \"page_char_count\": len(text),\n",
    "                               \"page_word_count\": len(text.split(\" \")),\n",
    "                               \"page_sentence_count\": len(text.split(\". \")),\n",
    "                               \"page_token_count\": len(text) / 4,\n",
    "                               \"text\": text})\n",
    "    return pages_and_text\n",
    "\n",
    "\n",
    "pages_and_text = open_and_read_pdf(pdf_path=pdf_path)\n",
    "pages_and_text[:2]"
   ]
  },
  {
   "cell_type": "code",
   "execution_count": 21,
   "id": "ec1adf27",
   "metadata": {},
   "outputs": [
    {
     "name": "stderr",
     "output_type": "stream",
     "text": [
      "[nltk_data] Downloading package punkt to\n",
      "[nltk_data]     C:\\Users\\Huzaifa\\AppData\\Roaming\\nltk_data...\n"
     ]
    },
    {
     "name": "stdout",
     "output_type": "stream",
     "text": [
      "['My name is Huzaifa.', 'I am a CS student at PU']\n"
     ]
    },
    {
     "name": "stderr",
     "output_type": "stream",
     "text": [
      "[nltk_data]   Package punkt is already up-to-date!\n"
     ]
    }
   ],
   "source": [
    "import nltk\n",
    "nltk.download('punkt')\n",
    "\n",
    "from nltk.tokenize import sent_tokenize\n",
    "\n",
    "text = \"My name is Huzaifa. I am a CS student at PU\"\n",
    "sentences = sent_tokenize(text)\n",
    "\n",
    "print(sentences)\n",
    "\n"
   ]
  },
  {
   "cell_type": "code",
   "execution_count": 22,
   "id": "cba7ea14",
   "metadata": {},
   "outputs": [
    {
     "data": {
      "application/vnd.jupyter.widget-view+json": {
       "model_id": "0f156e078ccf4a1cb8a4398619759758",
       "version_major": 2,
       "version_minor": 0
      },
      "text/plain": [
       "  0%|          | 0/164 [00:00<?, ?it/s]"
      ]
     },
     "metadata": {},
     "output_type": "display_data"
    }
   ],
   "source": [
    "for item in tqdm(pages_and_text):\n",
    "    item[\"sentences\"] = list(sent_tokenize(item[\"text\"]))\n",
    "    item[\"page_sentence_count\"] = len(item[\"sentences\"])\n",
    "    "
   ]
  },
  {
   "cell_type": "code",
   "execution_count": 25,
   "id": "4803b407",
   "metadata": {},
   "outputs": [
    {
     "data": {
      "text/plain": [
       "[{'page_number': 102,\n",
       "  'page_char_count': 2324,\n",
       "  'page_word_count': 404,\n",
       "  'page_sentence_count': 17,\n",
       "  'page_token_count': 581.0,\n",
       "  'text': 'A. Whoever assaults or uses criminal force to any woman and strips her of her clothes and in that condition, exposes her to the public view, shall be punished with death or with imprisonment for life, and shall also be liable to fine.   ] 137  355. Assault or criminal force with intent to dishonour person, otherwise than on grave provocation: Whoever assaults or uses criminal force to any person, intending thereby to dishonour that person, otherwise than on grave and sudden provocation given by that person, shall be punished with imprisonment of either description for a term which may extend to two years, or with fine, or with both.   356. Assault or criminal force in attempt to commit theft of property carried by a person: Whoever assaults or uses criminal force to any person in attempting to commit theft on any property which that person is then wearing or carrying shall be punished with imprisonment of either description for a term which may extend to two years, or with fine, or with both.   357. Assault or criminal force in attempting wrongfully to confine person: Whoever assaults or uses criminal force to any person, in attempting wrongfully to confine that person, shall be punished with imprisonment of either description for a term which may extend to one year or with fine which may extend to  138[three thousand rupees] 138, or with both.   358. Assault or criminal force on grave provocation: Whoever assaults or uses criminal force to any person on grave and sudden provocation given by that person, shall be punished with simple imprisonment for a term which may extend to one month or with fine which may extend to  139[six hundred rupees] 139, or with both.  Explanation: The last section is subject to the same explanation as Section 352.     Of Kidnapping, Abduction, Slavery and Forced Labour 359. Kidnapping: Kidnapping is of two kinds: Kidnapping from Pakistan and kidnapping from lawful guardianship.   360. Kidnapping from Pakistan, etc.: Whoever conveys any person beyond the limits of Pakistan without the consent of that person, or of some person legally authorised to consent on behalf of that person is said to kidnap that person from Pakistan.   361. Kidnapping from lawful guardianship: Whoever takes or entices any minor under fourteen years of age if a male, or under sixteen',\n",
       "  'sentences': ['A. Whoever assaults or uses criminal force to any woman and strips her of her clothes and in that condition, exposes her to the public view, shall be punished with death or with imprisonment for life, and shall also be liable to fine.   ]',\n",
       "   '137  355.',\n",
       "   'Assault or criminal force with intent to dishonour person, otherwise than on grave provocation: Whoever assaults or uses criminal force to any person, intending thereby to dishonour that person, otherwise than on grave and sudden provocation given by that person, shall be punished with imprisonment of either description for a term which may extend to two years, or with fine, or with both.',\n",
       "   '356.',\n",
       "   'Assault or criminal force in attempt to commit theft of property carried by a person: Whoever assaults or uses criminal force to any person in attempting to commit theft on any property which that person is then wearing or carrying shall be punished with imprisonment of either description for a term which may extend to two years, or with fine, or with both.',\n",
       "   '357.',\n",
       "   'Assault or criminal force in attempting wrongfully to confine person: Whoever assaults or uses criminal force to any person, in attempting wrongfully to confine that person, shall be punished with imprisonment of either description for a term which may extend to one year or with fine which may extend to  138[three thousand rupees] 138, or with both.',\n",
       "   '358.',\n",
       "   'Assault or criminal force on grave provocation: Whoever assaults or uses criminal force to any person on grave and sudden provocation given by that person, shall be punished with simple imprisonment for a term which may extend to one month or with fine which may extend to  139[six hundred rupees] 139, or with both.',\n",
       "   'Explanation: The last section is subject to the same explanation as Section 352.',\n",
       "   'Of Kidnapping, Abduction, Slavery and Forced Labour 359.',\n",
       "   'Kidnapping: Kidnapping is of two kinds: Kidnapping from Pakistan and kidnapping from lawful guardianship.',\n",
       "   '360.',\n",
       "   'Kidnapping from Pakistan, etc.',\n",
       "   ': Whoever conveys any person beyond the limits of Pakistan without the consent of that person, or of some person legally authorised to consent on behalf of that person is said to kidnap that person from Pakistan.',\n",
       "   '361.',\n",
       "   'Kidnapping from lawful guardianship: Whoever takes or entices any minor under fourteen years of age if a male, or under sixteen']}]"
      ]
     },
     "execution_count": 25,
     "metadata": {},
     "output_type": "execute_result"
    }
   ],
   "source": [
    "import random\n",
    "\n",
    "random.sample(pages_and_text, k=1)"
   ]
  },
  {
   "cell_type": "code",
   "execution_count": 26,
   "id": "a6ab9287",
   "metadata": {},
   "outputs": [
    {
     "data": {
      "text/plain": [
       "[[0, 1, 2, 3, 4, 5, 6, 7, 8, 9],\n",
       " [10, 11, 12, 13, 14, 15, 16, 17, 18, 19],\n",
       " [20, 21, 22, 23, 24, 25, 26, 27, 28, 29],\n",
       " [30, 31, 32, 33, 34, 35, 36, 37, 38]]"
      ]
     },
     "execution_count": 26,
     "metadata": {},
     "output_type": "execute_result"
    }
   ],
   "source": [
    "chunk_size_num = 10\n",
    "\n",
    "def split_list(input_list : list[str],\n",
    "               slice_size : int = chunk_size_num) -> list[list[str]]:\n",
    "    return [input_list[i:i + slice_size] for i in range(0, len(input_list), slice_size)]\n",
    "\n",
    "test_split = list(range(39))\n",
    "split_list(test_split)"
   ]
  },
  {
   "cell_type": "code",
   "execution_count": 27,
   "id": "c7eabe2f",
   "metadata": {},
   "outputs": [
    {
     "data": {
      "application/vnd.jupyter.widget-view+json": {
       "model_id": "dd0630ad35ca41db9bd79898f0572f4b",
       "version_major": 2,
       "version_minor": 0
      },
      "text/plain": [
       "  0%|          | 0/164 [00:00<?, ?it/s]"
      ]
     },
     "metadata": {},
     "output_type": "display_data"
    }
   ],
   "source": [
    "for item in tqdm(pages_and_text):\n",
    "    item[\"sentence_chunks\"] = split_list(input_list=item[\"sentences\"],\n",
    "                                         slice_size=chunk_size_num)\n",
    "    item['num_chunks'] = len(item[\"sentence_chunks\"])"
   ]
  },
  {
   "cell_type": "code",
   "execution_count": 28,
   "id": "4a8dec2c",
   "metadata": {},
   "outputs": [
    {
     "data": {
      "text/plain": [
       "[{'page_number': 14,\n",
       "  'page_char_count': 2788,\n",
       "  'page_word_count': 532,\n",
       "  'page_sentence_count': 20,\n",
       "  'page_token_count': 697.0,\n",
       "  'text': \"likely to cause, to the person giving the consent or on whose behalf the consent is given.  Illustration Causing miscarriage (unless caused in good faith for the purpose of saving the life of the woman) to an offence independently of any harm which it may cause or be intended, to cause to the woman. Therefore it is not an offence by reason of such harm; and the consent of the woman or of her guardian to the causing of such miscarriage dose not justify the act.    92. Act done in good faith for benefit of a person without consent: Nothing an offence by reason of any harm which it may cause to a person by whose benefit it is done in good faith even without that person's consent, if the Circumstances are such that is impossible for that person to signify consent, or if that person is incapable of giving consent, and has no guardian or other person in lawful charge of him from whom it is possible to obtain consent in time for the thing to be done with benefit:  Provided  First:  That this exception shall not extend to the intentional causing of death, or the attempting to cause death;  Secondly: That this exception shall not extend to the doing of anything which the person doing it knows to be likely to cause death, for any purpose other than the preventing of death or grievous, hurt, or the curing of any grievous disease or infirmity;  Thirdly:  That this exception shall not extend to the voluntary causing of hurt, or to the attempting to cause hurt for any purpose other than the preventing of death or hurt;  Fourthly:  That this exception shall not extend to the abetment of any offence, to the committing of which offence it would not extend.   Illustrations (a) Z is thrown from his horse, and is insensible. A, a surgeon, finds that Z requires to be trepanned. A not Intending Z's death but in good faith for Z's benefit, performs the trepan before Z recovers his power of judging for himself. A has committed no offence.   (b) Z is carried off by a tiger. A fires at the tiger knowing it to be likely that the shot may kill Z, but not intending to kill Z, and in good faith intending Z's benefit A's ball gives Z a mortal wound. A has committed no offence.    (c) A, a surgeon, sees child suffer an accident which is likely to prove fatal unless an operation be immediately performed. There is no time to apply to the child's guardian. A performs the operation in spite of the entreaties of the child, intending, in good faith, the child's benefit. A has committed no offence.    (d) A is in a house which is on fire with Z, a child. People below hold out a blanket. A drops the child from the house-top, knowing it to be likely that the fall may kill the child, but not intending to kill the child and intending, in good faith, the child's benefit. Here even,\",\n",
       "  'sentences': ['likely to cause, to the person giving the consent or on whose behalf the consent is given.',\n",
       "   'Illustration Causing miscarriage (unless caused in good faith for the purpose of saving the life of the woman) to an offence independently of any harm which it may cause or be intended, to cause to the woman.',\n",
       "   'Therefore it is not an offence by reason of such harm; and the consent of the woman or of her guardian to the causing of such miscarriage dose not justify the act.',\n",
       "   '92.',\n",
       "   \"Act done in good faith for benefit of a person without consent: Nothing an offence by reason of any harm which it may cause to a person by whose benefit it is done in good faith even without that person's consent, if the Circumstances are such that is impossible for that person to signify consent, or if that person is incapable of giving consent, and has no guardian or other person in lawful charge of him from whom it is possible to obtain consent in time for the thing to be done with benefit:  Provided  First:  That this exception shall not extend to the intentional causing of death, or the attempting to cause death;  Secondly: That this exception shall not extend to the doing of anything which the person doing it knows to be likely to cause death, for any purpose other than the preventing of death or grievous, hurt, or the curing of any grievous disease or infirmity;  Thirdly:  That this exception shall not extend to the voluntary causing of hurt, or to the attempting to cause hurt for any purpose other than the preventing of death or hurt;  Fourthly:  That this exception shall not extend to the abetment of any offence, to the committing of which offence it would not extend.\",\n",
       "   'Illustrations (a) Z is thrown from his horse, and is insensible.',\n",
       "   'A, a surgeon, finds that Z requires to be trepanned.',\n",
       "   \"A not Intending Z's death but in good faith for Z's benefit, performs the trepan before Z recovers his power of judging for himself.\",\n",
       "   'A has committed no offence.',\n",
       "   '(b) Z is carried off by a tiger.',\n",
       "   \"A fires at the tiger knowing it to be likely that the shot may kill Z, but not intending to kill Z, and in good faith intending Z's benefit A's ball gives Z a mortal wound.\",\n",
       "   'A has committed no offence.',\n",
       "   '(c) A, a surgeon, sees child suffer an accident which is likely to prove fatal unless an operation be immediately performed.',\n",
       "   \"There is no time to apply to the child's guardian.\",\n",
       "   \"A performs the operation in spite of the entreaties of the child, intending, in good faith, the child's benefit.\",\n",
       "   'A has committed no offence.',\n",
       "   '(d) A is in a house which is on fire with Z, a child.',\n",
       "   'People below hold out a blanket.',\n",
       "   \"A drops the child from the house-top, knowing it to be likely that the fall may kill the child, but not intending to kill the child and intending, in good faith, the child's benefit.\",\n",
       "   'Here even,'],\n",
       "  'sentence_chunks': [['likely to cause, to the person giving the consent or on whose behalf the consent is given.',\n",
       "    'Illustration Causing miscarriage (unless caused in good faith for the purpose of saving the life of the woman) to an offence independently of any harm which it may cause or be intended, to cause to the woman.',\n",
       "    'Therefore it is not an offence by reason of such harm; and the consent of the woman or of her guardian to the causing of such miscarriage dose not justify the act.',\n",
       "    '92.',\n",
       "    \"Act done in good faith for benefit of a person without consent: Nothing an offence by reason of any harm which it may cause to a person by whose benefit it is done in good faith even without that person's consent, if the Circumstances are such that is impossible for that person to signify consent, or if that person is incapable of giving consent, and has no guardian or other person in lawful charge of him from whom it is possible to obtain consent in time for the thing to be done with benefit:  Provided  First:  That this exception shall not extend to the intentional causing of death, or the attempting to cause death;  Secondly: That this exception shall not extend to the doing of anything which the person doing it knows to be likely to cause death, for any purpose other than the preventing of death or grievous, hurt, or the curing of any grievous disease or infirmity;  Thirdly:  That this exception shall not extend to the voluntary causing of hurt, or to the attempting to cause hurt for any purpose other than the preventing of death or hurt;  Fourthly:  That this exception shall not extend to the abetment of any offence, to the committing of which offence it would not extend.\",\n",
       "    'Illustrations (a) Z is thrown from his horse, and is insensible.',\n",
       "    'A, a surgeon, finds that Z requires to be trepanned.',\n",
       "    \"A not Intending Z's death but in good faith for Z's benefit, performs the trepan before Z recovers his power of judging for himself.\",\n",
       "    'A has committed no offence.',\n",
       "    '(b) Z is carried off by a tiger.'],\n",
       "   [\"A fires at the tiger knowing it to be likely that the shot may kill Z, but not intending to kill Z, and in good faith intending Z's benefit A's ball gives Z a mortal wound.\",\n",
       "    'A has committed no offence.',\n",
       "    '(c) A, a surgeon, sees child suffer an accident which is likely to prove fatal unless an operation be immediately performed.',\n",
       "    \"There is no time to apply to the child's guardian.\",\n",
       "    \"A performs the operation in spite of the entreaties of the child, intending, in good faith, the child's benefit.\",\n",
       "    'A has committed no offence.',\n",
       "    '(d) A is in a house which is on fire with Z, a child.',\n",
       "    'People below hold out a blanket.',\n",
       "    \"A drops the child from the house-top, knowing it to be likely that the fall may kill the child, but not intending to kill the child and intending, in good faith, the child's benefit.\",\n",
       "    'Here even,']],\n",
       "  'num_chunks': 2}]"
      ]
     },
     "execution_count": 28,
     "metadata": {},
     "output_type": "execute_result"
    }
   ],
   "source": [
    "random.sample(pages_and_text, k=1)"
   ]
  },
  {
   "cell_type": "code",
   "execution_count": 29,
   "id": "ecc188e5",
   "metadata": {},
   "outputs": [
    {
     "data": {
      "application/vnd.microsoft.datawrangler.viewer.v0+json": {
       "columns": [
        {
         "name": "index",
         "rawType": "object",
         "type": "string"
        },
        {
         "name": "page_number",
         "rawType": "float64",
         "type": "float"
        },
        {
         "name": "page_char_count",
         "rawType": "float64",
         "type": "float"
        },
        {
         "name": "page_word_count",
         "rawType": "float64",
         "type": "float"
        },
        {
         "name": "page_sentence_count",
         "rawType": "float64",
         "type": "float"
        },
        {
         "name": "page_token_count",
         "rawType": "float64",
         "type": "float"
        },
        {
         "name": "num_chunks",
         "rawType": "float64",
         "type": "float"
        }
       ],
       "ref": "cef5cce1-b0fa-4137-a24e-9ca70411c670",
       "rows": [
        [
         "count",
         "164.0",
         "164.0",
         "164.0",
         "164.0",
         "164.0",
         "164.0"
        ],
        [
         "mean",
         "77.5",
         "2462.57",
         "447.39",
         "14.12",
         "615.64",
         "1.9"
        ],
        [
         "std",
         "47.49",
         "449.37",
         "75.68",
         "4.24",
         "112.34",
         "0.5"
        ],
        [
         "min",
         "-4.0",
         "1387.0",
         "268.0",
         "6.0",
         "346.75",
         "1.0"
        ],
        [
         "25%",
         "36.75",
         "2198.0",
         "402.75",
         "11.0",
         "549.5",
         "2.0"
        ],
        [
         "50%",
         "77.5",
         "2548.5",
         "455.5",
         "14.0",
         "637.12",
         "2.0"
        ],
        [
         "75%",
         "118.25",
         "2783.5",
         "504.25",
         "17.0",
         "695.88",
         "2.0"
        ],
        [
         "max",
         "159.0",
         "3370.0",
         "605.0",
         "27.0",
         "842.5",
         "3.0"
        ]
       ],
       "shape": {
        "columns": 6,
        "rows": 8
       }
      },
      "text/html": [
       "<div>\n",
       "<style scoped>\n",
       "    .dataframe tbody tr th:only-of-type {\n",
       "        vertical-align: middle;\n",
       "    }\n",
       "\n",
       "    .dataframe tbody tr th {\n",
       "        vertical-align: top;\n",
       "    }\n",
       "\n",
       "    .dataframe thead th {\n",
       "        text-align: right;\n",
       "    }\n",
       "</style>\n",
       "<table border=\"1\" class=\"dataframe\">\n",
       "  <thead>\n",
       "    <tr style=\"text-align: right;\">\n",
       "      <th></th>\n",
       "      <th>page_number</th>\n",
       "      <th>page_char_count</th>\n",
       "      <th>page_word_count</th>\n",
       "      <th>page_sentence_count</th>\n",
       "      <th>page_token_count</th>\n",
       "      <th>num_chunks</th>\n",
       "    </tr>\n",
       "  </thead>\n",
       "  <tbody>\n",
       "    <tr>\n",
       "      <th>count</th>\n",
       "      <td>164.00</td>\n",
       "      <td>164.00</td>\n",
       "      <td>164.00</td>\n",
       "      <td>164.00</td>\n",
       "      <td>164.00</td>\n",
       "      <td>164.0</td>\n",
       "    </tr>\n",
       "    <tr>\n",
       "      <th>mean</th>\n",
       "      <td>77.50</td>\n",
       "      <td>2462.57</td>\n",
       "      <td>447.39</td>\n",
       "      <td>14.12</td>\n",
       "      <td>615.64</td>\n",
       "      <td>1.9</td>\n",
       "    </tr>\n",
       "    <tr>\n",
       "      <th>std</th>\n",
       "      <td>47.49</td>\n",
       "      <td>449.37</td>\n",
       "      <td>75.68</td>\n",
       "      <td>4.24</td>\n",
       "      <td>112.34</td>\n",
       "      <td>0.5</td>\n",
       "    </tr>\n",
       "    <tr>\n",
       "      <th>min</th>\n",
       "      <td>-4.00</td>\n",
       "      <td>1387.00</td>\n",
       "      <td>268.00</td>\n",
       "      <td>6.00</td>\n",
       "      <td>346.75</td>\n",
       "      <td>1.0</td>\n",
       "    </tr>\n",
       "    <tr>\n",
       "      <th>25%</th>\n",
       "      <td>36.75</td>\n",
       "      <td>2198.00</td>\n",
       "      <td>402.75</td>\n",
       "      <td>11.00</td>\n",
       "      <td>549.50</td>\n",
       "      <td>2.0</td>\n",
       "    </tr>\n",
       "    <tr>\n",
       "      <th>50%</th>\n",
       "      <td>77.50</td>\n",
       "      <td>2548.50</td>\n",
       "      <td>455.50</td>\n",
       "      <td>14.00</td>\n",
       "      <td>637.12</td>\n",
       "      <td>2.0</td>\n",
       "    </tr>\n",
       "    <tr>\n",
       "      <th>75%</th>\n",
       "      <td>118.25</td>\n",
       "      <td>2783.50</td>\n",
       "      <td>504.25</td>\n",
       "      <td>17.00</td>\n",
       "      <td>695.88</td>\n",
       "      <td>2.0</td>\n",
       "    </tr>\n",
       "    <tr>\n",
       "      <th>max</th>\n",
       "      <td>159.00</td>\n",
       "      <td>3370.00</td>\n",
       "      <td>605.00</td>\n",
       "      <td>27.00</td>\n",
       "      <td>842.50</td>\n",
       "      <td>3.0</td>\n",
       "    </tr>\n",
       "  </tbody>\n",
       "</table>\n",
       "</div>"
      ],
      "text/plain": [
       "       page_number  page_char_count  page_word_count  page_sentence_count  \\\n",
       "count       164.00           164.00           164.00               164.00   \n",
       "mean         77.50          2462.57           447.39                14.12   \n",
       "std          47.49           449.37            75.68                 4.24   \n",
       "min          -4.00          1387.00           268.00                 6.00   \n",
       "25%          36.75          2198.00           402.75                11.00   \n",
       "50%          77.50          2548.50           455.50                14.00   \n",
       "75%         118.25          2783.50           504.25                17.00   \n",
       "max         159.00          3370.00           605.00                27.00   \n",
       "\n",
       "       page_token_count  num_chunks  \n",
       "count            164.00       164.0  \n",
       "mean             615.64         1.9  \n",
       "std              112.34         0.5  \n",
       "min              346.75         1.0  \n",
       "25%              549.50         2.0  \n",
       "50%              637.12         2.0  \n",
       "75%              695.88         2.0  \n",
       "max              842.50         3.0  "
      ]
     },
     "execution_count": 29,
     "metadata": {},
     "output_type": "execute_result"
    }
   ],
   "source": [
    "import pandas as pd\n",
    "\n",
    "df = pd.DataFrame(pages_and_text)\n",
    "df.describe().round(2)"
   ]
  },
  {
   "cell_type": "code",
   "execution_count": 38,
   "id": "704a8c0d",
   "metadata": {},
   "outputs": [
    {
     "data": {
      "application/vnd.jupyter.widget-view+json": {
       "model_id": "197551e5c2b447fd85340c0b29c4fed4",
       "version_major": 2,
       "version_minor": 0
      },
      "text/plain": [
       "  0%|          | 0/164 [00:00<?, ?it/s]"
      ]
     },
     "metadata": {},
     "output_type": "display_data"
    },
    {
     "data": {
      "text/plain": [
       "312"
      ]
     },
     "execution_count": 38,
     "metadata": {},
     "output_type": "execute_result"
    }
   ],
   "source": [
    "import re\n",
    "\n",
    "pages_and_chunks = []\n",
    "\n",
    "for item in tqdm(pages_and_text):\n",
    "    for sentence_chunk in item[\"sentence_chunks\"]:\n",
    "        chunk_dict = {}\n",
    "        chunk_dict[\"page_number\"] = item[\"page_number\"]\n",
    "\n",
    "        joined_sentence_chunk = \"\".join(sentence_chunk).replace(\" \",\" \").strip()\n",
    "\n",
    "        chunk_dict[\"sentence_chunk\"] = joined_sentence_chunk\n",
    "\n",
    "        chunk_dict[\"chunk_char_count\"] = len(joined_sentence_chunk)\n",
    "        chunk_dict[\"chunk_word_count\"] = len([word for word in joined_sentence_chunk.split(\" \")])\n",
    "        chunk_dict[\"chunk_token_count\"] = len(joined_sentence_chunk) / 4\n",
    "\n",
    "        pages_and_chunks.append(chunk_dict)\n",
    "\n",
    "len(pages_and_chunks)"
   ]
  },
  {
   "cell_type": "code",
   "execution_count": 40,
   "id": "fdbd068c",
   "metadata": {},
   "outputs": [
    {
     "data": {
      "text/plain": [
       "[{'page_number': 101,\n",
       "  'sentence_chunk': 'Assault or criminal force to deter public servant from discharge of his duty: Whoever assaults or uses criminal force to any person being a public servant in the execution of his duty as such public servant, or with intent to prevent or deter that person from discharging his duty as such public servant, or in consequence of anything done or attempted to be done by such person in the lawful discharge of his duty as such public servant, shall be punished with imprisonment of either description for a term which may extend to two years, or with fine or with both.354.Assault or criminal force to woman with intent to outrage her modesty: Whoever assaults or uses criminal force to any woman, intending to outrage or knowing it to be likely that he will thereby outrage her modesty, shall be punished with imprisonment of either description for a term which may extend to two years or with fine, or with both.137[  354- Assault or use of criminal force to woman and stripping her of her clothes:',\n",
       "  'chunk_char_count': 996,\n",
       "  'chunk_word_count': 176,\n",
       "  'chunk_token_count': 249.0}]"
      ]
     },
     "execution_count": 40,
     "metadata": {},
     "output_type": "execute_result"
    }
   ],
   "source": [
    "random.sample(pages_and_chunks, k=1)"
   ]
  },
  {
   "cell_type": "code",
   "execution_count": 42,
   "id": "5930a083",
   "metadata": {},
   "outputs": [
    {
     "data": {
      "application/vnd.jupyter.widget-view+json": {
       "model_id": "28d51cc77d8242408e7e138ec24a3c8a",
       "version_major": 2,
       "version_minor": 0
      },
      "text/plain": [
       "modules.json:   0%|          | 0.00/349 [00:00<?, ?B/s]"
      ]
     },
     "metadata": {},
     "output_type": "display_data"
    },
    {
     "data": {
      "application/vnd.jupyter.widget-view+json": {
       "model_id": "1826fe4afd7e4848b0a0b7c968528734",
       "version_major": 2,
       "version_minor": 0
      },
      "text/plain": [
       "config_sentence_transformers.json:   0%|          | 0.00/116 [00:00<?, ?B/s]"
      ]
     },
     "metadata": {},
     "output_type": "display_data"
    },
    {
     "data": {
      "application/vnd.jupyter.widget-view+json": {
       "model_id": "25cbacd0576640bebab3f5ce705b900f",
       "version_major": 2,
       "version_minor": 0
      },
      "text/plain": [
       "README.md: 0.00B [00:00, ?B/s]"
      ]
     },
     "metadata": {},
     "output_type": "display_data"
    },
    {
     "data": {
      "application/vnd.jupyter.widget-view+json": {
       "model_id": "c149f69bd41f4de1a09c9ccce2bf5e7f",
       "version_major": 2,
       "version_minor": 0
      },
      "text/plain": [
       "sentence_bert_config.json:   0%|          | 0.00/53.0 [00:00<?, ?B/s]"
      ]
     },
     "metadata": {},
     "output_type": "display_data"
    },
    {
     "data": {
      "application/vnd.jupyter.widget-view+json": {
       "model_id": "ac14d59164874e63812109fd535503e5",
       "version_major": 2,
       "version_minor": 0
      },
      "text/plain": [
       "config.json:   0%|          | 0.00/571 [00:00<?, ?B/s]"
      ]
     },
     "metadata": {},
     "output_type": "display_data"
    },
    {
     "name": "stderr",
     "output_type": "stream",
     "text": [
      "Xet Storage is enabled for this repo, but the 'hf_xet' package is not installed. Falling back to regular HTTP download. For better performance, install the package with: `pip install huggingface_hub[hf_xet]` or `pip install hf_xet`\n"
     ]
    },
    {
     "data": {
      "application/vnd.jupyter.widget-view+json": {
       "model_id": "d5fea68d7873428cac2c3dc5002288fb",
       "version_major": 2,
       "version_minor": 0
      },
      "text/plain": [
       "model.safetensors:   0%|          | 0.00/438M [00:00<?, ?B/s]"
      ]
     },
     "metadata": {},
     "output_type": "display_data"
    },
    {
     "data": {
      "application/vnd.jupyter.widget-view+json": {
       "model_id": "5a1fce11b37f497380f9a1768be959ca",
       "version_major": 2,
       "version_minor": 0
      },
      "text/plain": [
       "tokenizer_config.json:   0%|          | 0.00/363 [00:00<?, ?B/s]"
      ]
     },
     "metadata": {},
     "output_type": "display_data"
    },
    {
     "data": {
      "application/vnd.jupyter.widget-view+json": {
       "model_id": "deaa99ba638d488690d6671f98644b9c",
       "version_major": 2,
       "version_minor": 0
      },
      "text/plain": [
       "vocab.txt: 0.00B [00:00, ?B/s]"
      ]
     },
     "metadata": {},
     "output_type": "display_data"
    },
    {
     "data": {
      "application/vnd.jupyter.widget-view+json": {
       "model_id": "7b6c481cca034a369806b882d34990e6",
       "version_major": 2,
       "version_minor": 0
      },
      "text/plain": [
       "tokenizer.json: 0.00B [00:00, ?B/s]"
      ]
     },
     "metadata": {},
     "output_type": "display_data"
    },
    {
     "data": {
      "application/vnd.jupyter.widget-view+json": {
       "model_id": "3b44feabf0044ba8a928641e665f409c",
       "version_major": 2,
       "version_minor": 0
      },
      "text/plain": [
       "special_tokens_map.json:   0%|          | 0.00/239 [00:00<?, ?B/s]"
      ]
     },
     "metadata": {},
     "output_type": "display_data"
    },
    {
     "data": {
      "application/vnd.jupyter.widget-view+json": {
       "model_id": "6bf13c5ebee44a5ab2aba07e13fb650d",
       "version_major": 2,
       "version_minor": 0
      },
      "text/plain": [
       "config.json:   0%|          | 0.00/190 [00:00<?, ?B/s]"
      ]
     },
     "metadata": {},
     "output_type": "display_data"
    },
    {
     "name": "stderr",
     "output_type": "stream",
     "text": [
      "UsageError: Line magic function `%%` not found.\n"
     ]
    }
   ],
   "source": [
    "from sentence_transformers import SentenceTransformer\n",
    "\n",
    "model = SentenceTransformer('all-mpnet-base-v2', device='cpu')\n",
    "\n",
    "%% time\n",
    "\n",
    "model.to('cpu')\n",
    "\n",
    "for item in tqdm(pages_and_chunks):\n",
    "    item[\"embedding\"] = model.encode(item[\"sentence_chunk\"])\n",
    "\n"
   ]
  },
  {
   "cell_type": "code",
   "execution_count": 48,
   "id": "8ece2819",
   "metadata": {},
   "outputs": [
    {
     "data": {
      "text/plain": [
       "'394.Voluntarily causing hurt in committing robbery: If any person, in committing or in attempting to commit robbery, voluntarily causes hurt, such person, and any other person jointly concerned in committing or attempting to commit such robbery, shall be punished with imprisonment for life, or with rigorous imprisonment for a term  157[which shall not be less than four years nor more than] 157 ten years, and shall also be liable to fine.395.Punishment for dacoity: Whoever commits dacoity shall be punished with imprisonment for life, or with rigorous imprisonment for a term which shall not be less than four years nor more than ten years and shall also be liable to fine.396.Dacoity with murder: If any one of five or more persons, who are conjointly committing dacoity, commits murder in so committing dacoity, everyone of those persons shall be punished with death, or imprisonment for life, or rigorous imprisonment for a term which  158[shall not be less than four years nor more than] 158 ten years, and shall also be liable to fine.397.Robbery or dacoity, with attempt to cause death or grievous hurt: If, at the time of committing robbery or dacoity, the offender uses any deadly weapon, or causes grievous hurt to any person or attempts to cause death or grievous hurt to any person the imprisonment with which such offender shall be punished shall not be less than seven years.398.Attempt to commit robbery or dacoity when armed with deadly weapon:  If, at the time of attempting to commit robbery or dacoity, the offender is armed with any deadly weapon, the imprisonment with which such offender shall be punished shall not be less than seven years.'"
      ]
     },
     "execution_count": 48,
     "metadata": {},
     "output_type": "execute_result"
    }
   ],
   "source": [
    "text_chunks = [item[\"sentence_chunk\"] for item in pages_and_chunks]\n",
    "text_chunks[220]"
   ]
  },
  {
   "cell_type": "code",
   "execution_count": 49,
   "id": "cf54ddde",
   "metadata": {},
   "outputs": [
    {
     "data": {
      "text/plain": [
       "312"
      ]
     },
     "execution_count": 49,
     "metadata": {},
     "output_type": "execute_result"
    }
   ],
   "source": [
    "len(text_chunks)"
   ]
  },
  {
   "cell_type": "code",
   "execution_count": 50,
   "id": "2596e7f4",
   "metadata": {},
   "outputs": [
    {
     "data": {
      "text/plain": [
       "tensor([[ 2.4755e-02, -6.1537e-02,  1.9320e-02,  ...,  4.5774e-02,\n",
       "         -4.1376e-02,  2.0377e-02],\n",
       "        [ 1.0911e-02, -4.6941e-02,  1.6341e-02,  ...,  4.4782e-02,\n",
       "         -8.5377e-02, -5.3400e-03],\n",
       "        [ 2.6155e-02, -1.9259e-02,  2.7876e-02,  ...,  7.4784e-02,\n",
       "         -7.1943e-02,  2.9807e-02],\n",
       "        ...,\n",
       "        [-1.5212e-03,  1.3224e-02,  2.2889e-02,  ..., -1.7561e-02,\n",
       "         -9.9031e-02,  2.0125e-02],\n",
       "        [ 1.4144e-02,  1.3743e-02, -7.9148e-05,  ..., -1.4128e-04,\n",
       "         -7.8975e-02, -7.6367e-03],\n",
       "        [-1.5661e-02, -5.7370e-02,  9.2282e-03,  ...,  5.9224e-02,\n",
       "         -3.1768e-02,  3.1754e-02]])"
      ]
     },
     "execution_count": 50,
     "metadata": {},
     "output_type": "execute_result"
    }
   ],
   "source": [
    "text_chunk_embeddings = model.encode(text_chunks, batch_size=32, convert_to_tensor=True)\n",
    "\n",
    "text_chunk_embeddings"
   ]
  },
  {
   "cell_type": "code",
   "execution_count": null,
   "id": "ffa1eebf",
   "metadata": {},
   "outputs": [],
   "source": []
  }
 ],
 "metadata": {
  "kernelspec": {
   "display_name": "Python 3",
   "language": "python",
   "name": "python3"
  },
  "language_info": {
   "codemirror_mode": {
    "name": "ipython",
    "version": 3
   },
   "file_extension": ".py",
   "mimetype": "text/x-python",
   "name": "python",
   "nbconvert_exporter": "python",
   "pygments_lexer": "ipython3",
   "version": "3.12.10"
  }
 },
 "nbformat": 4,
 "nbformat_minor": 5
}
