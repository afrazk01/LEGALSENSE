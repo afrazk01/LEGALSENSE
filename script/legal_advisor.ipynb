{
 "cells": [
  {
   "cell_type": "code",
   "execution_count": 1,
   "id": "0e50c0e4",
   "metadata": {},
   "outputs": [
    {
     "data": {
      "application/vnd.jupyter.widget-view+json": {
       "model_id": "2bc5a9a4af5d43b8b54b92d760f91a2c",
       "version_major": 2,
       "version_minor": 0
      },
      "text/plain": [
       "0it [00:00, ?it/s]"
      ]
     },
     "metadata": {},
     "output_type": "display_data"
    },
    {
     "data": {
      "text/plain": [
       "[{'page_number': -4,\n",
       "  'page_char_count': 1651,\n",
       "  'page_word_count': 283,\n",
       "  'page_sentence_count': 14,\n",
       "  'page_token_count': 412.75,\n",
       "  'text': 'Pakistan Penal Code (Act XLV of 1860) Act XLV of 1860 October 6th, 1860 Amended by: Protection of Women (Criminal Laws Amendment) Act, 2006,Criminal Laws (Amendment) Act, 2004 (I of 2005),Criminal Law (Amendment) Ordinance (LXXXV of 2002),Criminal Laws (Reforms) Ordinance (LXXXVI of 2002),etc.  Whereas it is expedient to provide a general Penal Code for Pakistan:  It is enacted as follows:-   CHAPTER I INTRODUCTION 1. Title and extent of operation of the Code. This Act shall be called the Pakistan Penal Code, and shall take effect throughout Pakistan.   2. Punishment of offences committed within Pakistan. Every person shall be liable to punishment under this Code and not otherwise for every act or omission contrary to the provisions thereof, of which he shall be guilty within Pakistan.   3. Punishment of offences committed beyond, but which by law may be tried within Pakistan. Any person liable, by any Pakistan Law, to be tried for an offence committed beyond Pakistan shall be dealt with according to the provision of this Code for any act committed beyond Pakistan in the same manner as if such act had been committed within Pakistan.   4. Extension of Code to extra-territorial offences. The provisions of this Code apply also to any offence committed by:-   1[(1) any citizen of Pakistan or any person in the service of Pakistan in any place without and beyond Pakistan;] 1  2[] 2 4[] 4  (4) any person on any ship or aircraft registered in Pakistan wherever it may be. Explanation: In this section the word \"offence\" includes every act committed outside Pakistan which, if committed in Pakistan, would be punishable under this Code.'},\n",
       " {'page_number': -3,\n",
       "  'page_char_count': 1896,\n",
       "  'page_word_count': 353,\n",
       "  'page_sentence_count': 14,\n",
       "  'page_token_count': 474.0,\n",
       "  'text': 'Illustrations (a) A, a Pakistan subject, commits a murder in Uganda. He can be tried and convicted of murder in any place in Pakistan in which he may be found.     5[] 5   6[(c) C, a foreigner who is in the service of Pakistan commits a murder in London. He can be tried and convicted of murder at any place in Pakistan in which he may be found.] 6   (d) D, a British subject living in Junagadh, instigates E to commit a murder in Lahore. D is guilty of abetting murder.       7[  5. Certain laws not to be affected by this Act. Nothing in this Act is intended to repeal, vary, suspend or affect any of the provisions of any Act for punishing mutiny and desertion of officers, soldiers, sailors or airmen in the service of the State or of any special or local law.   ] 7   CHAPTER II GENERAL EXPLANATIONS 6. Definitions in the code to be understood subject to exceptions. Throughout this Code every definition of an offence, every penal provision and every illustration of every such definition or penal provision, shall be understood subject to the exceptions contained in the chapter entitled \"General Exceptions,\" though those exceptions are not repeated in such definition, penal provision or illustration.  Illustrations (a) The sections in this Code, which contains definitions of offences, do not express that a child under seven years of age cannot commit such offences; but the definitions are to be understood subject to the general exception which provides that nothing shall be an offence which is done by a child under seven years of age.    (b) A, a police officer, without warrant, apprehends Z who has committed murder. Here A is not guilty of the offence of wrongful confinement; for he was bound by law to apprehend Z, and, therefore, the case falls within the general exception which provides that \"nothing is an offence which is done by a person who is bound by law to do it.\"'}]"
      ]
     },
     "execution_count": 1,
     "metadata": {},
     "output_type": "execute_result"
    }
   ],
   "source": [
    "import os\n",
    "import fitz\n",
    "from tqdm.auto import tqdm\n",
    "\n",
    "pdf_path = \"U:\\\\LEGALSENSE\\\\script\\\\Pakistan Penal Code.pdf\"\n",
    "\n",
    "\n",
    "def text_formatter(text: str) -> str:\n",
    "    cleaned_text = text.replace(\"\\n\", \"\").strip()\n",
    "    return cleaned_text\n",
    "\n",
    "\n",
    "def open_and_read_pdf(pdf_path: str) -> list[dict]:\n",
    "    doc = fitz.open(pdf_path)\n",
    "    pages_and_text = []\n",
    "    for page_number, page in tqdm(enumerate(doc)):\n",
    "        text = page.get_text()\n",
    "        text = text_formatter(text=text)\n",
    "        pages_and_text.append({\"page_number\": page_number - 4,\n",
    "                               \"page_char_count\": len(text),\n",
    "                               \"page_word_count\": len(text.split(\" \")),\n",
    "                               \"page_sentence_count\": len(text.split(\". \")),\n",
    "                               \"page_token_count\": len(text) / 4,\n",
    "                               \"text\": text})\n",
    "    return pages_and_text\n",
    "\n",
    "\n",
    "pages_and_text = open_and_read_pdf(pdf_path=pdf_path)\n",
    "pages_and_text[:2]"
   ]
  },
  {
   "cell_type": "code",
   "execution_count": 21,
   "id": "ec1adf27",
   "metadata": {},
   "outputs": [
    {
     "name": "stderr",
     "output_type": "stream",
     "text": [
      "[nltk_data] Downloading package punkt to\n",
      "[nltk_data]     C:\\Users\\Huzaifa\\AppData\\Roaming\\nltk_data...\n"
     ]
    },
    {
     "name": "stdout",
     "output_type": "stream",
     "text": [
      "['My name is Huzaifa.', 'I am a CS student at PU']\n"
     ]
    },
    {
     "name": "stderr",
     "output_type": "stream",
     "text": [
      "[nltk_data]   Package punkt is already up-to-date!\n"
     ]
    }
   ],
   "source": [
    "import nltk\n",
    "nltk.download('punkt')\n",
    "\n",
    "from nltk.tokenize import sent_tokenize\n",
    "\n",
    "text = \"My name is Huzaifa. I am a CS student at PU\"\n",
    "sentences = sent_tokenize(text)\n",
    "\n",
    "print(sentences)\n",
    "\n"
   ]
  },
  {
   "cell_type": "code",
   "execution_count": 22,
   "id": "cba7ea14",
   "metadata": {},
   "outputs": [
    {
     "data": {
      "application/vnd.jupyter.widget-view+json": {
       "model_id": "0f156e078ccf4a1cb8a4398619759758",
       "version_major": 2,
       "version_minor": 0
      },
      "text/plain": [
       "  0%|          | 0/164 [00:00<?, ?it/s]"
      ]
     },
     "metadata": {},
     "output_type": "display_data"
    }
   ],
   "source": [
    "for item in tqdm(pages_and_text):\n",
    "    item[\"sentences\"] = list(sent_tokenize(item[\"text\"]))\n",
    "    item[\"page_sentence_count\"] = len(item[\"sentences\"])\n",
    "    "
   ]
  },
  {
   "cell_type": "code",
   "execution_count": 25,
   "id": "4803b407",
   "metadata": {},
   "outputs": [
    {
     "data": {
      "text/plain": [
       "[{'page_number': 102,\n",
       "  'page_char_count': 2324,\n",
       "  'page_word_count': 404,\n",
       "  'page_sentence_count': 17,\n",
       "  'page_token_count': 581.0,\n",
       "  'text': 'A. Whoever assaults or uses criminal force to any woman and strips her of her clothes and in that condition, exposes her to the public view, shall be punished with death or with imprisonment for life, and shall also be liable to fine.   ] 137  355. Assault or criminal force with intent to dishonour person, otherwise than on grave provocation: Whoever assaults or uses criminal force to any person, intending thereby to dishonour that person, otherwise than on grave and sudden provocation given by that person, shall be punished with imprisonment of either description for a term which may extend to two years, or with fine, or with both.   356. Assault or criminal force in attempt to commit theft of property carried by a person: Whoever assaults or uses criminal force to any person in attempting to commit theft on any property which that person is then wearing or carrying shall be punished with imprisonment of either description for a term which may extend to two years, or with fine, or with both.   357. Assault or criminal force in attempting wrongfully to confine person: Whoever assaults or uses criminal force to any person, in attempting wrongfully to confine that person, shall be punished with imprisonment of either description for a term which may extend to one year or with fine which may extend to  138[three thousand rupees] 138, or with both.   358. Assault or criminal force on grave provocation: Whoever assaults or uses criminal force to any person on grave and sudden provocation given by that person, shall be punished with simple imprisonment for a term which may extend to one month or with fine which may extend to  139[six hundred rupees] 139, or with both.  Explanation: The last section is subject to the same explanation as Section 352.     Of Kidnapping, Abduction, Slavery and Forced Labour 359. Kidnapping: Kidnapping is of two kinds: Kidnapping from Pakistan and kidnapping from lawful guardianship.   360. Kidnapping from Pakistan, etc.: Whoever conveys any person beyond the limits of Pakistan without the consent of that person, or of some person legally authorised to consent on behalf of that person is said to kidnap that person from Pakistan.   361. Kidnapping from lawful guardianship: Whoever takes or entices any minor under fourteen years of age if a male, or under sixteen',\n",
       "  'sentences': ['A. Whoever assaults or uses criminal force to any woman and strips her of her clothes and in that condition, exposes her to the public view, shall be punished with death or with imprisonment for life, and shall also be liable to fine.   ]',\n",
       "   '137  355.',\n",
       "   'Assault or criminal force with intent to dishonour person, otherwise than on grave provocation: Whoever assaults or uses criminal force to any person, intending thereby to dishonour that person, otherwise than on grave and sudden provocation given by that person, shall be punished with imprisonment of either description for a term which may extend to two years, or with fine, or with both.',\n",
       "   '356.',\n",
       "   'Assault or criminal force in attempt to commit theft of property carried by a person: Whoever assaults or uses criminal force to any person in attempting to commit theft on any property which that person is then wearing or carrying shall be punished with imprisonment of either description for a term which may extend to two years, or with fine, or with both.',\n",
       "   '357.',\n",
       "   'Assault or criminal force in attempting wrongfully to confine person: Whoever assaults or uses criminal force to any person, in attempting wrongfully to confine that person, shall be punished with imprisonment of either description for a term which may extend to one year or with fine which may extend to  138[three thousand rupees] 138, or with both.',\n",
       "   '358.',\n",
       "   'Assault or criminal force on grave provocation: Whoever assaults or uses criminal force to any person on grave and sudden provocation given by that person, shall be punished with simple imprisonment for a term which may extend to one month or with fine which may extend to  139[six hundred rupees] 139, or with both.',\n",
       "   'Explanation: The last section is subject to the same explanation as Section 352.',\n",
       "   'Of Kidnapping, Abduction, Slavery and Forced Labour 359.',\n",
       "   'Kidnapping: Kidnapping is of two kinds: Kidnapping from Pakistan and kidnapping from lawful guardianship.',\n",
       "   '360.',\n",
       "   'Kidnapping from Pakistan, etc.',\n",
       "   ': Whoever conveys any person beyond the limits of Pakistan without the consent of that person, or of some person legally authorised to consent on behalf of that person is said to kidnap that person from Pakistan.',\n",
       "   '361.',\n",
       "   'Kidnapping from lawful guardianship: Whoever takes or entices any minor under fourteen years of age if a male, or under sixteen']}]"
      ]
     },
     "execution_count": 25,
     "metadata": {},
     "output_type": "execute_result"
    }
   ],
   "source": [
    "import random\n",
    "\n",
    "random.sample(pages_and_text, k=1)"
   ]
  },
  {
   "cell_type": "code",
   "execution_count": 26,
   "id": "a6ab9287",
   "metadata": {},
   "outputs": [
    {
     "data": {
      "text/plain": [
       "[[0, 1, 2, 3, 4, 5, 6, 7, 8, 9],\n",
       " [10, 11, 12, 13, 14, 15, 16, 17, 18, 19],\n",
       " [20, 21, 22, 23, 24, 25, 26, 27, 28, 29],\n",
       " [30, 31, 32, 33, 34, 35, 36, 37, 38]]"
      ]
     },
     "execution_count": 26,
     "metadata": {},
     "output_type": "execute_result"
    }
   ],
   "source": [
    "chunk_size_num = 10\n",
    "\n",
    "def split_list(input_list : list[str],\n",
    "               slice_size : int = chunk_size_num) -> list[list[str]]:\n",
    "    return [input_list[i:i + slice_size] for i in range(0, len(input_list), slice_size)]\n",
    "\n",
    "test_split = list(range(39))\n",
    "split_list(test_split)"
   ]
  },
  {
   "cell_type": "code",
   "execution_count": 27,
   "id": "c7eabe2f",
   "metadata": {},
   "outputs": [
    {
     "data": {
      "application/vnd.jupyter.widget-view+json": {
       "model_id": "dd0630ad35ca41db9bd79898f0572f4b",
       "version_major": 2,
       "version_minor": 0
      },
      "text/plain": [
       "  0%|          | 0/164 [00:00<?, ?it/s]"
      ]
     },
     "metadata": {},
     "output_type": "display_data"
    }
   ],
   "source": [
    "for item in tqdm(pages_and_text):\n",
    "    item[\"sentence_chunks\"] = split_list(input_list=item[\"sentences\"],\n",
    "                                         slice_size=chunk_size_num)\n",
    "    item['num_chunks'] = len(item[\"sentence_chunks\"])"
   ]
  },
  {
   "cell_type": "code",
   "execution_count": 28,
   "id": "4a8dec2c",
   "metadata": {},
   "outputs": [
    {
     "data": {
      "text/plain": [
       "[{'page_number': 14,\n",
       "  'page_char_count': 2788,\n",
       "  'page_word_count': 532,\n",
       "  'page_sentence_count': 20,\n",
       "  'page_token_count': 697.0,\n",
       "  'text': \"likely to cause, to the person giving the consent or on whose behalf the consent is given.  Illustration Causing miscarriage (unless caused in good faith for the purpose of saving the life of the woman) to an offence independently of any harm which it may cause or be intended, to cause to the woman. Therefore it is not an offence by reason of such harm; and the consent of the woman or of her guardian to the causing of such miscarriage dose not justify the act.    92. Act done in good faith for benefit of a person without consent: Nothing an offence by reason of any harm which it may cause to a person by whose benefit it is done in good faith even without that person's consent, if the Circumstances are such that is impossible for that person to signify consent, or if that person is incapable of giving consent, and has no guardian or other person in lawful charge of him from whom it is possible to obtain consent in time for the thing to be done with benefit:  Provided  First:  That this exception shall not extend to the intentional causing of death, or the attempting to cause death;  Secondly: That this exception shall not extend to the doing of anything which the person doing it knows to be likely to cause death, for any purpose other than the preventing of death or grievous, hurt, or the curing of any grievous disease or infirmity;  Thirdly:  That this exception shall not extend to the voluntary causing of hurt, or to the attempting to cause hurt for any purpose other than the preventing of death or hurt;  Fourthly:  That this exception shall not extend to the abetment of any offence, to the committing of which offence it would not extend.   Illustrations (a) Z is thrown from his horse, and is insensible. A, a surgeon, finds that Z requires to be trepanned. A not Intending Z's death but in good faith for Z's benefit, performs the trepan before Z recovers his power of judging for himself. A has committed no offence.   (b) Z is carried off by a tiger. A fires at the tiger knowing it to be likely that the shot may kill Z, but not intending to kill Z, and in good faith intending Z's benefit A's ball gives Z a mortal wound. A has committed no offence.    (c) A, a surgeon, sees child suffer an accident which is likely to prove fatal unless an operation be immediately performed. There is no time to apply to the child's guardian. A performs the operation in spite of the entreaties of the child, intending, in good faith, the child's benefit. A has committed no offence.    (d) A is in a house which is on fire with Z, a child. People below hold out a blanket. A drops the child from the house-top, knowing it to be likely that the fall may kill the child, but not intending to kill the child and intending, in good faith, the child's benefit. Here even,\",\n",
       "  'sentences': ['likely to cause, to the person giving the consent or on whose behalf the consent is given.',\n",
       "   'Illustration Causing miscarriage (unless caused in good faith for the purpose of saving the life of the woman) to an offence independently of any harm which it may cause or be intended, to cause to the woman.',\n",
       "   'Therefore it is not an offence by reason of such harm; and the consent of the woman or of her guardian to the causing of such miscarriage dose not justify the act.',\n",
       "   '92.',\n",
       "   \"Act done in good faith for benefit of a person without consent: Nothing an offence by reason of any harm which it may cause to a person by whose benefit it is done in good faith even without that person's consent, if the Circumstances are such that is impossible for that person to signify consent, or if that person is incapable of giving consent, and has no guardian or other person in lawful charge of him from whom it is possible to obtain consent in time for the thing to be done with benefit:  Provided  First:  That this exception shall not extend to the intentional causing of death, or the attempting to cause death;  Secondly: That this exception shall not extend to the doing of anything which the person doing it knows to be likely to cause death, for any purpose other than the preventing of death or grievous, hurt, or the curing of any grievous disease or infirmity;  Thirdly:  That this exception shall not extend to the voluntary causing of hurt, or to the attempting to cause hurt for any purpose other than the preventing of death or hurt;  Fourthly:  That this exception shall not extend to the abetment of any offence, to the committing of which offence it would not extend.\",\n",
       "   'Illustrations (a) Z is thrown from his horse, and is insensible.',\n",
       "   'A, a surgeon, finds that Z requires to be trepanned.',\n",
       "   \"A not Intending Z's death but in good faith for Z's benefit, performs the trepan before Z recovers his power of judging for himself.\",\n",
       "   'A has committed no offence.',\n",
       "   '(b) Z is carried off by a tiger.',\n",
       "   \"A fires at the tiger knowing it to be likely that the shot may kill Z, but not intending to kill Z, and in good faith intending Z's benefit A's ball gives Z a mortal wound.\",\n",
       "   'A has committed no offence.',\n",
       "   '(c) A, a surgeon, sees child suffer an accident which is likely to prove fatal unless an operation be immediately performed.',\n",
       "   \"There is no time to apply to the child's guardian.\",\n",
       "   \"A performs the operation in spite of the entreaties of the child, intending, in good faith, the child's benefit.\",\n",
       "   'A has committed no offence.',\n",
       "   '(d) A is in a house which is on fire with Z, a child.',\n",
       "   'People below hold out a blanket.',\n",
       "   \"A drops the child from the house-top, knowing it to be likely that the fall may kill the child, but not intending to kill the child and intending, in good faith, the child's benefit.\",\n",
       "   'Here even,'],\n",
       "  'sentence_chunks': [['likely to cause, to the person giving the consent or on whose behalf the consent is given.',\n",
       "    'Illustration Causing miscarriage (unless caused in good faith for the purpose of saving the life of the woman) to an offence independently of any harm which it may cause or be intended, to cause to the woman.',\n",
       "    'Therefore it is not an offence by reason of such harm; and the consent of the woman or of her guardian to the causing of such miscarriage dose not justify the act.',\n",
       "    '92.',\n",
       "    \"Act done in good faith for benefit of a person without consent: Nothing an offence by reason of any harm which it may cause to a person by whose benefit it is done in good faith even without that person's consent, if the Circumstances are such that is impossible for that person to signify consent, or if that person is incapable of giving consent, and has no guardian or other person in lawful charge of him from whom it is possible to obtain consent in time for the thing to be done with benefit:  Provided  First:  That this exception shall not extend to the intentional causing of death, or the attempting to cause death;  Secondly: That this exception shall not extend to the doing of anything which the person doing it knows to be likely to cause death, for any purpose other than the preventing of death or grievous, hurt, or the curing of any grievous disease or infirmity;  Thirdly:  That this exception shall not extend to the voluntary causing of hurt, or to the attempting to cause hurt for any purpose other than the preventing of death or hurt;  Fourthly:  That this exception shall not extend to the abetment of any offence, to the committing of which offence it would not extend.\",\n",
       "    'Illustrations (a) Z is thrown from his horse, and is insensible.',\n",
       "    'A, a surgeon, finds that Z requires to be trepanned.',\n",
       "    \"A not Intending Z's death but in good faith for Z's benefit, performs the trepan before Z recovers his power of judging for himself.\",\n",
       "    'A has committed no offence.',\n",
       "    '(b) Z is carried off by a tiger.'],\n",
       "   [\"A fires at the tiger knowing it to be likely that the shot may kill Z, but not intending to kill Z, and in good faith intending Z's benefit A's ball gives Z a mortal wound.\",\n",
       "    'A has committed no offence.',\n",
       "    '(c) A, a surgeon, sees child suffer an accident which is likely to prove fatal unless an operation be immediately performed.',\n",
       "    \"There is no time to apply to the child's guardian.\",\n",
       "    \"A performs the operation in spite of the entreaties of the child, intending, in good faith, the child's benefit.\",\n",
       "    'A has committed no offence.',\n",
       "    '(d) A is in a house which is on fire with Z, a child.',\n",
       "    'People below hold out a blanket.',\n",
       "    \"A drops the child from the house-top, knowing it to be likely that the fall may kill the child, but not intending to kill the child and intending, in good faith, the child's benefit.\",\n",
       "    'Here even,']],\n",
       "  'num_chunks': 2}]"
      ]
     },
     "execution_count": 28,
     "metadata": {},
     "output_type": "execute_result"
    }
   ],
   "source": [
    "random.sample(pages_and_text, k=1)"
   ]
  },
  {
   "cell_type": "code",
   "execution_count": 29,
   "id": "ecc188e5",
   "metadata": {},
   "outputs": [
    {
     "data": {
      "application/vnd.microsoft.datawrangler.viewer.v0+json": {
       "columns": [
        {
         "name": "index",
         "rawType": "object",
         "type": "string"
        },
        {
         "name": "page_number",
         "rawType": "float64",
         "type": "float"
        },
        {
         "name": "page_char_count",
         "rawType": "float64",
         "type": "float"
        },
        {
         "name": "page_word_count",
         "rawType": "float64",
         "type": "float"
        },
        {
         "name": "page_sentence_count",
         "rawType": "float64",
         "type": "float"
        },
        {
         "name": "page_token_count",
         "rawType": "float64",
         "type": "float"
        },
        {
         "name": "num_chunks",
         "rawType": "float64",
         "type": "float"
        }
       ],
       "ref": "cef5cce1-b0fa-4137-a24e-9ca70411c670",
       "rows": [
        [
         "count",
         "164.0",
         "164.0",
         "164.0",
         "164.0",
         "164.0",
         "164.0"
        ],
        [
         "mean",
         "77.5",
         "2462.57",
         "447.39",
         "14.12",
         "615.64",
         "1.9"
        ],
        [
         "std",
         "47.49",
         "449.37",
         "75.68",
         "4.24",
         "112.34",
         "0.5"
        ],
        [
         "min",
         "-4.0",
         "1387.0",
         "268.0",
         "6.0",
         "346.75",
         "1.0"
        ],
        [
         "25%",
         "36.75",
         "2198.0",
         "402.75",
         "11.0",
         "549.5",
         "2.0"
        ],
        [
         "50%",
         "77.5",
         "2548.5",
         "455.5",
         "14.0",
         "637.12",
         "2.0"
        ],
        [
         "75%",
         "118.25",
         "2783.5",
         "504.25",
         "17.0",
         "695.88",
         "2.0"
        ],
        [
         "max",
         "159.0",
         "3370.0",
         "605.0",
         "27.0",
         "842.5",
         "3.0"
        ]
       ],
       "shape": {
        "columns": 6,
        "rows": 8
       }
      },
      "text/html": [
       "<div>\n",
       "<style scoped>\n",
       "    .dataframe tbody tr th:only-of-type {\n",
       "        vertical-align: middle;\n",
       "    }\n",
       "\n",
       "    .dataframe tbody tr th {\n",
       "        vertical-align: top;\n",
       "    }\n",
       "\n",
       "    .dataframe thead th {\n",
       "        text-align: right;\n",
       "    }\n",
       "</style>\n",
       "<table border=\"1\" class=\"dataframe\">\n",
       "  <thead>\n",
       "    <tr style=\"text-align: right;\">\n",
       "      <th></th>\n",
       "      <th>page_number</th>\n",
       "      <th>page_char_count</th>\n",
       "      <th>page_word_count</th>\n",
       "      <th>page_sentence_count</th>\n",
       "      <th>page_token_count</th>\n",
       "      <th>num_chunks</th>\n",
       "    </tr>\n",
       "  </thead>\n",
       "  <tbody>\n",
       "    <tr>\n",
       "      <th>count</th>\n",
       "      <td>164.00</td>\n",
       "      <td>164.00</td>\n",
       "      <td>164.00</td>\n",
       "      <td>164.00</td>\n",
       "      <td>164.00</td>\n",
       "      <td>164.0</td>\n",
       "    </tr>\n",
       "    <tr>\n",
       "      <th>mean</th>\n",
       "      <td>77.50</td>\n",
       "      <td>2462.57</td>\n",
       "      <td>447.39</td>\n",
       "      <td>14.12</td>\n",
       "      <td>615.64</td>\n",
       "      <td>1.9</td>\n",
       "    </tr>\n",
       "    <tr>\n",
       "      <th>std</th>\n",
       "      <td>47.49</td>\n",
       "      <td>449.37</td>\n",
       "      <td>75.68</td>\n",
       "      <td>4.24</td>\n",
       "      <td>112.34</td>\n",
       "      <td>0.5</td>\n",
       "    </tr>\n",
       "    <tr>\n",
       "      <th>min</th>\n",
       "      <td>-4.00</td>\n",
       "      <td>1387.00</td>\n",
       "      <td>268.00</td>\n",
       "      <td>6.00</td>\n",
       "      <td>346.75</td>\n",
       "      <td>1.0</td>\n",
       "    </tr>\n",
       "    <tr>\n",
       "      <th>25%</th>\n",
       "      <td>36.75</td>\n",
       "      <td>2198.00</td>\n",
       "      <td>402.75</td>\n",
       "      <td>11.00</td>\n",
       "      <td>549.50</td>\n",
       "      <td>2.0</td>\n",
       "    </tr>\n",
       "    <tr>\n",
       "      <th>50%</th>\n",
       "      <td>77.50</td>\n",
       "      <td>2548.50</td>\n",
       "      <td>455.50</td>\n",
       "      <td>14.00</td>\n",
       "      <td>637.12</td>\n",
       "      <td>2.0</td>\n",
       "    </tr>\n",
       "    <tr>\n",
       "      <th>75%</th>\n",
       "      <td>118.25</td>\n",
       "      <td>2783.50</td>\n",
       "      <td>504.25</td>\n",
       "      <td>17.00</td>\n",
       "      <td>695.88</td>\n",
       "      <td>2.0</td>\n",
       "    </tr>\n",
       "    <tr>\n",
       "      <th>max</th>\n",
       "      <td>159.00</td>\n",
       "      <td>3370.00</td>\n",
       "      <td>605.00</td>\n",
       "      <td>27.00</td>\n",
       "      <td>842.50</td>\n",
       "      <td>3.0</td>\n",
       "    </tr>\n",
       "  </tbody>\n",
       "</table>\n",
       "</div>"
      ],
      "text/plain": [
       "       page_number  page_char_count  page_word_count  page_sentence_count  \\\n",
       "count       164.00           164.00           164.00               164.00   \n",
       "mean         77.50          2462.57           447.39                14.12   \n",
       "std          47.49           449.37            75.68                 4.24   \n",
       "min          -4.00          1387.00           268.00                 6.00   \n",
       "25%          36.75          2198.00           402.75                11.00   \n",
       "50%          77.50          2548.50           455.50                14.00   \n",
       "75%         118.25          2783.50           504.25                17.00   \n",
       "max         159.00          3370.00           605.00                27.00   \n",
       "\n",
       "       page_token_count  num_chunks  \n",
       "count            164.00       164.0  \n",
       "mean             615.64         1.9  \n",
       "std              112.34         0.5  \n",
       "min              346.75         1.0  \n",
       "25%              549.50         2.0  \n",
       "50%              637.12         2.0  \n",
       "75%              695.88         2.0  \n",
       "max              842.50         3.0  "
      ]
     },
     "execution_count": 29,
     "metadata": {},
     "output_type": "execute_result"
    }
   ],
   "source": [
    "import pandas as pd\n",
    "\n",
    "df = pd.DataFrame(pages_and_text)\n",
    "df.describe().round(2)"
   ]
  },
  {
   "cell_type": "code",
   "execution_count": 38,
   "id": "704a8c0d",
   "metadata": {},
   "outputs": [
    {
     "data": {
      "application/vnd.jupyter.widget-view+json": {
       "model_id": "197551e5c2b447fd85340c0b29c4fed4",
       "version_major": 2,
       "version_minor": 0
      },
      "text/plain": [
       "  0%|          | 0/164 [00:00<?, ?it/s]"
      ]
     },
     "metadata": {},
     "output_type": "display_data"
    },
    {
     "data": {
      "text/plain": [
       "312"
      ]
     },
     "execution_count": 38,
     "metadata": {},
     "output_type": "execute_result"
    }
   ],
   "source": [
    "import re\n",
    "\n",
    "pages_and_chunks = []\n",
    "\n",
    "for item in tqdm(pages_and_text):\n",
    "    for sentence_chunk in item[\"sentence_chunks\"]:\n",
    "        chunk_dict = {}\n",
    "        chunk_dict[\"page_number\"] = item[\"page_number\"]\n",
    "\n",
    "        joined_sentence_chunk = \"\".join(sentence_chunk).replace(\" \",\" \").strip()\n",
    "\n",
    "        chunk_dict[\"sentence_chunk\"] = joined_sentence_chunk\n",
    "\n",
    "        chunk_dict[\"chunk_char_count\"] = len(joined_sentence_chunk)\n",
    "        chunk_dict[\"chunk_word_count\"] = len([word for word in joined_sentence_chunk.split(\" \")])\n",
    "        chunk_dict[\"chunk_token_count\"] = len(joined_sentence_chunk) / 4\n",
    "\n",
    "        pages_and_chunks.append(chunk_dict)\n",
    "\n",
    "len(pages_and_chunks)"
   ]
  },
  {
   "cell_type": "code",
   "execution_count": 40,
   "id": "fdbd068c",
   "metadata": {},
   "outputs": [
    {
     "data": {
      "text/plain": [
       "[{'page_number': 101,\n",
       "  'sentence_chunk': 'Assault or criminal force to deter public servant from discharge of his duty: Whoever assaults or uses criminal force to any person being a public servant in the execution of his duty as such public servant, or with intent to prevent or deter that person from discharging his duty as such public servant, or in consequence of anything done or attempted to be done by such person in the lawful discharge of his duty as such public servant, shall be punished with imprisonment of either description for a term which may extend to two years, or with fine or with both.354.Assault or criminal force to woman with intent to outrage her modesty: Whoever assaults or uses criminal force to any woman, intending to outrage or knowing it to be likely that he will thereby outrage her modesty, shall be punished with imprisonment of either description for a term which may extend to two years or with fine, or with both.137[  354- Assault or use of criminal force to woman and stripping her of her clothes:',\n",
       "  'chunk_char_count': 996,\n",
       "  'chunk_word_count': 176,\n",
       "  'chunk_token_count': 249.0}]"
      ]
     },
     "execution_count": 40,
     "metadata": {},
     "output_type": "execute_result"
    }
   ],
   "source": [
    "random.sample(pages_and_chunks, k=1)"
   ]
  },
  {
   "cell_type": "code",
   "execution_count": 59,
   "id": "5930a083",
   "metadata": {},
   "outputs": [
    {
     "data": {
      "application/vnd.jupyter.widget-view+json": {
       "model_id": "c9cc5592c3ca48009ff8499845fb26fb",
       "version_major": 2,
       "version_minor": 0
      },
      "text/plain": [
       "  0%|          | 0/312 [00:00<?, ?it/s]"
      ]
     },
     "metadata": {},
     "output_type": "display_data"
    }
   ],
   "source": [
    "from sentence_transformers import SentenceTransformer\n",
    "\n",
    "model = SentenceTransformer('all-mpnet-base-v2', device='cpu')\n",
    "\n",
    "\n",
    "\n",
    "model.to('cpu')\n",
    "\n",
    "for item in tqdm(pages_and_chunks):\n",
    "    item[\"embedding\"] = model.encode(item[\"sentence_chunk\"])\n",
    "\n"
   ]
  },
  {
   "cell_type": "code",
   "execution_count": 60,
   "id": "8ece2819",
   "metadata": {},
   "outputs": [
    {
     "data": {
      "text/plain": [
       "'394.Voluntarily causing hurt in committing robbery: If any person, in committing or in attempting to commit robbery, voluntarily causes hurt, such person, and any other person jointly concerned in committing or attempting to commit such robbery, shall be punished with imprisonment for life, or with rigorous imprisonment for a term  157[which shall not be less than four years nor more than] 157 ten years, and shall also be liable to fine.395.Punishment for dacoity: Whoever commits dacoity shall be punished with imprisonment for life, or with rigorous imprisonment for a term which shall not be less than four years nor more than ten years and shall also be liable to fine.396.Dacoity with murder: If any one of five or more persons, who are conjointly committing dacoity, commits murder in so committing dacoity, everyone of those persons shall be punished with death, or imprisonment for life, or rigorous imprisonment for a term which  158[shall not be less than four years nor more than] 158 ten years, and shall also be liable to fine.397.Robbery or dacoity, with attempt to cause death or grievous hurt: If, at the time of committing robbery or dacoity, the offender uses any deadly weapon, or causes grievous hurt to any person or attempts to cause death or grievous hurt to any person the imprisonment with which such offender shall be punished shall not be less than seven years.398.Attempt to commit robbery or dacoity when armed with deadly weapon:  If, at the time of attempting to commit robbery or dacoity, the offender is armed with any deadly weapon, the imprisonment with which such offender shall be punished shall not be less than seven years.'"
      ]
     },
     "execution_count": 60,
     "metadata": {},
     "output_type": "execute_result"
    }
   ],
   "source": [
    "text_chunks = [item[\"sentence_chunk\"] for item in pages_and_chunks]\n",
    "text_chunks[220]"
   ]
  },
  {
   "cell_type": "code",
   "execution_count": 61,
   "id": "cf54ddde",
   "metadata": {},
   "outputs": [
    {
     "data": {
      "text/plain": [
       "312"
      ]
     },
     "execution_count": 61,
     "metadata": {},
     "output_type": "execute_result"
    }
   ],
   "source": [
    "len(text_chunks)"
   ]
  },
  {
   "cell_type": "code",
   "execution_count": 64,
   "id": "ffa1eebf",
   "metadata": {},
   "outputs": [
    {
     "data": {
      "text/plain": [
       "{'page_number': -4,\n",
       " 'sentence_chunk': 'Pakistan Penal Code (Act XLV of 1860) Act XLV of 1860 October 6th, 1860 Amended by: Protection of Women (Criminal Laws Amendment) Act, 2006,Criminal Laws (Amendment) Act, 2004 (I of 2005),Criminal Law (Amendment) Ordinance (LXXXV of 2002),Criminal Laws (Reforms) Ordinance (LXXXVI of 2002),etc.Whereas it is expedient to provide a general Penal Code for Pakistan:  It is enacted as follows:-   CHAPTER I INTRODUCTION 1.Title and extent of operation of the Code.This Act shall be called the Pakistan Penal Code, and shall take effect throughout Pakistan.2.Punishment of offences committed within Pakistan.Every person shall be liable to punishment under this Code and not otherwise for every act or omission contrary to the provisions thereof, of which he shall be guilty within Pakistan.3.Punishment of offences committed beyond, but which by law may be tried within Pakistan.Any person liable, by any Pakistan Law, to be tried for an offence committed beyond Pakistan shall be dealt with according to the provision of this Code for any act committed beyond Pakistan in the same manner as if such act had been committed within Pakistan.',\n",
       " 'chunk_char_count': 1136,\n",
       " 'chunk_word_count': 180,\n",
       " 'chunk_token_count': 284.0,\n",
       " 'embedding': array([ 2.47545652e-02, -6.15375005e-02,  1.93200614e-02, -5.34213409e-02,\n",
       "        -3.76302227e-02,  4.22385372e-02,  1.33115714e-02,  3.47075947e-02,\n",
       "         5.23611978e-02,  5.15326560e-02, -1.17556853e-02,  5.79266297e-03,\n",
       "         3.53276730e-02,  4.38640974e-02,  8.16444606e-02,  4.02041040e-02,\n",
       "        -1.35620451e-02,  2.54697911e-02,  4.63628359e-02, -4.71001910e-03,\n",
       "         1.62816867e-02,  1.87531877e-02, -2.43378412e-02,  2.00294890e-02,\n",
       "         2.58142315e-02,  1.60125305e-03, -1.89146120e-02,  2.11473275e-02,\n",
       "        -5.27520142e-02, -3.53074409e-02,  5.16142584e-02,  2.11484749e-02,\n",
       "         3.18121426e-02, -1.53818401e-02,  1.92988682e-06, -3.45969126e-02,\n",
       "        -3.48602235e-02, -1.03142885e-02,  2.36025825e-02,  5.60540967e-02,\n",
       "        -5.29486015e-02, -6.60754321e-03,  8.44678842e-03, -3.45356576e-02,\n",
       "        -1.18269194e-02, -9.74225812e-03,  4.00251225e-02,  7.18884319e-02,\n",
       "         1.66058331e-03,  6.95042908e-02,  1.60859283e-02, -6.88648298e-02,\n",
       "        -3.17099281e-02, -1.30245779e-02, -1.06089991e-02, -3.11202575e-02,\n",
       "         3.02329995e-02,  6.55663460e-02,  3.19661237e-02,  3.21628414e-02,\n",
       "         1.27401100e-02, -6.10168017e-02,  4.49886471e-02, -3.43851000e-02,\n",
       "        -5.31890653e-02, -5.34683093e-02, -2.00420413e-02,  4.10422217e-03,\n",
       "         3.08699887e-02,  7.64122047e-03, -1.24630108e-02, -4.15468141e-02,\n",
       "         5.46898227e-03, -1.50967883e-02, -3.02072037e-02, -7.46557936e-02,\n",
       "         8.90270248e-03,  3.81247811e-02, -3.72091420e-02,  2.14122459e-02,\n",
       "         3.64912301e-02,  2.88749542e-02, -4.97381166e-02, -3.54009867e-02,\n",
       "        -2.61891242e-02,  1.41425245e-02, -2.48790570e-02, -4.50105816e-02,\n",
       "        -6.72228187e-02,  1.39041366e-02, -3.10354251e-02,  4.87276427e-02,\n",
       "         4.59457487e-02, -3.60504468e-03,  9.39480681e-03, -1.95352919e-02,\n",
       "         1.41499685e-02, -6.62159026e-02,  7.04050586e-02, -9.93173495e-02,\n",
       "        -2.38560550e-02,  4.63656075e-02,  2.11803652e-02, -1.12502016e-02,\n",
       "        -5.73313199e-02,  2.89818812e-02,  1.92570426e-02, -5.50289312e-03,\n",
       "        -3.50358803e-03, -1.96354911e-02,  4.04909672e-03,  1.05102118e-02,\n",
       "         2.14243308e-02,  8.45194422e-03, -1.25377979e-02,  5.58309108e-02,\n",
       "        -5.29920049e-02, -6.62891753e-03,  6.99926587e-03,  6.49181614e-03,\n",
       "        -2.38971673e-02, -4.85510863e-02, -4.00782656e-03, -2.25840090e-03,\n",
       "         3.19053121e-02, -3.24146077e-02, -1.72496811e-02,  5.61153889e-03,\n",
       "        -2.23146565e-02, -7.62748532e-03, -2.43076519e-03, -1.61511991e-02,\n",
       "        -4.27880250e-02,  7.23046288e-02, -3.99814434e-02,  3.63393575e-02,\n",
       "         3.47552518e-03,  4.73249890e-03,  2.71524722e-03,  2.65461951e-02,\n",
       "        -3.37985419e-02, -7.02474732e-03, -1.53452554e-03,  2.49023382e-02,\n",
       "         2.31712274e-02, -2.85692066e-02, -2.56832913e-02,  4.31406572e-02,\n",
       "         5.33462781e-03,  4.55670729e-02, -2.42816936e-02, -1.47540281e-02,\n",
       "         2.08593141e-02,  6.53662859e-03,  1.96859296e-02, -5.14478004e-03,\n",
       "        -2.48697586e-02, -6.08690921e-03, -3.09326109e-02,  1.87446829e-02,\n",
       "        -2.74404138e-03,  9.49315261e-03,  3.20211984e-02,  1.09353680e-02,\n",
       "         6.25727279e-03, -7.70402653e-03, -2.13759113e-02, -2.24407502e-02,\n",
       "         1.19161308e-02, -5.92367537e-02,  1.36085534e-02, -4.35293987e-02,\n",
       "        -2.98077054e-02,  4.75428887e-02, -7.93293267e-02,  4.98266295e-02,\n",
       "         4.54721935e-02,  4.18008864e-02,  4.02510762e-02,  2.40800623e-02,\n",
       "        -8.70736316e-03,  2.47732047e-02,  4.26575635e-03, -1.16468314e-02,\n",
       "         4.93863150e-02, -5.41600259e-03,  1.26066012e-02, -4.21690345e-02,\n",
       "        -9.39015578e-03, -1.32094026e-02,  1.14806974e-03,  4.03225571e-02,\n",
       "         7.63904396e-03,  5.88554936e-03,  7.22552417e-03,  5.34071065e-02,\n",
       "         4.92236726e-02, -7.54421530e-03,  2.70125940e-02, -5.38342781e-02,\n",
       "         1.84428599e-02,  2.26847269e-02,  2.19141934e-02,  6.32226318e-02,\n",
       "        -3.59178409e-02,  3.37159820e-02, -2.00781859e-02, -9.28465929e-03,\n",
       "        -2.48572081e-02, -1.82377491e-02, -6.10292377e-03, -1.02607803e-02,\n",
       "        -3.32481675e-02, -6.94611808e-03, -4.30671088e-02,  8.61386675e-03,\n",
       "        -7.92098604e-03, -3.94925922e-02,  1.23466533e-02, -5.90210371e-02,\n",
       "        -2.18534395e-02,  5.20705432e-02, -2.85313427e-02, -2.99329348e-02,\n",
       "        -5.95679656e-02,  2.27690544e-02, -4.04404216e-02,  1.69440027e-04,\n",
       "        -1.10450499e-02, -3.97658758e-02, -7.92187266e-03, -9.70907137e-03,\n",
       "         1.28839174e-02,  4.06093076e-02,  2.26335172e-02,  1.25939846e-02,\n",
       "        -2.52586920e-02, -6.01970293e-02,  1.49488626e-02, -4.96644080e-02,\n",
       "         2.05046888e-02, -4.52433564e-02, -7.92512670e-03, -2.21867263e-02,\n",
       "         1.74718741e-02,  3.66472527e-02,  2.23230966e-03, -4.77113649e-02,\n",
       "         1.61414687e-03, -7.53167970e-03, -5.86126298e-02,  5.42211272e-02,\n",
       "        -4.36109751e-02, -1.68126058e-02, -1.09106884e-03, -1.77623518e-02,\n",
       "         4.51014116e-02,  4.64505889e-02,  5.16250767e-02,  1.54685704e-02,\n",
       "        -3.56821865e-02, -1.76098403e-02, -4.84086759e-02,  4.71261702e-02,\n",
       "         5.08304127e-02, -5.71995080e-02, -4.30393964e-02,  9.69885662e-03,\n",
       "         8.12263135e-03,  4.49392647e-02, -7.68116042e-02,  2.34296899e-02,\n",
       "         3.94965932e-02,  4.62216185e-03, -5.67047372e-02, -4.62143719e-02,\n",
       "        -2.90388688e-02,  1.24972789e-02, -1.62904728e-02,  5.13001047e-02,\n",
       "        -4.56596017e-02,  3.02137644e-03,  5.97161204e-02, -2.28668060e-02,\n",
       "        -1.30704278e-02, -1.42698968e-03, -3.14498506e-02,  2.44898349e-02,\n",
       "        -1.25562949e-02,  5.92561737e-02,  3.91008705e-02,  8.86744820e-03,\n",
       "        -6.71568140e-02, -3.23685743e-02,  1.75395645e-02, -4.96959947e-02,\n",
       "        -3.30359936e-02, -1.40440604e-02,  2.39459220e-02,  5.49891870e-03,\n",
       "         2.65358649e-02,  3.49858254e-02, -9.58677847e-03, -3.88685381e-03,\n",
       "        -1.46225607e-03,  3.82661708e-02,  2.86206454e-02, -9.52886790e-03,\n",
       "        -5.30687682e-02, -2.63720416e-02, -4.18693088e-02,  4.52721445e-03,\n",
       "        -6.96009472e-02, -5.75341582e-02, -2.33185347e-02,  1.69830136e-02,\n",
       "        -4.04086187e-02, -3.90885845e-02, -3.42776142e-02,  1.69156622e-02,\n",
       "         4.98912483e-03,  3.55120690e-04, -1.18273050e-02,  3.81166376e-02,\n",
       "         4.61505726e-02, -3.63975279e-02, -1.18823573e-02, -1.62429549e-03,\n",
       "        -2.01829746e-02,  2.27899407e-03,  1.59304310e-02, -3.05808056e-02,\n",
       "        -5.01849987e-02,  4.87311482e-02, -1.36609338e-02, -4.31881361e-02,\n",
       "        -7.35182140e-04,  8.22140649e-03,  1.03196343e-02, -1.14371153e-02,\n",
       "        -3.60476486e-02,  6.90740766e-03,  2.95680519e-02, -3.66927572e-02,\n",
       "         7.56425932e-02,  5.70190214e-02, -5.12605421e-02,  3.56807634e-02,\n",
       "         9.76779982e-02,  2.33337469e-02, -3.70322242e-02, -3.63875702e-02,\n",
       "        -5.92274033e-02,  4.66868505e-02, -1.53773632e-02, -8.25376809e-02,\n",
       "        -8.28786287e-03, -4.00730222e-02, -2.70060711e-02,  5.36499843e-02,\n",
       "        -7.34711662e-02, -2.18606312e-02, -1.13787398e-01,  4.16858383e-02,\n",
       "         5.69469631e-02,  6.89112917e-02,  3.77959426e-04, -5.02484404e-02,\n",
       "        -1.04318587e-02,  6.68192096e-03,  2.47887569e-04,  2.12222263e-02,\n",
       "         6.94692926e-03,  2.41809096e-02, -1.91876311e-02,  2.11920962e-03,\n",
       "        -2.97741406e-02, -3.77296582e-02, -6.28736094e-02,  1.44066904e-02,\n",
       "        -3.82850282e-02, -6.12974539e-02,  9.88820568e-02,  4.64164652e-03,\n",
       "        -2.46695932e-02, -3.01981922e-02,  1.65810678e-02,  2.49019428e-03,\n",
       "         2.04973500e-02,  3.10481265e-02,  2.31626425e-02, -3.81248654e-03,\n",
       "        -4.54067215e-02,  2.51271147e-02,  1.10655222e-02,  4.47180830e-02,\n",
       "         2.08599661e-02,  4.51130606e-02, -2.61346158e-02,  3.79559137e-02,\n",
       "         1.93545464e-02,  4.81882580e-02,  5.55849038e-02,  9.20967478e-03,\n",
       "        -4.00371924e-02,  4.41128295e-03,  2.22215895e-03, -2.39820569e-03,\n",
       "        -1.34441983e-02, -1.90086849e-02, -6.90579936e-02, -1.65484212e-02,\n",
       "        -4.57513556e-02, -5.75691834e-03, -3.73518877e-02,  3.33757401e-02,\n",
       "        -1.19831245e-02, -1.42423827e-02,  3.58612835e-02,  4.77396995e-02,\n",
       "        -1.49229290e-02,  1.00998022e-02, -1.57807525e-02, -9.90352407e-03,\n",
       "         3.03783733e-02,  2.22783368e-02, -1.16818575e-02, -1.54686840e-02,\n",
       "         1.43844970e-02,  2.46484578e-03,  2.59196367e-02, -1.83319636e-02,\n",
       "        -3.10477577e-02, -4.84852269e-02, -1.07070476e-01,  4.98283692e-02,\n",
       "        -4.88965400e-02, -2.11722241e-03, -5.05094342e-02,  5.69568910e-02,\n",
       "         1.26886216e-03,  9.21360217e-03,  4.00192803e-03,  3.94549519e-02,\n",
       "         6.47468166e-03,  4.01691049e-02, -3.81397717e-02, -4.78330776e-02,\n",
       "        -8.93506631e-02, -2.44558174e-02, -6.07987233e-02,  3.84813920e-02,\n",
       "        -2.21058801e-02, -3.37476470e-02,  4.59259152e-02,  2.29950510e-02,\n",
       "        -6.31095171e-02,  2.26864871e-03,  1.44483466e-02,  2.50798818e-02,\n",
       "        -4.05889004e-03, -2.64130859e-03, -4.43935022e-02, -5.92396036e-02,\n",
       "        -1.51688902e-04,  2.26214994e-02, -1.05538182e-01,  7.17106101e-04,\n",
       "         2.97279339e-02,  1.64942760e-02,  6.55212402e-02, -2.13225316e-02,\n",
       "         1.04732253e-02, -2.76235081e-02, -3.47899832e-03,  1.73205025e-02,\n",
       "        -2.72748526e-02,  1.78101305e-02,  5.30097215e-03,  1.57445464e-02,\n",
       "         3.07488032e-02, -3.31658795e-02,  3.11041027e-02, -1.11057684e-01,\n",
       "         1.63402352e-02, -3.32517028e-02,  4.86590713e-03, -1.51055269e-02,\n",
       "        -2.18052883e-02,  1.72003899e-02,  2.41833087e-02,  2.11749580e-02,\n",
       "         1.94125362e-02,  5.39817475e-03, -9.34814475e-03,  2.19448861e-02,\n",
       "        -5.32931648e-02,  1.48790134e-02,  1.00649804e-01,  4.72518615e-03,\n",
       "         8.77211057e-03,  1.29612098e-02, -1.79863162e-02, -3.76048647e-02,\n",
       "        -4.96670306e-02, -2.29007029e-03, -4.85474728e-02, -2.28809156e-02,\n",
       "        -5.51369460e-03,  2.27283352e-04,  2.03236025e-02,  4.43395190e-02,\n",
       "        -2.31101327e-02,  2.89921053e-02,  6.05405159e-02,  6.49815146e-03,\n",
       "        -1.74901902e-03, -1.99685432e-03,  2.41874382e-02,  3.63251492e-02,\n",
       "         2.05707978e-02, -5.45157492e-02,  4.16452140e-02, -7.69024715e-02,\n",
       "        -2.80901343e-02, -3.61261424e-03, -3.34481453e-03, -2.26453077e-02,\n",
       "         5.08134486e-03,  4.24142089e-03,  3.53002697e-02, -2.40468197e-02,\n",
       "         7.26968795e-02,  2.82737967e-02, -2.16612332e-02,  5.41974558e-03,\n",
       "         4.78400961e-02, -2.10579615e-02,  8.07602610e-03, -9.54308547e-03,\n",
       "         5.13424948e-02,  7.65141845e-03, -5.63874887e-03,  8.40752618e-04,\n",
       "         6.54708035e-03,  5.95897436e-03, -7.04277353e-03,  2.38713045e-02,\n",
       "         1.22928452e-02, -7.39714727e-02, -3.97115350e-02,  5.69685176e-02,\n",
       "         9.88378450e-02, -7.01672724e-03, -2.69498434e-02, -4.61752475e-33,\n",
       "        -1.88986771e-02, -7.11430935e-03,  2.02322342e-02,  3.92634086e-02,\n",
       "        -1.86493229e-02, -3.46845761e-02, -3.49796563e-02, -5.20596057e-02,\n",
       "         5.75322844e-03, -1.55544551e-02,  4.81845764e-03,  4.17423807e-02,\n",
       "        -6.41812384e-03, -3.73853520e-02,  2.54288036e-02, -1.77236162e-02,\n",
       "         4.60993610e-02,  1.00598810e-02,  6.80121630e-02, -1.28290001e-02,\n",
       "         1.06620193e-02,  1.30677549e-02,  5.88006005e-02, -1.44685688e-03,\n",
       "         9.19928774e-02, -2.19958778e-02, -2.78574359e-02, -1.93908587e-02,\n",
       "         9.60431900e-03,  1.86270177e-02,  6.36369549e-03, -7.62282386e-02,\n",
       "         4.43690978e-02, -1.30896531e-02,  1.85593672e-03,  5.33958450e-02,\n",
       "        -4.38722745e-02, -2.22375821e-02, -1.08920150e-02,  1.48928817e-02,\n",
       "         3.50271985e-02, -3.47354822e-02,  2.61217766e-02, -3.14076655e-02,\n",
       "        -7.40477145e-02, -4.07337137e-02, -2.87168100e-02,  1.21894861e-02,\n",
       "        -4.62231375e-02, -2.58399267e-02, -2.60018986e-02,  1.65420317e-03,\n",
       "        -5.91530884e-03,  3.06607243e-02, -8.81185755e-03, -4.18310352e-02,\n",
       "         3.44856046e-02,  3.07470150e-02,  1.55663153e-03,  4.20668535e-02,\n",
       "         4.92775701e-02,  3.33952308e-02, -3.07843797e-02, -5.49814627e-02,\n",
       "         5.43804988e-02, -4.52664569e-02, -3.84139270e-02, -2.98571773e-02,\n",
       "         2.78074238e-02,  1.79719813e-02,  3.40570733e-02, -3.06071714e-02,\n",
       "        -9.18517411e-02, -2.88983621e-03,  4.71909717e-02, -7.24493265e-02,\n",
       "        -5.41341417e-02,  4.31229062e-02,  3.25963013e-02,  8.30921009e-02,\n",
       "         1.47876125e-02,  6.74200654e-02, -5.77764288e-02, -8.49538483e-03,\n",
       "         4.54362668e-02, -3.48601267e-02,  1.76844131e-02, -1.56334490e-02,\n",
       "         1.67782381e-02, -1.26076164e-03,  4.90027927e-02,  2.02127937e-02,\n",
       "        -4.88434359e-03, -5.17750531e-03,  2.82428693e-02,  1.35381622e-02,\n",
       "        -7.80936554e-02,  7.18075829e-03,  3.31475548e-02,  2.37066876e-02,\n",
       "        -6.74939230e-02, -6.40986264e-02,  5.20213395e-02, -1.54759297e-02,\n",
       "        -4.30741115e-03,  3.12704965e-02,  2.54870020e-02,  2.24222895e-02,\n",
       "        -3.85804730e-03, -1.77247599e-02,  1.49637870e-02, -1.43798665e-04,\n",
       "         1.02335250e-03,  4.63017039e-02, -6.61817100e-03,  2.05764044e-02,\n",
       "         3.39031057e-03, -4.17330638e-02,  2.63660774e-02,  2.62793209e-02,\n",
       "         3.14415805e-02, -1.52430460e-02,  3.71580794e-02,  2.24289503e-02,\n",
       "         2.82371622e-02,  2.30585299e-02,  2.77835932e-02,  2.31580734e-02,\n",
       "         2.05561426e-03, -1.03585366e-02, -5.71040530e-03,  6.64746389e-02,\n",
       "         2.42876126e-07,  1.41209438e-02, -1.78436805e-02,  4.64607738e-02,\n",
       "         5.70752705e-03, -2.84246393e-02, -7.67199183e-03, -3.10069453e-02,\n",
       "         3.81614156e-02,  2.51684673e-02,  3.72428261e-02, -2.96892710e-02,\n",
       "        -4.00397740e-03,  7.66683463e-03,  3.21041117e-03, -5.31280637e-02,\n",
       "        -8.58438481e-03,  6.45937324e-02, -2.38686316e-02,  4.52522077e-02,\n",
       "         9.10506546e-02,  3.40194851e-02, -2.28046365e-02,  6.95732981e-03,\n",
       "         3.13727930e-02,  4.55373339e-02, -3.95748317e-02,  1.85625604e-03,\n",
       "        -1.22064371e-02, -6.01081103e-02, -8.78292974e-03, -9.98513214e-03,\n",
       "         1.14338733e-02,  9.18251835e-03,  3.11578494e-02,  1.13659091e-02,\n",
       "        -2.94786040e-03,  3.12967673e-02,  8.43222886e-02,  4.26916964e-02,\n",
       "         1.86670758e-02, -3.25693935e-02, -1.13900967e-01,  3.27252895e-02,\n",
       "        -5.01975529e-02,  1.23504531e-02,  1.28860608e-01, -4.84409928e-02,\n",
       "         9.98919830e-03,  4.67294082e-02,  4.35476080e-02,  4.58829030e-02,\n",
       "        -7.71978498e-03,  2.10748482e-02, -6.22405596e-02,  4.82219681e-02,\n",
       "        -2.67130844e-02,  7.18952389e-03, -2.41706800e-02, -1.83103457e-02,\n",
       "        -1.23249711e-02,  5.22289798e-02, -3.03980932e-02,  7.58213038e-03,\n",
       "         1.59089491e-02,  2.49047522e-02, -1.83552280e-02,  4.48501259e-02,\n",
       "         2.40411691e-34,  3.32647599e-02, -7.94196054e-02,  6.98302174e-03,\n",
       "         1.31919198e-02, -3.03840786e-02,  3.12956348e-02, -2.87335366e-02,\n",
       "        -1.78084411e-02,  4.57738116e-02, -4.13764529e-02,  2.03765277e-02],\n",
       "       dtype=float32)}"
      ]
     },
     "execution_count": 64,
     "metadata": {},
     "output_type": "execute_result"
    }
   ],
   "source": [
    "pages_and_chunks[0]"
   ]
  },
  {
   "cell_type": "code",
   "execution_count": 65,
   "id": "5e57103c",
   "metadata": {},
   "outputs": [],
   "source": [
    "chunks_and_embeddings = pd.DataFrame(pages_and_chunks)\n",
    "embeddings_save_path = \"U:\\\\LEGALSENSE\\\\chunks_and_embeddings.csv\"\n",
    "chunks_and_embeddings.to_csv(embeddings_save_path, index=False)"
   ]
  },
  {
   "cell_type": "code",
   "execution_count": 66,
   "id": "2946d88c",
   "metadata": {},
   "outputs": [
    {
     "data": {
      "application/vnd.microsoft.datawrangler.viewer.v0+json": {
       "columns": [
        {
         "name": "index",
         "rawType": "int64",
         "type": "integer"
        },
        {
         "name": "page_number",
         "rawType": "int64",
         "type": "integer"
        },
        {
         "name": "sentence_chunk",
         "rawType": "object",
         "type": "string"
        },
        {
         "name": "chunk_char_count",
         "rawType": "int64",
         "type": "integer"
        },
        {
         "name": "chunk_word_count",
         "rawType": "int64",
         "type": "integer"
        },
        {
         "name": "chunk_token_count",
         "rawType": "float64",
         "type": "float"
        },
        {
         "name": "embedding",
         "rawType": "object",
         "type": "string"
        }
       ],
       "ref": "0a4eaabb-d9ae-4de9-a3b9-2ba0d780b4fa",
       "rows": [
        [
         "0",
         "-4",
         "Pakistan Penal Code (Act XLV of 1860) Act XLV of 1860 October 6th, 1860 Amended by: Protection of Women (Criminal Laws Amendment) Act, 2006,Criminal Laws (Amendment) Act, 2004 (I of 2005),Criminal Law (Amendment) Ordinance (LXXXV of 2002),Criminal Laws (Reforms) Ordinance (LXXXVI of 2002),etc.Whereas it is expedient to provide a general Penal Code for Pakistan:  It is enacted as follows:-   CHAPTER I INTRODUCTION 1.Title and extent of operation of the Code.This Act shall be called the Pakistan Penal Code, and shall take effect throughout Pakistan.2.Punishment of offences committed within Pakistan.Every person shall be liable to punishment under this Code and not otherwise for every act or omission contrary to the provisions thereof, of which he shall be guilty within Pakistan.3.Punishment of offences committed beyond, but which by law may be tried within Pakistan.Any person liable, by any Pakistan Law, to be tried for an offence committed beyond Pakistan shall be dealt with according to the provision of this Code for any act committed beyond Pakistan in the same manner as if such act had been committed within Pakistan.",
         "1136",
         "180",
         "284.0",
         "[ 2.47545652e-02 -6.15375005e-02  1.93200614e-02 -5.34213409e-02\n -3.76302227e-02  4.22385372e-02  1.33115714e-02  3.47075947e-02\n  5.23611978e-02  5.15326560e-02 -1.17556853e-02  5.79266297e-03\n  3.53276730e-02  4.38640974e-02  8.16444606e-02  4.02041040e-02\n -1.35620451e-02  2.54697911e-02  4.63628359e-02 -4.71001910e-03\n  1.62816867e-02  1.87531877e-02 -2.43378412e-02  2.00294890e-02\n  2.58142315e-02  1.60125305e-03 -1.89146120e-02  2.11473275e-02\n -5.27520142e-02 -3.53074409e-02  5.16142584e-02  2.11484749e-02\n  3.18121426e-02 -1.53818401e-02  1.92988682e-06 -3.45969126e-02\n -3.48602235e-02 -1.03142885e-02  2.36025825e-02  5.60540967e-02\n -5.29486015e-02 -6.60754321e-03  8.44678842e-03 -3.45356576e-02\n -1.18269194e-02 -9.74225812e-03  4.00251225e-02  7.18884319e-02\n  1.66058331e-03  6.95042908e-02  1.60859283e-02 -6.88648298e-02\n -3.17099281e-02 -1.30245779e-02 -1.06089991e-02 -3.11202575e-02\n  3.02329995e-02  6.55663460e-02  3.19661237e-02  3.21628414e-02\n  1.27401100e-02 -6.10168017e-02  4.49886471e-02 -3.43851000e-02\n -5.31890653e-02 -5.34683093e-02 -2.00420413e-02  4.10422217e-03\n  3.08699887e-02  7.64122047e-03 -1.24630108e-02 -4.15468141e-02\n  5.46898227e-03 -1.50967883e-02 -3.02072037e-02 -7.46557936e-02\n  8.90270248e-03  3.81247811e-02 -3.72091420e-02  2.14122459e-02\n  3.64912301e-02  2.88749542e-02 -4.97381166e-02 -3.54009867e-02\n -2.61891242e-02  1.41425245e-02 -2.48790570e-02 -4.50105816e-02\n -6.72228187e-02  1.39041366e-02 -3.10354251e-02  4.87276427e-02\n  4.59457487e-02 -3.60504468e-03  9.39480681e-03 -1.95352919e-02\n  1.41499685e-02 -6.62159026e-02  7.04050586e-02 -9.93173495e-02\n -2.38560550e-02  4.63656075e-02  2.11803652e-02 -1.12502016e-02\n -5.73313199e-02  2.89818812e-02  1.92570426e-02 -5.50289312e-03\n -3.50358803e-03 -1.96354911e-02  4.04909672e-03  1.05102118e-02\n  2.14243308e-02  8.45194422e-03 -1.25377979e-02  5.58309108e-02\n -5.29920049e-02 -6.62891753e-03  6.99926587e-03  6.49181614e-03\n -2.38971673e-02 -4.85510863e-02 -4.00782656e-03 -2.25840090e-03\n  3.19053121e-02 -3.24146077e-02 -1.72496811e-02  5.61153889e-03\n -2.23146565e-02 -7.62748532e-03 -2.43076519e-03 -1.61511991e-02\n -4.27880250e-02  7.23046288e-02 -3.99814434e-02  3.63393575e-02\n  3.47552518e-03  4.73249890e-03  2.71524722e-03  2.65461951e-02\n -3.37985419e-02 -7.02474732e-03 -1.53452554e-03  2.49023382e-02\n  2.31712274e-02 -2.85692066e-02 -2.56832913e-02  4.31406572e-02\n  5.33462781e-03  4.55670729e-02 -2.42816936e-02 -1.47540281e-02\n  2.08593141e-02  6.53662859e-03  1.96859296e-02 -5.14478004e-03\n -2.48697586e-02 -6.08690921e-03 -3.09326109e-02  1.87446829e-02\n -2.74404138e-03  9.49315261e-03  3.20211984e-02  1.09353680e-02\n  6.25727279e-03 -7.70402653e-03 -2.13759113e-02 -2.24407502e-02\n  1.19161308e-02 -5.92367537e-02  1.36085534e-02 -4.35293987e-02\n -2.98077054e-02  4.75428887e-02 -7.93293267e-02  4.98266295e-02\n  4.54721935e-02  4.18008864e-02  4.02510762e-02  2.40800623e-02\n -8.70736316e-03  2.47732047e-02  4.26575635e-03 -1.16468314e-02\n  4.93863150e-02 -5.41600259e-03  1.26066012e-02 -4.21690345e-02\n -9.39015578e-03 -1.32094026e-02  1.14806974e-03  4.03225571e-02\n  7.63904396e-03  5.88554936e-03  7.22552417e-03  5.34071065e-02\n  4.92236726e-02 -7.54421530e-03  2.70125940e-02 -5.38342781e-02\n  1.84428599e-02  2.26847269e-02  2.19141934e-02  6.32226318e-02\n -3.59178409e-02  3.37159820e-02 -2.00781859e-02 -9.28465929e-03\n -2.48572081e-02 -1.82377491e-02 -6.10292377e-03 -1.02607803e-02\n -3.32481675e-02 -6.94611808e-03 -4.30671088e-02  8.61386675e-03\n -7.92098604e-03 -3.94925922e-02  1.23466533e-02 -5.90210371e-02\n -2.18534395e-02  5.20705432e-02 -2.85313427e-02 -2.99329348e-02\n -5.95679656e-02  2.27690544e-02 -4.04404216e-02  1.69440027e-04\n -1.10450499e-02 -3.97658758e-02 -7.92187266e-03 -9.70907137e-03\n  1.28839174e-02  4.06093076e-02  2.26335172e-02  1.25939846e-02\n -2.52586920e-02 -6.01970293e-02  1.49488626e-02 -4.96644080e-02\n  2.05046888e-02 -4.52433564e-02 -7.92512670e-03 -2.21867263e-02\n  1.74718741e-02  3.66472527e-02  2.23230966e-03 -4.77113649e-02\n  1.61414687e-03 -7.53167970e-03 -5.86126298e-02  5.42211272e-02\n -4.36109751e-02 -1.68126058e-02 -1.09106884e-03 -1.77623518e-02\n  4.51014116e-02  4.64505889e-02  5.16250767e-02  1.54685704e-02\n -3.56821865e-02 -1.76098403e-02 -4.84086759e-02  4.71261702e-02\n  5.08304127e-02 -5.71995080e-02 -4.30393964e-02  9.69885662e-03\n  8.12263135e-03  4.49392647e-02 -7.68116042e-02  2.34296899e-02\n  3.94965932e-02  4.62216185e-03 -5.67047372e-02 -4.62143719e-02\n -2.90388688e-02  1.24972789e-02 -1.62904728e-02  5.13001047e-02\n -4.56596017e-02  3.02137644e-03  5.97161204e-02 -2.28668060e-02\n -1.30704278e-02 -1.42698968e-03 -3.14498506e-02  2.44898349e-02\n -1.25562949e-02  5.92561737e-02  3.91008705e-02  8.86744820e-03\n -6.71568140e-02 -3.23685743e-02  1.75395645e-02 -4.96959947e-02\n -3.30359936e-02 -1.40440604e-02  2.39459220e-02  5.49891870e-03\n  2.65358649e-02  3.49858254e-02 -9.58677847e-03 -3.88685381e-03\n -1.46225607e-03  3.82661708e-02  2.86206454e-02 -9.52886790e-03\n -5.30687682e-02 -2.63720416e-02 -4.18693088e-02  4.52721445e-03\n -6.96009472e-02 -5.75341582e-02 -2.33185347e-02  1.69830136e-02\n -4.04086187e-02 -3.90885845e-02 -3.42776142e-02  1.69156622e-02\n  4.98912483e-03  3.55120690e-04 -1.18273050e-02  3.81166376e-02\n  4.61505726e-02 -3.63975279e-02 -1.18823573e-02 -1.62429549e-03\n -2.01829746e-02  2.27899407e-03  1.59304310e-02 -3.05808056e-02\n -5.01849987e-02  4.87311482e-02 -1.36609338e-02 -4.31881361e-02\n -7.35182140e-04  8.22140649e-03  1.03196343e-02 -1.14371153e-02\n -3.60476486e-02  6.90740766e-03  2.95680519e-02 -3.66927572e-02\n  7.56425932e-02  5.70190214e-02 -5.12605421e-02  3.56807634e-02\n  9.76779982e-02  2.33337469e-02 -3.70322242e-02 -3.63875702e-02\n -5.92274033e-02  4.66868505e-02 -1.53773632e-02 -8.25376809e-02\n -8.28786287e-03 -4.00730222e-02 -2.70060711e-02  5.36499843e-02\n -7.34711662e-02 -2.18606312e-02 -1.13787398e-01  4.16858383e-02\n  5.69469631e-02  6.89112917e-02  3.77959426e-04 -5.02484404e-02\n -1.04318587e-02  6.68192096e-03  2.47887569e-04  2.12222263e-02\n  6.94692926e-03  2.41809096e-02 -1.91876311e-02  2.11920962e-03\n -2.97741406e-02 -3.77296582e-02 -6.28736094e-02  1.44066904e-02\n -3.82850282e-02 -6.12974539e-02  9.88820568e-02  4.64164652e-03\n -2.46695932e-02 -3.01981922e-02  1.65810678e-02  2.49019428e-03\n  2.04973500e-02  3.10481265e-02  2.31626425e-02 -3.81248654e-03\n -4.54067215e-02  2.51271147e-02  1.10655222e-02  4.47180830e-02\n  2.08599661e-02  4.51130606e-02 -2.61346158e-02  3.79559137e-02\n  1.93545464e-02  4.81882580e-02  5.55849038e-02  9.20967478e-03\n -4.00371924e-02  4.41128295e-03  2.22215895e-03 -2.39820569e-03\n -1.34441983e-02 -1.90086849e-02 -6.90579936e-02 -1.65484212e-02\n -4.57513556e-02 -5.75691834e-03 -3.73518877e-02  3.33757401e-02\n -1.19831245e-02 -1.42423827e-02  3.58612835e-02  4.77396995e-02\n -1.49229290e-02  1.00998022e-02 -1.57807525e-02 -9.90352407e-03\n  3.03783733e-02  2.22783368e-02 -1.16818575e-02 -1.54686840e-02\n  1.43844970e-02  2.46484578e-03  2.59196367e-02 -1.83319636e-02\n -3.10477577e-02 -4.84852269e-02 -1.07070476e-01  4.98283692e-02\n -4.88965400e-02 -2.11722241e-03 -5.05094342e-02  5.69568910e-02\n  1.26886216e-03  9.21360217e-03  4.00192803e-03  3.94549519e-02\n  6.47468166e-03  4.01691049e-02 -3.81397717e-02 -4.78330776e-02\n -8.93506631e-02 -2.44558174e-02 -6.07987233e-02  3.84813920e-02\n -2.21058801e-02 -3.37476470e-02  4.59259152e-02  2.29950510e-02\n -6.31095171e-02  2.26864871e-03  1.44483466e-02  2.50798818e-02\n -4.05889004e-03 -2.64130859e-03 -4.43935022e-02 -5.92396036e-02\n -1.51688902e-04  2.26214994e-02 -1.05538182e-01  7.17106101e-04\n  2.97279339e-02  1.64942760e-02  6.55212402e-02 -2.13225316e-02\n  1.04732253e-02 -2.76235081e-02 -3.47899832e-03  1.73205025e-02\n -2.72748526e-02  1.78101305e-02  5.30097215e-03  1.57445464e-02\n  3.07488032e-02 -3.31658795e-02  3.11041027e-02 -1.11057684e-01\n  1.63402352e-02 -3.32517028e-02  4.86590713e-03 -1.51055269e-02\n -2.18052883e-02  1.72003899e-02  2.41833087e-02  2.11749580e-02\n  1.94125362e-02  5.39817475e-03 -9.34814475e-03  2.19448861e-02\n -5.32931648e-02  1.48790134e-02  1.00649804e-01  4.72518615e-03\n  8.77211057e-03  1.29612098e-02 -1.79863162e-02 -3.76048647e-02\n -4.96670306e-02 -2.29007029e-03 -4.85474728e-02 -2.28809156e-02\n -5.51369460e-03  2.27283352e-04  2.03236025e-02  4.43395190e-02\n -2.31101327e-02  2.89921053e-02  6.05405159e-02  6.49815146e-03\n -1.74901902e-03 -1.99685432e-03  2.41874382e-02  3.63251492e-02\n  2.05707978e-02 -5.45157492e-02  4.16452140e-02 -7.69024715e-02\n -2.80901343e-02 -3.61261424e-03 -3.34481453e-03 -2.26453077e-02\n  5.08134486e-03  4.24142089e-03  3.53002697e-02 -2.40468197e-02\n  7.26968795e-02  2.82737967e-02 -2.16612332e-02  5.41974558e-03\n  4.78400961e-02 -2.10579615e-02  8.07602610e-03 -9.54308547e-03\n  5.13424948e-02  7.65141845e-03 -5.63874887e-03  8.40752618e-04\n  6.54708035e-03  5.95897436e-03 -7.04277353e-03  2.38713045e-02\n  1.22928452e-02 -7.39714727e-02 -3.97115350e-02  5.69685176e-02\n  9.88378450e-02 -7.01672724e-03 -2.69498434e-02 -4.61752475e-33\n -1.88986771e-02 -7.11430935e-03  2.02322342e-02  3.92634086e-02\n -1.86493229e-02 -3.46845761e-02 -3.49796563e-02 -5.20596057e-02\n  5.75322844e-03 -1.55544551e-02  4.81845764e-03  4.17423807e-02\n -6.41812384e-03 -3.73853520e-02  2.54288036e-02 -1.77236162e-02\n  4.60993610e-02  1.00598810e-02  6.80121630e-02 -1.28290001e-02\n  1.06620193e-02  1.30677549e-02  5.88006005e-02 -1.44685688e-03\n  9.19928774e-02 -2.19958778e-02 -2.78574359e-02 -1.93908587e-02\n  9.60431900e-03  1.86270177e-02  6.36369549e-03 -7.62282386e-02\n  4.43690978e-02 -1.30896531e-02  1.85593672e-03  5.33958450e-02\n -4.38722745e-02 -2.22375821e-02 -1.08920150e-02  1.48928817e-02\n  3.50271985e-02 -3.47354822e-02  2.61217766e-02 -3.14076655e-02\n -7.40477145e-02 -4.07337137e-02 -2.87168100e-02  1.21894861e-02\n -4.62231375e-02 -2.58399267e-02 -2.60018986e-02  1.65420317e-03\n -5.91530884e-03  3.06607243e-02 -8.81185755e-03 -4.18310352e-02\n  3.44856046e-02  3.07470150e-02  1.55663153e-03  4.20668535e-02\n  4.92775701e-02  3.33952308e-02 -3.07843797e-02 -5.49814627e-02\n  5.43804988e-02 -4.52664569e-02 -3.84139270e-02 -2.98571773e-02\n  2.78074238e-02  1.79719813e-02  3.40570733e-02 -3.06071714e-02\n -9.18517411e-02 -2.88983621e-03  4.71909717e-02 -7.24493265e-02\n -5.41341417e-02  4.31229062e-02  3.25963013e-02  8.30921009e-02\n  1.47876125e-02  6.74200654e-02 -5.77764288e-02 -8.49538483e-03\n  4.54362668e-02 -3.48601267e-02  1.76844131e-02 -1.56334490e-02\n  1.67782381e-02 -1.26076164e-03  4.90027927e-02  2.02127937e-02\n -4.88434359e-03 -5.17750531e-03  2.82428693e-02  1.35381622e-02\n -7.80936554e-02  7.18075829e-03  3.31475548e-02  2.37066876e-02\n -6.74939230e-02 -6.40986264e-02  5.20213395e-02 -1.54759297e-02\n -4.30741115e-03  3.12704965e-02  2.54870020e-02  2.24222895e-02\n -3.85804730e-03 -1.77247599e-02  1.49637870e-02 -1.43798665e-04\n  1.02335250e-03  4.63017039e-02 -6.61817100e-03  2.05764044e-02\n  3.39031057e-03 -4.17330638e-02  2.63660774e-02  2.62793209e-02\n  3.14415805e-02 -1.52430460e-02  3.71580794e-02  2.24289503e-02\n  2.82371622e-02  2.30585299e-02  2.77835932e-02  2.31580734e-02\n  2.05561426e-03 -1.03585366e-02 -5.71040530e-03  6.64746389e-02\n  2.42876126e-07  1.41209438e-02 -1.78436805e-02  4.64607738e-02\n  5.70752705e-03 -2.84246393e-02 -7.67199183e-03 -3.10069453e-02\n  3.81614156e-02  2.51684673e-02  3.72428261e-02 -2.96892710e-02\n -4.00397740e-03  7.66683463e-03  3.21041117e-03 -5.31280637e-02\n -8.58438481e-03  6.45937324e-02 -2.38686316e-02  4.52522077e-02\n  9.10506546e-02  3.40194851e-02 -2.28046365e-02  6.95732981e-03\n  3.13727930e-02  4.55373339e-02 -3.95748317e-02  1.85625604e-03\n -1.22064371e-02 -6.01081103e-02 -8.78292974e-03 -9.98513214e-03\n  1.14338733e-02  9.18251835e-03  3.11578494e-02  1.13659091e-02\n -2.94786040e-03  3.12967673e-02  8.43222886e-02  4.26916964e-02\n  1.86670758e-02 -3.25693935e-02 -1.13900967e-01  3.27252895e-02\n -5.01975529e-02  1.23504531e-02  1.28860608e-01 -4.84409928e-02\n  9.98919830e-03  4.67294082e-02  4.35476080e-02  4.58829030e-02\n -7.71978498e-03  2.10748482e-02 -6.22405596e-02  4.82219681e-02\n -2.67130844e-02  7.18952389e-03 -2.41706800e-02 -1.83103457e-02\n -1.23249711e-02  5.22289798e-02 -3.03980932e-02  7.58213038e-03\n  1.59089491e-02  2.49047522e-02 -1.83552280e-02  4.48501259e-02\n  2.40411691e-34  3.32647599e-02 -7.94196054e-02  6.98302174e-03\n  1.31919198e-02 -3.03840786e-02  3.12956348e-02 -2.87335366e-02\n -1.78084411e-02  4.57738116e-02 -4.13764529e-02  2.03765277e-02]"
        ],
        [
         "1",
         "-4",
         "4.Extension of Code to extra-territorial offences.The provisions of this Code apply also to any offence committed by:-   1[(1) any citizen of Pakistan or any person in the service of Pakistan in any place without and beyond Pakistan;] 1  2[] 2 4[] 4  (4) any person on any ship or aircraft registered in Pakistan wherever it may be.Explanation: In this section the word \"offence\" includes every act committed outside Pakistan which, if committed in Pakistan, would be punishable under this Code.",
         "495",
         "84",
         "123.75",
         "[ 1.09106647e-02 -4.69407067e-02  1.63406041e-02 -4.72841896e-02\n -4.90271412e-02  1.58830360e-02  1.46417730e-02  3.20057161e-02\n  3.58563513e-02  5.97802699e-02 -2.14210246e-02  2.08276510e-02\n  2.56953109e-02  3.02509815e-02  7.15480223e-02  2.75639780e-02\n  2.39076354e-02 -2.01295968e-02  1.58213358e-02  1.55883841e-02\n  5.06384997e-03  1.13287307e-02 -2.53805276e-02  3.19272839e-02\n  1.29964426e-02  1.60160493e-02 -1.61460843e-02 -8.36959481e-03\n -4.04213928e-02 -6.66753901e-03  6.77029267e-02  1.62164178e-02\n  6.11081235e-02 -6.54528067e-02  1.64173878e-06 -1.81652792e-02\n -4.58544344e-02  7.30637414e-03  3.83968800e-02  3.72273661e-02\n -5.47645763e-02  6.50701346e-03  2.14405656e-02 -4.44171987e-02\n  5.72143588e-03  1.21622011e-02  8.62302911e-03  6.57288730e-02\n  3.88283022e-02  1.28018022e-01  8.56007170e-03 -3.28308679e-02\n -2.81290077e-02  7.88942259e-03  3.09874746e-03 -3.02814357e-02\n  3.27760875e-02  4.83094268e-02  4.56829481e-02  3.65713574e-02\n  2.11656075e-02 -4.98563498e-02  1.88654028e-02 -2.84202453e-02\n -6.88064843e-02 -6.11520335e-02 -8.75580683e-03  2.06442140e-02\n  5.52173555e-02 -3.16029377e-02  3.90112139e-02 -2.82065477e-02\n -1.53132295e-02  3.44934575e-02 -4.19435427e-02 -3.34006324e-02\n  2.79605645e-03 -1.00770164e-02 -1.92360301e-02  1.31722568e-02\n  5.36216795e-02  7.81997368e-02 -6.83774129e-02 -1.76859684e-02\n -3.99954729e-02  3.64569426e-02 -2.43371166e-02 -4.43831384e-02\n -8.38616490e-02  2.33016722e-02 -3.90155911e-02  5.60502708e-02\n  2.26873197e-02  1.83348153e-02  1.47179021e-02 -3.23372707e-02\n -8.30204971e-03 -3.75400782e-02  6.65903240e-02 -7.03821629e-02\n  1.22795170e-02  5.71475774e-02 -3.58128175e-02 -9.86036658e-03\n -3.26129831e-02  2.95449663e-02  3.15491925e-03  4.00190763e-02\n  1.82423797e-02  1.81033043e-03 -4.05743392e-03 -8.11228622e-03\n -2.54116151e-02  1.49409603e-02  4.07821639e-03  2.16818992e-02\n -4.13840339e-02 -9.77847818e-03  2.51284204e-02  1.09218229e-02\n  2.74937972e-02 -4.07453924e-02 -3.09042558e-02  3.28795216e-03\n  5.16785644e-02 -6.85907304e-02 -3.04608662e-02  3.64981554e-02\n -5.58977341e-03 -2.16921549e-02 -1.57611482e-02 -3.13568637e-02\n -3.89062278e-02  4.46138903e-02 -1.32859638e-02  4.63018678e-02\n  1.87968090e-02 -3.63732949e-02  4.19088788e-02  5.91699816e-02\n -4.33987789e-02 -2.77320761e-02 -1.07726362e-02  1.82482228e-02\n  3.23156193e-02 -6.21713586e-02 -1.94468759e-02  4.24972437e-02\n -3.87149118e-02  5.10709025e-02 -4.42391969e-02 -2.90707815e-02\n -7.53255747e-03  5.64545672e-03  4.18117642e-03  1.35427974e-02\n  8.42298567e-03 -1.40222777e-02 -6.21434161e-03 -4.04871441e-02\n  4.06874120e-02 -5.95050678e-03  4.75235544e-02  7.87077937e-03\n -7.80836400e-03 -1.53705860e-02 -3.70619297e-02  1.65675748e-02\n -1.70640368e-02 -5.51496856e-02 -3.20972945e-03 -5.67044243e-02\n -2.40943134e-02  2.26407126e-02 -6.28952086e-02  2.87596416e-02\n  9.70088504e-03  3.12158503e-02  7.60828285e-03  7.25145079e-03\n -2.50684023e-02  3.62918563e-02  2.08675619e-02 -1.60638187e-02\n  1.16943931e-02 -1.75198540e-03  2.34346371e-02 -1.58692375e-02\n -1.76044274e-02 -5.64783299e-03  1.85408536e-03  3.30884904e-02\n  1.25286747e-02 -1.43569382e-02  3.08457017e-02  6.45098388e-02\n  6.41150922e-02 -3.38272303e-02  1.20340651e-02 -4.00670804e-02\n  2.72803493e-02  4.07626946e-03  2.17264835e-02  4.72150333e-02\n -3.89688984e-02 -1.52104292e-02 -7.55452588e-02 -2.56046578e-02\n -3.68218571e-02  1.36105791e-02 -1.83427036e-02 -2.93569086e-04\n -4.28025704e-03  9.87311266e-03 -2.58956403e-02  3.90074658e-03\n  2.14233100e-02 -3.81618552e-02  3.97247821e-03 -6.76556081e-02\n -6.08123466e-02  1.11150844e-02 -2.03771293e-02 -1.41070532e-02\n  2.39702826e-03  8.66548996e-03 -3.61633077e-02  1.44949555e-02\n -1.12724316e-03 -2.78117321e-02  2.42877379e-03 -1.75500493e-02\n  7.26768328e-03  5.60858985e-03  2.56596655e-02  1.64899547e-02\n -1.00122802e-02  6.47796027e-04 -2.04082276e-03 -6.95959851e-02\n  1.55401016e-02 -3.67028788e-02  3.58260721e-02 -3.90832797e-02\n  6.55492861e-03  2.91340575e-02 -6.79127523e-04 -2.13874970e-02\n -1.10954884e-02 -2.43588872e-02 -3.34306918e-02  6.03799596e-02\n -4.07182463e-02 -7.29117915e-03 -1.29522784e-02 -7.55907595e-03\n  9.06946603e-03  8.36189315e-02  8.69387686e-02  4.43673134e-03\n -2.20159516e-02 -3.17073725e-02 -3.60193551e-02  5.15559278e-02\n  4.15749811e-02 -5.00855520e-02 -1.95809193e-02 -1.95026491e-03\n  1.14434306e-03  2.59769429e-03 -2.93776784e-02  1.78852323e-02\n  3.89492549e-02 -2.65576988e-02 -9.32916068e-03 -3.02650942e-03\n -8.06453601e-02 -1.57180801e-02  1.52961062e-02  2.93793790e-02\n -3.40811023e-03 -4.35405178e-03  6.98315725e-02 -3.35410126e-02\n -1.68162063e-02  2.37695761e-02 -2.37171873e-02  1.94327405e-03\n -2.02866271e-02  2.32791938e-02 -4.09189761e-02 -7.94899929e-03\n -5.33361882e-02 -6.50609881e-02  2.09088232e-02 -5.15592434e-02\n -8.58771577e-02  1.34882238e-02  9.44843050e-03 -7.57908355e-03\n  1.67441871e-02  2.11568642e-02 -1.40228635e-02  1.33327544e-02\n -5.80718089e-03  1.87984798e-02  2.61095371e-02  3.13870050e-02\n -4.87766191e-02  9.84299812e-04 -5.19892834e-02  1.96100678e-02\n -8.45273733e-02 -4.08224873e-02 -2.20701806e-02 -3.86450812e-03\n -3.06321234e-02 -4.17067632e-02 -2.42258552e-02  5.03550246e-02\n  5.63646620e-03 -2.61340272e-02 -6.98172022e-03  1.73320202e-03\n  1.55671686e-02 -3.39748748e-02 -4.69319848e-03 -4.29394422e-03\n  2.11690608e-02 -2.00295914e-02  2.22112387e-02  1.78345740e-02\n -7.84265846e-02  7.79172033e-02  1.21478075e-02 -6.15059771e-02\n  1.69916786e-02 -3.27036642e-02 -7.24609243e-03 -1.47576146e-02\n -2.60108411e-02  1.95594579e-02  2.95714699e-02  3.23594473e-02\n  9.63623971e-02  3.68626863e-02 -7.08974898e-02  1.58488620e-02\n  1.25554740e-01 -3.24494578e-03  9.13849362e-05 -1.87372975e-02\n -6.66039735e-02  3.75081263e-02 -8.58498830e-03 -6.05078489e-02\n  2.16043871e-02 -1.40711144e-02 -6.17275536e-02  2.25915071e-02\n -9.66170207e-02 -3.46005410e-02 -1.19805142e-01 -9.74842347e-03\n  5.88760860e-02  8.28563496e-02  1.71961077e-02 -1.91091071e-03\n -9.60995350e-03 -7.27866963e-03  5.11011258e-02  1.44159002e-02\n -5.19390218e-02  1.92312300e-02 -9.44850873e-03 -7.63555896e-03\n -2.89456155e-02 -5.69332056e-02 -5.60817756e-02  2.57143434e-02\n -1.05668474e-02  5.76185528e-03  9.52390805e-02  2.95222290e-02\n -4.83215116e-02 -6.41929582e-02 -7.96795171e-03 -1.00716054e-02\n  4.81637269e-02  1.87519006e-02  1.09562976e-02 -7.68299103e-02\n -8.95536095e-02  1.61432829e-02  5.65611646e-02  5.47956526e-02\n  4.00897563e-02  2.33288500e-02 -9.45009699e-04  4.51879799e-02\n  4.19559563e-03  4.73182797e-02  1.12706628e-02  1.05314120e-03\n  1.58255380e-02 -1.23751499e-02  1.42681338e-02 -1.90550908e-02\n  6.22837665e-03  7.29700318e-03 -2.54226867e-02 -3.20478939e-02\n -1.93649419e-02  5.37672499e-03 -2.83296388e-02  2.64633633e-02\n -1.49603980e-02  1.68160498e-02  4.15799171e-02  3.46104130e-02\n  9.59077291e-03 -4.40412061e-03  3.01964395e-02  2.47474778e-02\n  4.50311154e-02  2.04207748e-02  9.11285449e-03 -1.24357846e-02\n -1.52780144e-02  2.85158237e-03 -2.13458994e-03  1.61247216e-02\n -5.24744280e-02 -5.23237810e-02 -1.09537624e-01  5.08299433e-02\n  1.60917975e-02  1.40682021e-02 -5.56771681e-02  2.56306827e-02\n -2.49394216e-02  6.55421475e-03  6.55063018e-02  3.14230882e-02\n  8.27457011e-03 -2.24860348e-02 -1.43877175e-02  1.85949896e-02\n -5.82125746e-02 -4.37337719e-02 -6.03982108e-03  3.81560847e-02\n  2.73972731e-02 -3.50487940e-02  4.50053588e-02 -5.86557668e-03\n -6.49656057e-02  5.06169954e-03 -1.25475703e-02  3.40197422e-02\n  2.09865309e-02  1.36268968e-02 -5.23813022e-03 -3.76463160e-02\n  2.47702505e-02 -1.10743325e-02 -7.07720593e-02 -2.75279991e-02\n  3.59571502e-02  4.67512831e-02  2.40772441e-02 -4.71508354e-02\n -4.20786021e-03  1.72017375e-03  2.24089026e-02 -1.14610577e-02\n -4.73171026e-02 -9.68816970e-03  2.13251961e-03  1.75520871e-02\n -4.63649863e-03 -5.62466867e-03  1.80362798e-02 -8.75969231e-02\n  2.08626240e-02 -3.52519862e-02  7.69482041e-03 -2.64574792e-02\n -1.67441852e-02 -4.81333584e-04  1.12290215e-02  1.87956251e-03\n  3.42208077e-03  1.86798479e-02 -2.90184766e-02  1.72888506e-02\n  6.80845277e-03  4.08096500e-02  5.50416186e-02  2.80707236e-02\n  7.50243245e-03  1.23544531e-02 -4.25261110e-02 -3.09539605e-02\n -3.35897580e-02 -2.77638808e-02 -6.16554357e-02 -1.74784772e-02\n  3.08164097e-02  1.43007208e-02  1.48957679e-02  5.00192940e-02\n -2.31869193e-03  4.80441302e-02  6.12143390e-02  3.38868462e-02\n -3.19158356e-03  1.31677855e-02 -3.76804406e-03  2.52740253e-02\n  3.27045545e-02 -3.86573598e-02  5.56527032e-03 -7.22306594e-02\n -5.92412949e-02  2.06139982e-02  4.14019404e-03 -1.21321557e-02\n  1.23693822e-02  1.59757491e-02 -6.60051685e-03 -1.44943958e-02\n  8.08919519e-02  3.29148695e-02 -3.59997489e-02 -1.38288634e-02\n  6.68210313e-02  2.00693645e-02  1.95853133e-02  1.79169457e-02\n  3.81526053e-02 -2.60963775e-02 -9.89970937e-03  1.47767952e-02\n  2.89487336e-02 -6.80571003e-03 -9.50880989e-04  9.85355582e-03\n -2.17934959e-02 -2.91084051e-02  8.33016355e-03  2.55092606e-03\n  6.04315251e-02  1.99529566e-02  4.93093245e-02 -4.20574503e-33\n -1.76409427e-02  9.94413253e-03  4.49784175e-02 -1.25677856e-02\n -4.19687852e-02 -4.69331304e-03 -3.01758368e-02 -4.85308990e-02\n  3.73282582e-02 -2.99066212e-02  1.78870850e-03  3.69100161e-02\n  6.49869489e-03  5.59874112e-03 -1.91761181e-02 -3.70991118e-02\n  2.78960168e-02  5.87309450e-02  5.45698889e-02 -1.30861597e-02\n  3.23225334e-02 -8.60213360e-04  3.27292420e-02 -6.15677238e-03\n  6.81275278e-02 -2.03599717e-04 -3.12936716e-02 -2.31531914e-03\n  4.57841270e-02  3.34523171e-02 -2.57928837e-02 -8.79505724e-02\n  5.57023548e-02  3.65096070e-02 -1.45343728e-02  1.83911491e-02\n -5.58873527e-02 -4.62807193e-02 -6.44887192e-03 -1.32574607e-03\n  1.69984698e-02 -4.29346412e-02  2.00155266e-02 -3.04304734e-02\n -7.24377334e-02 -3.93909924e-02 -2.74014901e-02 -7.09965499e-03\n -3.84404063e-02  1.91235691e-02 -5.37079200e-02 -2.57953350e-03\n -2.13160571e-02  3.44079323e-02 -3.49005461e-02 -1.15591660e-02\n  3.32361758e-02  2.92365309e-02  3.48202437e-02  4.39274609e-02\n  2.11662780e-02  4.13492955e-02 -4.51856516e-02 -5.54944947e-02\n  3.41768637e-02 -3.70315313e-02 -4.64988947e-02 -5.11570647e-02\n  8.62220023e-03  3.81071419e-02  2.34998558e-02  2.75651366e-02\n -6.76025078e-02 -4.88119607e-04  8.96400400e-03 -5.34162968e-02\n -3.29059996e-02  7.28907511e-02  6.85631065e-03  5.10509238e-02\n  2.02125609e-02  4.28924337e-02 -7.46483207e-02 -1.63757429e-02\n  7.35661164e-02 -3.63518782e-02  9.14320163e-03 -1.11223254e-02\n  3.03090569e-02 -8.58569704e-03  2.42533088e-02  6.88641220e-02\n -5.72629226e-03  1.92840118e-02  6.99950680e-02 -4.05500364e-03\n -5.05686812e-02 -4.76750266e-03  5.17137796e-02  6.31998628e-02\n -2.51080878e-02 -5.92640638e-02  5.74664883e-02 -5.21048941e-02\n  7.55552156e-03  5.58037534e-02  6.71355575e-02  3.19120623e-02\n -2.88757589e-02 -1.45746525e-02 -2.94501940e-03  3.80378440e-02\n  2.29487522e-03  5.66073284e-02  1.28791470e-03  7.54024135e-03\n -2.92633078e-03 -1.39460294e-02  1.65169835e-02  3.45429964e-03\n  3.49079520e-02 -3.81275639e-02  6.14842109e-04  1.53252045e-02\n  2.00034939e-02  7.81706348e-03  1.03281802e-02 -1.12590927e-03\n -3.19141857e-02 -3.82567309e-02 -1.31586036e-02  4.81030345e-02\n  2.06763545e-07 -1.81208998e-02  2.76402999e-02  5.13147675e-02\n -7.80407572e-06 -2.79097408e-02 -3.90555300e-02 -3.63958739e-02\n  6.34069145e-02  1.32009201e-02  4.78325859e-02  2.43969448e-03\n -3.17130610e-02 -1.89887285e-02 -2.36753374e-02 -2.10533738e-02\n  1.45775555e-02  7.21782148e-02 -3.18541937e-02  2.41721515e-02\n  7.25596920e-02  4.32397202e-02 -4.23630774e-02 -3.26082180e-03\n -2.71121110e-03  2.92965267e-02 -4.97561842e-02  1.23268617e-02\n -2.76993066e-02 -4.58275229e-02 -2.07521580e-02  5.73476776e-03\n  5.33305891e-02  3.51198576e-02  5.76732010e-02  1.53126540e-02\n  1.62248816e-02  5.92382252e-02  5.75555414e-02  2.07385682e-02\n  1.99082159e-02 -6.03900403e-02 -9.96348262e-02  6.82126079e-03\n -7.27753788e-02  1.02593489e-02  6.88386783e-02 -3.83878946e-02\n -2.73944600e-03  3.42547856e-02  3.12865600e-02  2.77222004e-02\n -2.02602576e-02  2.99852509e-02 -5.15496507e-02  5.63299879e-02\n -3.65579575e-02  1.13791069e-02 -4.19507660e-02  1.10027678e-02\n -5.07893413e-02  7.52373086e-03  2.53015906e-02 -2.93707103e-03\n  3.09771635e-02 -7.18566030e-03 -2.47452185e-02  3.62838735e-03\n  2.02671068e-34  2.54565179e-02 -6.32342622e-02  1.24273337e-02\n -2.21739765e-02 -2.84375306e-02  7.68743106e-04 -5.11744805e-03\n -3.48189585e-02  4.47820164e-02 -8.53766799e-02 -5.34001598e-03]"
        ],
        [
         "2",
         "-3",
         "Illustrations (a) A, a Pakistan subject, commits a murder in Uganda.He can be tried and convicted of murder in any place in Pakistan in which he may be found.5[] 5   6[(c) C, a foreigner who is in the service of Pakistan commits a murder in London.He can be tried and convicted of murder at any place in Pakistan in which he may be found.]6   (d) D, a British subject living in Junagadh, instigates E to commit a murder in Lahore.D is guilty of abetting murder.7[  5.Certain laws not to be affected by this Act.Nothing in this Act is intended to repeal, vary, suspend or affect any of the provisions of any Act for punishing mutiny and desertion of officers, soldiers, sailors or airmen in the service of the State or of any special or local law.   ]7   CHAPTER II GENERAL EXPLANATIONS 6.",
         "788",
         "151",
         "197.0",
         "[ 2.61548571e-02 -1.92588679e-02  2.78763473e-02 -2.94266865e-02\n -7.48448148e-02 -1.86049938e-02  5.68536669e-02  9.87256691e-03\n  4.23317179e-02  4.51554321e-02 -4.82021756e-02  4.24526967e-02\n  3.62219550e-02 -2.85499580e-02  6.38078004e-02  2.69570909e-02\n  1.99824311e-02 -1.12048807e-02 -8.76870193e-03  1.75941866e-02\n -1.75153874e-02  3.18769924e-02 -3.99054065e-02  1.64472964e-02\n  6.09015338e-02  1.43613042e-02 -1.41574154e-02 -5.46725560e-03\n -5.41224964e-02  1.56244310e-02  4.26236987e-02  1.50298337e-02\n  1.56194866e-02 -8.53127334e-03  1.63891252e-06 -2.99121276e-03\n -3.24397488e-03  4.97915735e-03 -8.07287986e-04  4.38704714e-02\n -3.46142761e-02  1.34191383e-02 -2.16264427e-02 -3.30301262e-02\n -2.05005724e-02  4.33660261e-02  2.88891117e-03  3.36731151e-02\n  1.39639797e-02  1.13149606e-01  2.13278979e-02 -3.90819125e-02\n -6.24914467e-02 -1.19509585e-02  5.05837351e-02  2.76634414e-02\n  7.72071443e-03  2.30058376e-02 -4.83914884e-03  3.19007710e-02\n  2.96144765e-02 -6.62880614e-02 -3.56754027e-02 -2.81033535e-02\n -7.32793808e-02 -6.44440874e-02 -7.87565857e-03  2.63167452e-02\n  6.99462593e-02 -9.89110861e-03  8.70925281e-03 -4.56975913e-03\n  1.18839531e-03  5.68322577e-02 -1.17111634e-02 -1.33613655e-02\n  4.08132300e-02  1.50621925e-02 -1.55658629e-02 -5.57616120e-03\n  9.16387066e-02  5.81075363e-02 -5.12420535e-02 -2.51388773e-02\n -3.01740430e-02  4.54710145e-03 -2.59282719e-02 -1.45251304e-02\n -8.68888497e-02  5.04046911e-03 -3.68661173e-02  5.03786169e-02\n  3.46101671e-02 -2.03785929e-03 -3.51912491e-02 -4.93201287e-03\n  2.12228321e-03 -5.42252921e-02  6.37944192e-02 -1.15994342e-01\n -7.51401763e-03  8.08934774e-03 -2.76374687e-02  2.46502124e-02\n -2.46064626e-02  3.79806617e-03 -7.90725090e-03  6.06150851e-02\n -3.05954628e-02  3.28618921e-02 -7.45264406e-04 -1.15319956e-02\n -4.60708310e-04 -1.94805511e-03 -4.37996641e-05  4.14555892e-02\n -6.60618320e-02 -3.45501341e-02 -3.23754475e-02  3.49473469e-02\n -2.32724939e-02 -4.03092764e-02 -4.57831733e-02 -1.44962939e-02\n  1.46532618e-02 -4.01104130e-02 -2.39275564e-02  4.58925739e-02\n -5.33841886e-02 -3.84147018e-02 -2.25645993e-02 -9.39885620e-03\n -4.24578227e-02  5.58315814e-02 -7.18129333e-03  6.64332807e-02\n  7.15820445e-03  2.50323918e-02  4.83315950e-03  3.34937423e-02\n -1.08594745e-02 -3.82558368e-02 -3.05326302e-02  6.63010543e-03\n  2.42217095e-03 -7.56267458e-02 -3.11979838e-02  1.98649447e-02\n -1.80786327e-02  5.62921911e-02  6.96846051e-03  2.26773582e-02\n  3.61871943e-02 -6.00591069e-03 -1.30135696e-02  2.35048477e-02\n -3.41849253e-02 -2.10433081e-02 -1.09998090e-02 -6.68410072e-03\n  2.16492247e-02  6.18985901e-03  9.28628296e-02  2.81081744e-03\n -1.79672372e-02 -3.83547880e-02  1.58626847e-02 -2.62660030e-02\n -3.84381749e-02 -4.42137904e-02  4.92174514e-02 -5.19425459e-02\n -1.69378053e-02  4.35423777e-02 -5.13110980e-02  3.14956270e-02\n -7.41038984e-03  2.74763219e-02  1.60393324e-02 -6.28912682e-03\n -5.57653755e-02  5.30231185e-02 -1.99631769e-02 -1.16745811e-02\n  7.37729855e-03  3.33197489e-02 -5.10558253e-03  3.23115587e-02\n -3.22133414e-02  3.26801389e-02  1.82640124e-02 -5.33497566e-03\n -3.14547233e-02  2.76408195e-02  2.45884247e-03  3.58580388e-02\n  4.98747751e-02  9.62162483e-03  1.76992267e-02 -3.65118086e-02\n  3.25069204e-02  2.63958648e-02  8.42289627e-03  2.41165850e-02\n -4.00838517e-02 -1.41078141e-03 -8.30589682e-02 -4.19040136e-02\n -5.88420965e-03 -7.35844998e-03  8.47799703e-03 -8.96589179e-03\n  2.07134448e-02  1.67923886e-02 -1.09469155e-02  3.78123438e-03\n  1.30609926e-02 -2.91902181e-02 -1.39128389e-02 -2.87394375e-02\n -4.20993231e-02 -2.16903631e-02  1.07069295e-02 -2.67085563e-02\n  6.28522271e-03 -1.46289757e-02 -4.27932180e-02 -1.10619552e-02\n  2.46659759e-02 -2.03857645e-02 -7.81373307e-03 -7.91457947e-03\n  2.88085323e-02  6.35173125e-03  2.12924052e-02  5.40312454e-02\n -2.13080272e-02 -7.30990805e-03 -3.27172689e-02 -8.86064321e-02\n  1.40778041e-02 -6.55304193e-02 -2.64124628e-02 -2.12366115e-02\n  1.66701488e-02  4.33330312e-02 -2.31113117e-02 -2.77554002e-02\n  1.72347156e-03 -2.23706551e-02 -2.07286291e-02  4.11283262e-02\n -2.89059505e-02  2.38879565e-02  9.51663684e-03 -3.92954797e-02\n  1.51895899e-02  8.12744051e-02  7.51131177e-02 -1.23435063e-02\n -5.37609346e-02 -3.66129039e-04 -5.76436222e-02  5.14820665e-02\n  1.61050446e-02 -4.45963889e-02 -4.90486771e-02 -1.38034299e-03\n  2.03356072e-02  3.02640293e-02 -4.29828055e-02 -2.32837815e-02\n  7.43997321e-02 -3.80162639e-03 -2.13127770e-02 -4.85096872e-02\n -3.36471535e-02  8.28983076e-03  7.88098760e-03  1.86143890e-02\n -2.28158291e-02  2.64534988e-02  3.80292274e-02  3.44478898e-03\n -4.52724053e-03  1.17201749e-02 -2.20423061e-02  1.28022470e-02\n  6.62376592e-03 -1.64588785e-03 -9.78492666e-03  1.93453971e-02\n -5.17746136e-02 -4.08532396e-02  1.32452408e-02 -4.78389487e-02\n -6.81535080e-02  6.18895218e-02  2.98591275e-02  4.15116474e-02\n  4.91998456e-02  1.61572155e-02 -3.08590867e-02 -5.77724818e-03\n -2.00429726e-02  4.99937497e-02  3.79239731e-02  3.87524627e-02\n -9.96671841e-02 -7.54120946e-02  5.51490625e-03  2.73156911e-02\n -4.79934253e-02 -6.56539761e-03 -3.74898612e-02 -7.11563369e-03\n -4.31102626e-02 -6.99841455e-02 -7.38015305e-03  4.75760289e-02\n  2.98775118e-02 -1.81614645e-02  1.82317954e-03  2.95856223e-02\n  4.50050421e-02 -1.93699766e-02  2.85483506e-02 -3.37709710e-02\n  4.22171205e-02 -1.82049498e-02  1.64314117e-02 -3.11022042e-04\n -5.76218851e-02  9.06539112e-02  9.71660018e-03 -1.58149227e-02\n -1.87688824e-02 -2.74795387e-02 -3.32311657e-03 -1.20942472e-02\n -4.50675786e-02  1.45540899e-03  3.50595377e-02 -2.87023224e-02\n  3.49117108e-02  5.49518317e-03 -7.51878023e-02  2.29578726e-02\n  4.55721878e-02 -4.46002930e-03  8.19354132e-03 -3.11920661e-02\n -5.14508486e-02  3.26435268e-02 -2.88499054e-02 -8.12253654e-02\n  1.04744611e-02 -2.51376927e-02  1.23572145e-02 -4.23446111e-03\n -7.55955204e-02 -4.76961769e-02 -9.69131142e-02  1.14290733e-02\n  6.40256628e-02  8.29933509e-02  3.17864940e-02 -2.43116487e-02\n -1.58204734e-02 -1.51742455e-02  2.32560933e-02  5.68812452e-02\n -8.20527319e-03  6.67747334e-02 -3.60234827e-02 -6.12775795e-02\n -1.28581636e-02 -3.75703387e-02 -3.67269367e-02  2.33399868e-03\n -1.44544970e-02 -4.33556959e-02  9.31068137e-02  1.39216566e-02\n -5.36747202e-02 -7.97942430e-02  5.67524973e-03 -6.20516133e-04\n -2.51733772e-02  3.85258868e-02  1.79322213e-02 -1.68478321e-02\n -4.75939177e-02 -1.15927020e-02  1.92575045e-02  4.65310120e-04\n  4.75540049e-02 -1.75861530e-02 -4.58339751e-02  2.34377682e-02\n -6.56754943e-03  1.95201449e-02  5.32920919e-02 -2.93728616e-03\n -3.19073722e-02  2.69284714e-02  5.06210933e-03 -2.73903608e-02\n -8.74456577e-03  1.52654666e-02 -1.74807254e-02 -8.90946714e-04\n -5.26193045e-02  2.33106744e-02  9.08939727e-03  4.31279838e-02\n -2.48600654e-02 -4.08944786e-02  1.68266781e-02  6.68832883e-02\n -2.44946126e-02  4.29789210e-03 -3.24704242e-03 -1.21103441e-02\n  2.38343310e-02  5.24263009e-02  1.35449106e-02  3.01016890e-03\n -4.17119032e-03 -2.82705128e-02  2.23173816e-02  1.22170961e-02\n -2.52362918e-02 -2.50052884e-02 -1.02165051e-01  1.96406357e-02\n  8.92358832e-03  4.70843865e-03 -7.07740849e-03  2.30005998e-02\n  7.22923269e-03  3.89881851e-03  8.47368762e-02  6.28191456e-02\n  4.14224379e-02  2.61570159e-02 -1.94702875e-02  3.42709646e-02\n -5.94647527e-02 -3.88229154e-02 -2.25733202e-02  5.55113330e-02\n  4.60812300e-02 -3.52156125e-02  6.21994585e-02  2.75640804e-02\n -8.67621899e-02 -2.57570725e-02  6.60072640e-03  2.49164328e-02\n  4.34847027e-02  2.99786422e-02  8.52637691e-04 -6.57432079e-02\n  1.32315038e-02  2.70389928e-03 -6.17532656e-02  3.14297155e-02\n  5.42338081e-02  5.45980502e-03  2.80369464e-02 -3.69949900e-02\n  3.80060112e-04 -1.43232755e-02  1.25781475e-02 -9.50386841e-03\n -7.06994310e-02 -2.22127773e-02  5.44224381e-02  2.70922761e-02\n -2.62528099e-02  7.61870109e-03  2.19884366e-02 -4.00018059e-02\n  1.04360553e-02 -3.15998942e-02  2.58166902e-02 -1.39051126e-02\n -1.30514689e-02 -3.72681990e-02  3.40413675e-02  2.26364303e-02\n  1.11713335e-02  7.66032189e-03 -3.44586596e-02  2.56542079e-02\n  6.25992846e-03  4.31490503e-02  8.87058303e-02  1.32775288e-02\n  1.82909667e-02  1.72369499e-02 -3.48462649e-02  3.01140156e-02\n -3.59939262e-02 -1.21485558e-03 -6.88759461e-02 -3.32508683e-02\n  7.32461317e-03  4.30493755e-03  1.97434463e-02  4.60165180e-02\n -4.96589169e-02  1.38083613e-02  4.03066762e-02 -4.83111432e-03\n  6.37289369e-03 -4.19275649e-02  1.04959402e-02  3.20188999e-02\n  4.86796089e-02 -3.28810550e-02  5.46526608e-05 -7.18475804e-02\n -3.35124992e-02  4.55961749e-03  1.92468204e-02  1.34418737e-02\n  5.34688570e-02 -1.64675415e-02 -3.81172337e-02 -1.51447356e-02\n  9.07517895e-02  2.44804788e-02 -4.56452696e-03 -6.91120997e-02\n -3.34504209e-02 -2.47494597e-02  1.17997425e-02 -2.39725411e-03\n  1.42963603e-02  1.97737496e-02 -4.58527356e-03  1.31115615e-02\n  3.65435258e-02 -1.12330518e-03  1.04551408e-02  1.47069572e-03\n  1.89443175e-02  9.68410913e-03 -1.85996834e-02  1.70977768e-02\n  3.76696661e-02  4.60936280e-04  6.30210191e-02 -4.37291356e-33\n -2.23923791e-02 -1.77735202e-02  4.05974202e-02  4.68008779e-02\n -4.24356088e-02 -2.56290175e-02 -3.26113999e-02 -3.95332873e-02\n -2.70254500e-02 -1.70431640e-02 -1.66173577e-02  1.49010234e-02\n  1.66432709e-02 -2.86224596e-02 -2.84334421e-02 -1.81156993e-02\n  5.38619468e-03  6.95881099e-02  5.59749529e-02  3.34484736e-03\n  1.32032614e-02 -7.91055709e-03  1.89662520e-02  2.98045576e-04\n  6.83384761e-02  1.82445031e-02 -5.74990138e-02 -2.11776495e-02\n -1.51105830e-02  6.13597641e-03 -2.69903000e-02 -5.91269210e-02\n  2.55195387e-02  2.93035731e-02 -3.04409163e-03  3.75487469e-02\n -9.85479541e-03  1.03854267e-02 -4.61758394e-03  1.54252797e-02\n  3.37297879e-02 -4.55172695e-02 -8.30452610e-03 -3.07348650e-02\n -4.58004177e-02 -1.93328764e-02 -7.94545934e-03  3.15863900e-02\n -6.24464788e-02  1.65033638e-02 -1.01693854e-01 -7.53828837e-03\n -3.45819816e-02  3.62502150e-02 -5.39641753e-02 -2.49768347e-02\n  3.64248492e-02 -1.06212841e-02 -3.46392579e-03  5.00544831e-02\n  2.88881734e-02  4.38545644e-02 -3.68753895e-02 -2.67016683e-02\n  1.07541764e-02 -1.68408975e-02 -6.57185093e-02 -7.84902368e-03\n  4.29459708e-03  4.20333073e-02  1.75545774e-02  5.53443916e-02\n -3.08402199e-02  1.52127752e-02  3.30963172e-02  2.26064958e-03\n -4.81707267e-02  5.28581142e-02  8.04406181e-02  6.43197820e-02\n  1.48340287e-02  5.63877337e-02 -1.02182282e-02 -1.44109949e-02\n  4.67244759e-02 -3.15718390e-02 -3.24959345e-02  2.45060995e-02\n  5.42779511e-04 -4.49653305e-02  4.26474214e-02  4.43452736e-03\n -4.78634192e-03  5.36964945e-02  7.27299079e-02 -3.74133955e-03\n -9.07846447e-03  3.39649320e-02  1.98857728e-02  3.57001349e-02\n -2.35470310e-02 -3.43059935e-02  4.04129140e-02  2.45591113e-03\n  2.14282945e-02  3.60993966e-02  1.84179191e-02  1.46858185e-03\n -6.42071990e-03 -1.21656926e-02  2.25052005e-03  3.70297655e-02\n -1.01892250e-02  7.12119974e-04  9.59660299e-03  1.51894325e-02\n -2.10228618e-02 -5.11449911e-02  1.75891463e-02 -1.67393908e-02\n  5.55989966e-02 -5.03639691e-03  2.11293157e-02 -3.36286216e-03\n  3.15672718e-02 -9.30706598e-03  4.72132154e-02  3.18280235e-02\n -3.56770083e-02 -3.99487503e-02 -3.13102491e-02  1.43627608e-02\n  2.23576691e-07 -2.48224684e-03 -2.61735375e-04  2.70773545e-02\n  1.74488258e-02 -1.64052062e-02  2.37601926e-03 -3.36264968e-02\n  4.82192822e-02  5.68278357e-02  2.96144448e-02  1.32219084e-02\n -3.85943614e-02  1.65480450e-02 -3.46769067e-03 -5.69797270e-02\n  7.59042148e-03  5.54327779e-02 -5.74484421e-03  1.25177335e-02\n  3.85417417e-02  4.14232574e-02 -3.68779860e-02  9.99532267e-03\n -2.09093839e-02  1.33166788e-02 -8.45756847e-03 -2.25394387e-02\n -3.56484987e-02 -7.28647485e-02 -5.89935854e-03  6.76289350e-02\n -1.41349342e-02  1.21604430e-03  5.23699485e-02  1.82985347e-02\n -6.05920255e-02  2.44768169e-02  3.86537686e-02  3.72734740e-02\n  2.17504129e-02 -7.53180161e-02 -1.19799845e-01  2.98003517e-02\n -3.38137150e-02  4.36859531e-03  1.15754955e-01 -6.19620793e-02\n  1.36032272e-02 -2.40641702e-02  2.66508143e-02  4.60683107e-02\n  4.22929637e-02 -1.15012536e-02 -4.61998247e-02  5.65406568e-02\n -1.28583685e-02  8.06878414e-03 -2.46649776e-02 -3.11765503e-02\n -2.39756647e-02  2.20247507e-02  5.45335328e-03  8.83465447e-03\n  8.20402056e-02  2.15738658e-02 -2.13834504e-03  2.31205076e-02\n  2.47247880e-34  1.52064757e-02 -4.28722203e-02  4.49194424e-02\n  1.56216687e-02 -1.76180825e-02  1.39510697e-02 -7.03304186e-02\n -4.24728431e-02  7.47841224e-02 -7.19434097e-02  2.98068430e-02]"
        ],
        [
         "3",
         "-3",
         "Definitions in the code to be understood subject to exceptions.Throughout this Code every definition of an offence, every penal provision and every illustration of every such definition or penal provision, shall be understood subject to the exceptions contained in the chapter entitled \"General Exceptions,\" though those exceptions are not repeated in such definition, penal provision or illustration.Illustrations (a) The sections in this Code, which contains definitions of offences, do not express that a child under seven years of age cannot commit such offences; but the definitions are to be understood subject to the general exception which provides that nothing shall be an offence which is done by a child under seven years of age.(b) A, a police officer, without warrant, apprehends Z who has committed murder.Here A is not guilty of the offence of wrongful confinement; for he was bound by law to apprehend Z, and, therefore, the case falls within the general exception which provides that \"nothing is an offence which is done by a person who is bound by law to do it.\"",
         "1080",
         "175",
         "270.0",
         "[ 2.71218456e-02 -7.21519217e-02  4.46842872e-02 -2.88666114e-02\n -7.65517261e-03  3.24862041e-02  3.09156645e-02 -1.43987511e-03\n  5.84234111e-03 -2.15570796e-02 -1.56662297e-02  1.31509081e-02\n  6.74120858e-02 -8.50088447e-02 -9.20592435e-03  3.44139873e-03\n  2.19744500e-02  2.51038987e-02  6.97800377e-03  3.32575515e-02\n  1.73591375e-02  1.71415806e-02 -1.59731042e-02 -9.80136730e-03\n -2.22099330e-02 -2.72050779e-02  3.27769332e-02 -9.49870981e-03\n -5.13531156e-02 -2.03224290e-02 -2.80969702e-02 -2.48259353e-03\n  4.00218703e-02  8.61506443e-03  2.27156443e-06 -4.37360704e-02\n -1.95867419e-02 -5.51321767e-02  1.23438919e-02  2.37645358e-02\n -4.83389385e-02 -5.32599129e-02 -9.97956935e-03 -2.68506315e-02\n -8.56974255e-03  3.07883089e-03  3.15118618e-02 -1.12153408e-04\n -3.87748182e-02  4.35606092e-02  9.56500787e-03 -5.16794026e-02\n -4.06059809e-02  9.78354178e-03  5.60932234e-02 -3.26997675e-02\n  4.05559726e-02  2.71868743e-02  2.64469385e-02 -1.65024213e-02\n  3.76062989e-02 -5.21229543e-02  2.42442470e-02 -2.57479697e-02\n -2.25857943e-02 -6.12660646e-02  1.51215531e-02 -2.61389222e-02\n  2.58956999e-02 -1.25184720e-02  4.53552529e-02 -1.61786713e-02\n -2.11138967e-02  3.20793316e-02 -4.67968136e-02 -1.87374949e-02\n  2.62392201e-02  3.52269150e-02 -2.85344925e-02  2.94596218e-02\n  3.88007909e-02  6.50046840e-02 -3.44382748e-02 -1.53219206e-02\n -4.56191599e-02  2.23413352e-02 -4.82559279e-02 -2.37023477e-02\n -5.45280650e-02  5.10055479e-03 -8.47086832e-02 -2.76848860e-03\n -8.07553180e-04  6.69654272e-03  6.81282114e-03 -1.43660104e-03\n -5.33838682e-02 -5.01043797e-02  5.16710468e-02 -7.47104660e-02\n -1.05470596e-02 -2.32195109e-02  2.15606415e-04 -1.08816978e-02\n -4.54102689e-03  2.55927574e-02 -2.77081560e-02 -1.42583437e-02\n -5.39377593e-02  1.61585435e-02 -3.51712806e-03 -3.52218635e-02\n -3.06653660e-02  1.11479824e-02 -3.27610318e-03  5.35557196e-02\n -1.74922422e-02 -2.51105241e-02  1.26813548e-02  3.97859924e-02\n -7.44771063e-02 -4.96360101e-02 -7.86790028e-02 -1.04308194e-02\n  7.56002031e-03 -1.05530061e-01 -2.98198238e-02  3.79303284e-02\n -2.74841245e-02  9.94851068e-03 -2.00913046e-02 -5.74473105e-03\n -3.24214324e-02  3.76575664e-02 -1.61005892e-02  4.60497439e-02\n -6.95002638e-03  7.45672286e-02 -1.26963556e-02 -2.99671553e-02\n -5.36884069e-02 -3.57148089e-02  1.35201691e-02 -7.94743840e-03\n -6.54624924e-02 -4.13055308e-02  1.46536296e-02 -5.43973483e-02\n -4.20557015e-04  4.37174700e-02  3.91149707e-03 -1.76056698e-02\n -5.33897150e-03 -2.26657074e-02 -4.05813046e-02  1.81928445e-02\n  7.43979141e-02  1.82631577e-03 -1.88522823e-02 -1.25573371e-02\n  4.47958931e-02  1.46315722e-02  4.42720465e-02 -2.63171773e-02\n -1.42755238e-02 -2.76506152e-02  1.61135178e-02 -4.27096244e-03\n -1.70888212e-02  4.36145952e-03  1.59087535e-02 -4.52704877e-02\n  6.29232498e-03  4.21306007e-02 -4.51351814e-02  9.25259367e-02\n -5.17438240e-02  3.62375788e-02  1.94378998e-02 -8.16681702e-03\n  1.86439278e-03  2.78875362e-02 -1.53931091e-02  1.85844377e-02\n  3.37505490e-02 -6.48442423e-03 -6.74973875e-02  1.20205646e-02\n -8.28169845e-03 -7.29754160e-04 -9.26333293e-03  3.89553756e-02\n -1.04676234e-02 -2.61212457e-02 -1.31972441e-02  2.78495178e-02\n  5.12585789e-02  4.39060200e-03 -3.63905244e-02  1.05200736e-02\n  4.01318595e-02  7.28742592e-03  4.50452678e-02 -3.22998874e-03\n -4.81869280e-02  2.34429985e-02 -4.66659665e-02  9.99597646e-03\n  3.70003544e-02  2.65508448e-03  1.15920994e-02 -3.50191444e-02\n  1.62832178e-02 -2.43769749e-03 -3.50915976e-02 -5.04894592e-02\n  1.75584443e-02 -3.58670875e-02 -7.64942542e-02 -4.50162329e-02\n -7.88921083e-04  2.15333123e-02  1.34699475e-02 -1.06116533e-02\n  4.96755121e-03 -5.62938564e-02 -8.69048163e-02  4.59981291e-03\n -1.32775810e-02 -2.49606930e-02  1.32431602e-02 -2.60087196e-02\n  1.33840868e-03  2.81195883e-02  9.32971537e-02 -1.71899814e-02\n -5.71800619e-02 -1.18552567e-02 -1.91759523e-02 -9.07862410e-02\n  1.83399674e-02 -8.65072571e-03 -1.72818191e-02 -4.29957546e-02\n -1.61427893e-02 -1.28988549e-02  3.73491421e-02 -3.58073483e-03\n -1.44282440e-02 -2.65115295e-02 -5.92710637e-02  4.40554917e-02\n -3.55312452e-02  3.21667492e-02  4.97055182e-04 -7.78933894e-03\n -1.93591584e-02  6.66133016e-02  1.11520790e-01 -6.12575226e-02\n -4.52766865e-02 -2.99719605e-03  2.41558230e-03  1.23130241e-02\n  5.56095801e-02 -4.63745929e-02  6.20160019e-03  2.06921017e-03\n  4.04919907e-02  2.68538110e-02 -3.79586406e-02 -7.88301416e-03\n  6.02241084e-02  1.07519543e-02 -2.83386633e-02  4.80807386e-02\n -2.14357451e-02 -1.46956146e-02 -1.26570305e-02  4.94197104e-03\n  9.30943806e-03 -1.86051689e-02  5.63693643e-02  9.88861080e-03\n -2.08635926e-02 -1.21101839e-02 -2.42299326e-02 -5.39598661e-03\n  2.49149092e-02  5.19832782e-02 -4.33430858e-02  7.31205102e-04\n -3.14004868e-02 -7.73194106e-03  2.77569648e-02 -1.81764662e-02\n -9.16213617e-02  4.39674668e-02  1.09500438e-02  2.29326151e-02\n  1.69262290e-02 -4.59162780e-04 -1.97915509e-02 -2.96468232e-02\n  3.46180610e-02  3.84712107e-02  1.75029002e-02  1.75947472e-02\n -7.66254365e-02  1.90166235e-02  1.96088832e-02 -8.25083349e-03\n -3.78476121e-02  4.48211282e-02 -5.23129515e-02 -1.00283800e-02\n -7.47651160e-02 -7.82476813e-02 -1.11310622e-02  2.33082678e-02\n -3.95296561e-03 -4.20939848e-02  1.38604352e-02  3.72124128e-02\n  2.12108679e-02 -3.59206870e-02 -3.21304798e-02  3.73119302e-03\n  3.73762660e-02  5.56568375e-05  1.85710713e-02  3.64099331e-02\n -8.68637636e-02  5.37876487e-02  4.39100452e-02  4.38574962e-02\n -1.36658363e-02  8.55723917e-02  2.00701468e-02 -5.24706999e-03\n -2.67629307e-02 -1.45180970e-02  1.19437724e-02 -5.36685325e-02\n  1.50792589e-02  2.28608865e-02 -6.99704438e-02  8.50760099e-03\n  5.61243296e-02  1.06929271e-02 -2.16368064e-02 -2.22510844e-02\n -1.69102140e-02  2.89092734e-02 -6.48495108e-02 -9.43242908e-02\n  3.91529314e-03 -2.95366980e-02 -2.12277062e-02  1.26851723e-02\n -2.80931871e-02  7.27830501e-03 -1.14336975e-01  4.85628545e-02\n  6.47569522e-02  6.29936382e-02  3.57803470e-03  6.76520262e-03\n -6.19614795e-02  1.18412869e-02  6.80223200e-03  1.24459816e-02\n -4.26122174e-02  1.06440969e-02  1.08407820e-02 -8.93266033e-03\n  2.81730574e-03 -6.64314106e-02 -7.28146061e-02  2.04974916e-02\n -1.03384284e-02 -4.14272808e-02  7.56415725e-02 -1.96039444e-03\n  2.27495357e-02 -4.32844684e-02  9.39312018e-03 -2.76811793e-02\n  3.00820433e-02  9.17920619e-02  3.91215086e-02 -2.18032524e-02\n -7.34199062e-02 -1.33101149e-02  4.09029014e-02  5.16389050e-02\n  3.26873437e-02  5.64066432e-02 -4.38367724e-02  2.39578225e-02\n  9.62223485e-03  5.08898795e-02  2.25957129e-02  6.63984381e-03\n  2.88546104e-02  3.07754558e-02 -7.94238690e-03  1.44952359e-02\n -3.61697152e-02  4.99651358e-02 -1.23474104e-02  5.44350874e-03\n -1.74330920e-02  7.28324614e-03 -8.70258361e-02  3.29488888e-02\n  1.10637126e-02 -6.56974539e-02  7.86908623e-03  5.02066389e-02\n -2.52557062e-02  2.18321271e-02  5.34734093e-02 -1.78118218e-02\n -1.44557832e-02  1.68720726e-02  2.09365394e-02  2.57135350e-02\n  2.52478346e-02  2.83099078e-02  8.66649225e-02 -3.26219350e-02\n  1.68813001e-02 -3.86445932e-02 -2.65941359e-02  2.91184131e-02\n -2.39808168e-02  5.90615952e-03 -9.89399478e-03  1.53743010e-02\n  7.99815916e-03  4.39154246e-04  8.66032019e-02  5.18064946e-02\n  1.67015139e-02  1.29103363e-02 -2.85269525e-02 -1.19009251e-02\n -1.52573241e-02  2.05091797e-02 -5.97668439e-02  3.93281244e-02\n  6.21552914e-02 -2.42438503e-02  4.08331975e-02 -1.51267853e-02\n -7.67342821e-02  3.72844562e-02  5.83567768e-02  2.97748335e-02\n  1.46845030e-02  2.97735110e-02  8.80434178e-03 -5.37507981e-02\n -4.16619591e-02 -2.92289834e-02 -6.33292794e-02  8.93214624e-03\n  2.50256788e-02  6.42426871e-03 -5.48954345e-02 -2.40233745e-02\n -3.37826014e-02  3.93343653e-04  2.24178042e-02 -3.11762124e-04\n -3.76714580e-02 -5.90287410e-02  4.58657518e-02  2.69960556e-02\n -2.03293487e-02 -2.21051425e-02  1.94255561e-02 -1.91167686e-02\n  2.28567608e-02 -3.08143701e-02  5.73437698e-02 -2.60744877e-02\n -8.15014169e-03 -9.72646940e-03  1.17038097e-02  2.01836005e-02\n -1.82055563e-04  5.46145141e-02 -3.07337157e-02  8.75136163e-03\n  8.53350852e-03  4.86833602e-02  9.20042992e-02 -1.75676998e-02\n -1.69922411e-02  3.55565548e-02 -3.52492444e-02  9.55257285e-03\n -1.68949701e-02  7.27599114e-02 -4.51429971e-02  3.66597250e-03\n  6.54514367e-03  1.32876905e-02 -3.79989296e-02 -4.01505749e-05\n -6.73751011e-02  5.68547323e-02 -2.24094745e-02 -1.48880007e-02\n -3.65059525e-02 -3.91832180e-03  2.53447983e-02  3.79485898e-02\n  2.27561947e-02 -3.30082513e-02  2.39122454e-02 -5.33258207e-02\n -5.31992018e-02  3.11251041e-02 -6.35452010e-03  1.07240630e-02\n  2.74403188e-02 -8.82328302e-03 -3.75674702e-02  2.33187135e-02\n  2.38430537e-02  2.13733409e-02  4.15553618e-03  8.58496223e-03\n  3.13726366e-02 -1.31564783e-02  1.79228485e-02 -4.00084332e-02\n  1.06967082e-02 -1.83270182e-02  2.60512205e-03  8.09538178e-03\n  4.16604690e-02  2.15061009e-02 -3.49099040e-02  7.56955845e-03\n  3.00584529e-02 -7.61895329e-02  2.14849655e-02  4.16166373e-02\n  4.27510068e-02  3.12501378e-02  2.17693169e-02 -5.52230385e-33\n -6.47474751e-02  2.50419527e-02  2.63015162e-02  2.07429286e-02\n -2.38423012e-02 -4.52496223e-02 -4.36435416e-02 -2.09326092e-02\n  1.01391701e-02 -3.33144777e-02  2.65622549e-02  4.20851521e-02\n  1.25618391e-02 -4.17033350e-03  5.26803173e-03 -4.12282869e-02\n -1.59986340e-03 -9.38575482e-04  4.98405322e-02  5.11833932e-03\n  2.46563666e-02 -3.40375602e-02  8.87182876e-02  3.89257143e-03\n  7.01604709e-02  1.65783265e-03 -4.35207710e-02 -7.12413061e-03\n  1.32601522e-02  4.05320376e-02 -1.22873886e-02 -3.40201072e-02\n  4.41550538e-02  1.00118183e-02 -1.21073127e-02  7.14875832e-02\n  1.18223829e-02 -3.59844640e-02  2.55851503e-02 -3.14321108e-02\n -3.93537208e-02 -3.50379124e-02 -2.93145655e-03  1.12234009e-03\n  4.89290571e-03 -4.43373770e-02  9.74267907e-03 -1.72807891e-02\n -9.02791042e-03  7.76576437e-03 -9.51376781e-02 -2.25827401e-03\n -3.79205123e-02  4.79713402e-04  1.13796536e-02 -7.03918040e-02\n  2.55042501e-02  1.96852200e-02  3.03698126e-02  3.57198268e-02\n  4.33200113e-02 -1.78846382e-02 -4.49751914e-02 -2.84466930e-02\n  9.10047721e-03  3.18410853e-03 -1.14454161e-02 -3.71479918e-03\n -5.52330799e-02  5.03924936e-02  3.49136814e-02  6.13824837e-02\n -5.95104173e-02  2.22731438e-02  3.54233906e-02  1.30982790e-02\n -5.75296022e-02  4.15494957e-04  2.20320858e-02  9.50211212e-02\n -3.92102785e-02  9.53616109e-03 -3.25943008e-02 -1.67569313e-02\n  1.56236682e-02 -3.80711183e-02 -3.31600755e-02  1.99732799e-02\n  1.44703574e-02 -1.25842812e-02  1.68576539e-02 -2.18973905e-02\n -6.91883406e-03 -1.16004096e-02  5.16210720e-02 -2.95953043e-02\n  2.17099413e-02  8.49959813e-03 -1.04428697e-02  5.62323183e-02\n -2.33593094e-03 -4.91823740e-02  8.81223008e-02 -4.87535493e-03\n  6.07456006e-02  3.13735716e-02 -1.94813609e-02  2.55114976e-02\n  1.54440161e-02 -6.42026123e-03  3.84092107e-02  3.78572475e-03\n  8.62266123e-03 -1.31656490e-02  2.55110804e-02 -1.78816710e-02\n  2.52595730e-02 -6.72180066e-03  1.07063819e-03 -7.67798396e-03\n  1.87165793e-02  1.83009580e-02 -2.32093874e-02 -4.09669382e-03\n  2.12775655e-02 -2.53698919e-02  6.83219060e-02  2.05408596e-02\n -1.55033835e-03  2.74963602e-02  3.84617522e-02  1.66108888e-02\n  2.89445211e-07 -1.59084462e-02 -2.48201191e-02  1.69122871e-02\n  2.29487494e-02 -3.41545255e-03 -1.75832119e-02 -1.87903009e-02\n  1.76390260e-02  6.52076602e-02  3.73753831e-02  2.91042309e-02\n -4.79555354e-02  2.62641180e-02 -1.26283756e-03  1.77408531e-02\n  4.31368425e-02  5.00235371e-02  1.28326965e-02  4.80933525e-02\n  5.85588254e-02  5.09955697e-02 -2.14000978e-03 -1.25950696e-02\n  1.24452757e-02 -7.35935476e-03 -3.11247297e-02 -3.32979001e-02\n -4.73446772e-02  1.96542833e-02  5.83671208e-04  3.79974134e-02\n  4.62459512e-02  1.64731331e-02  3.07358745e-02  4.02855799e-02\n  1.40055530e-02  4.55208197e-02  7.20629990e-02  9.75251291e-03\n  7.45905712e-02 -7.20447451e-02 -9.75908414e-02  3.19100954e-02\n -5.07769920e-02  9.10707936e-03  6.82870373e-02  2.76973639e-02\n  2.40799785e-02 -3.31274867e-02  1.57517511e-02  8.31623375e-03\n  1.08597856e-02  9.56593838e-04 -5.84016070e-02  3.25542390e-02\n -2.28211135e-02 -1.51443779e-02 -3.32283378e-02 -1.29458383e-02\n  2.79543344e-02  3.84000950e-02 -2.63739228e-02  1.03592789e-02\n  5.49499951e-02  3.21438499e-02 -1.34983296e-02  3.73827145e-02\n  2.41418461e-34 -2.12979726e-02 -6.87959343e-02  2.84760464e-02\n -5.36671504e-02 -7.58763105e-02 -1.83890332e-02 -3.79070453e-02\n -4.34256643e-02  6.39441386e-02 -4.47953418e-02  2.84404196e-02]"
        ],
        [
         "4",
         "-2",
         "7.Sense of expression once explained.Every expression which is explained in any part of this Code is used in every part of this Code in conformity with the explanation.8.Gender.The pronoun \"he\" and its derivatives are used of any person, whether male or female.9.Number.Unless the contrary appears from the context, words importing the singlular number include the plural number, and words importing the plural number include the singular number.10.",
         "449",
         "67",
         "112.25",
         "[ 1.91073827e-02 -5.26478924e-02 -1.84137356e-02  8.52757879e-03\n -2.26816293e-02 -8.16807058e-03  5.58462217e-02 -1.37094036e-03\n -1.57244094e-02 -1.24890413e-02  4.22833599e-02 -5.50296390e-03\n  8.71709213e-02 -1.17047988e-02  2.97095180e-02 -1.45490663e-02\n  3.16950120e-02  1.05881197e-02 -4.38356176e-02  1.03124119e-02\n -3.87326591e-02  4.40296829e-02 -2.16198601e-02  1.83223598e-02\n  1.22308033e-02 -1.56315677e-02  4.40919586e-02  1.01475762e-02\n -1.23440381e-02 -4.69706804e-02 -2.01748069e-02  1.39517672e-02\n  1.09322509e-02 -6.21323846e-02  2.41519979e-06 -4.54540029e-02\n -4.76645678e-02  1.50962444e-02 -7.89893568e-02  1.94177050e-02\n -1.59735195e-02  1.85040496e-02  1.42679904e-02 -3.38272378e-03\n  1.08137606e-02 -2.68515889e-02  2.49514636e-02 -1.47438804e-02\n  5.67267425e-02  5.17534167e-02 -1.07993605e-03 -4.53024432e-02\n -4.23868895e-02 -1.75174642e-02  7.56848976e-02 -1.49935028e-02\n  5.59365749e-02  2.46972945e-02  3.22027132e-02  2.28745043e-02\n  1.05086910e-02 -1.45316068e-02  2.79491059e-02 -4.30397019e-02\n  3.90179232e-02 -2.66258838e-03  1.46866366e-02 -5.45233823e-02\n  2.42115315e-02 -2.64964113e-03  1.17298901e-01 -8.05534609e-03\n  1.88327469e-02  3.02673113e-02 -6.63326606e-02 -6.56798109e-02\n -5.08155711e-02 -9.87314992e-03  1.00645265e-02 -7.02941651e-03\n -3.01042590e-02  3.64246108e-02 -2.07060650e-02 -2.10955217e-02\n  9.78392363e-03  7.82800987e-02 -1.06660901e-02 -1.47515470e-02\n -1.47577822e-02 -3.84046510e-02 -3.34243402e-02 -7.91641995e-02\n -5.89537551e-04  1.70988608e-02  5.74767739e-02 -3.82951065e-03\n -2.23911274e-02 -3.30954231e-02  3.82762030e-02 -7.40276575e-02\n  1.60438530e-02  3.31824124e-02  1.84258446e-02  2.78280489e-02\n  7.77557725e-03  2.75077950e-02  5.72414957e-02 -2.28317901e-02\n -5.06657287e-02  5.03277183e-02 -7.37597758e-04 -4.50556464e-02\n -1.06589034e-01  8.03895369e-02  3.78764793e-02  2.67977789e-02\n -7.31358379e-02  9.92096774e-03  3.53679061e-02  4.11972255e-02\n -2.15253700e-02 -5.65429330e-02 -2.35027485e-02  3.79429162e-02\n  1.62720550e-02 -3.38634662e-02 -5.94704598e-02 -1.61198117e-02\n -3.24483775e-02 -1.14741042e-01 -2.42385194e-02  6.42022584e-03\n -1.03715621e-02 -1.92797650e-02 -3.82172391e-02  5.93369454e-03\n  3.21819559e-02  4.72849645e-02 -1.35756442e-02 -4.24250923e-02\n -1.25623634e-02 -2.32847109e-02 -1.78471431e-02 -4.28496040e-02\n -4.25777026e-02  2.96130981e-02  3.35598700e-02 -5.82615510e-02\n  1.53090581e-02  3.31844427e-02  1.45118609e-02  2.31445357e-02\n -2.66555529e-02  1.50355771e-02 -4.69858088e-02  6.23077853e-03\n  5.57695627e-02  2.88882125e-02 -1.20664062e-02 -1.95670333e-02\n  2.69912574e-02 -7.41933361e-02  4.32138890e-02 -4.26817425e-02\n -7.57512971e-05  2.63780858e-02 -2.91800592e-02  1.94049664e-02\n  2.27412134e-02 -1.61430929e-02 -1.93054080e-02  5.44075994e-03\n -2.87231952e-02  1.78368911e-02 -1.99119896e-02  9.85726118e-02\n  5.53002693e-02  1.36824995e-02  2.02954635e-02  2.52738241e-02\n  5.64234406e-02 -1.28573785e-02 -1.86894611e-02 -3.49555234e-03\n  1.97106469e-02 -1.73564591e-02 -2.95195468e-02  2.46360386e-03\n -4.44017118e-03 -6.13620430e-02 -3.89029831e-02  7.14866444e-02\n -1.08249746e-02 -2.00345665e-02 -1.89249180e-02  3.41447815e-02\n  4.57840562e-02  1.57415066e-02 -1.41245807e-02 -9.37901586e-02\n  1.32031674e-02  3.85710824e-04  5.63395731e-02  6.01774231e-02\n -1.19691752e-02  2.49862466e-02  1.14169195e-02 -2.49469727e-02\n  9.01478715e-03 -2.93145254e-02  6.34147078e-02  4.79068235e-02\n  1.57679673e-02 -3.28834206e-02  3.73745663e-03  2.83163078e-02\n  2.74158958e-02  1.90976113e-02 -6.36172891e-02 -1.02603221e-02\n -1.54161314e-02  6.59471005e-03 -4.16835099e-02  1.48816081e-03\n  3.30171548e-02 -5.95465638e-02 -2.28324458e-02  3.37351277e-03\n -2.50930376e-02  7.71196699e-03  7.74441240e-03  2.30068509e-02\n  3.35300644e-03  2.99774278e-02  1.86017696e-02 -2.48484574e-02\n -2.99687069e-02  4.77679335e-02  1.80254187e-02 -5.03951646e-02\n -4.41472139e-03  1.59845792e-03  4.38751131e-02 -1.47813037e-02\n  7.13149682e-02 -4.34419923e-02  6.01091096e-03 -6.42311154e-03\n  3.86737008e-03 -1.25600519e-02  1.84003934e-02  5.84982112e-02\n -4.57803309e-02  1.61208790e-02  1.28152315e-02 -2.58848164e-02\n  1.86000264e-03  6.13152422e-02  1.50450431e-02  7.40091200e-05\n  3.67279276e-02 -4.88634594e-02 -1.66188646e-02  1.15656331e-02\n  1.92653034e-02 -8.62267986e-03  9.80647397e-04 -1.36895673e-02\n -3.54660228e-02 -1.72496848e-02 -8.59291945e-03  1.14125162e-02\n  2.75741126e-02 -9.64513421e-03  1.34501150e-02  5.39003126e-02\n -1.35091029e-03 -1.31432777e-02 -1.89095624e-02  3.94539423e-02\n -8.84291367e-05 -6.49146214e-02  1.96651127e-02 -2.74709915e-03\n -6.82685524e-02  5.81861772e-02  1.22777456e-02 -5.73198274e-02\n -2.20872127e-02  1.00964522e-02 -1.16072567e-02 -1.61395166e-02\n -2.40617450e-02 -4.85334620e-02  1.54587543e-02 -3.90873960e-04\n  9.74583626e-03  2.51481254e-02 -4.26896177e-02  1.21278070e-01\n -3.35491151e-02 -1.26831504e-02 -2.83219069e-02 -3.65364812e-02\n  4.99924310e-02 -3.76400654e-03 -5.14307572e-03 -5.18960580e-02\n -8.04808363e-03  4.31787446e-02  2.72451304e-02 -1.70999346e-03\n -2.31310837e-02  4.79347110e-02 -3.61775979e-02 -1.17237819e-02\n -4.32124026e-02 -3.12373824e-02 -1.74227860e-02  6.81670234e-02\n  2.15162933e-02 -1.41332857e-03  9.93649103e-03 -1.21588157e-02\n -3.40823531e-02 -5.56030758e-02 -4.21774574e-02 -3.68048400e-02\n  2.51733325e-02 -5.21123670e-02  1.75876040e-02  6.03071079e-02\n -5.17890714e-02  4.01962847e-02 -2.33133677e-02  1.32008027e-02\n -1.99904293e-02  3.01224813e-02  3.52397934e-03 -9.88697211e-05\n -3.51711325e-02 -1.45940259e-02  1.67736523e-02 -2.36427803e-02\n  2.57179141e-02  1.96448117e-02  9.85932443e-03  1.63421929e-02\n  1.12640415e-03  2.28966624e-02  4.22559455e-02 -4.47680242e-02\n -3.28009240e-02 -1.50673045e-02 -4.36975844e-02 -9.70590264e-02\n -3.12848911e-02 -3.48377675e-02 -3.33586521e-02  1.36249075e-02\n  1.71810649e-02 -4.02987562e-03 -5.59637509e-02  7.54534230e-02\n -1.52492877e-02  4.77382652e-02  5.40945865e-02 -1.01104006e-02\n -3.86701636e-02  2.49756929e-02  3.27468067e-02 -5.86256236e-02\n  1.36812134e-02  2.33718529e-02 -2.92752516e-02 -1.19700804e-02\n  1.99003723e-02 -5.90757206e-02 -5.60896508e-02  1.71551574e-02\n  2.75217146e-02 -8.94911811e-02  6.81671947e-02 -2.49979850e-02\n  1.36072449e-02  1.14982864e-02  3.94585077e-03 -4.39059660e-02\n -5.93523048e-02  5.15333600e-02  4.72060777e-02 -9.93094444e-02\n -1.13809101e-01 -2.86486354e-02 -1.60164107e-03  1.72574352e-02\n -2.21653730e-02  7.72952959e-02 -1.41393216e-02  3.72216888e-02\n  5.35909422e-02  1.29992906e-02  2.81570628e-02 -8.05085618e-03\n  3.28816473e-02 -1.13942306e-02  5.54486476e-02  3.62373926e-02\n -4.36147749e-02 -2.75629163e-02 -1.60176551e-03 -4.64237668e-02\n  3.63538944e-04 -2.21583135e-02 -2.42303796e-02  2.20038317e-04\n -1.69638079e-03 -1.63635295e-02  2.43282057e-02 -2.08226722e-02\n -1.28626116e-02 -7.64577696e-03  2.28865147e-02  1.53553383e-02\n -3.77751254e-02 -1.88414305e-02  9.50551406e-02 -1.85332354e-02\n -1.06924411e-03  4.48594838e-02  4.54691015e-02 -2.56228559e-02\n -5.41230291e-02  3.57868001e-02 -4.54683490e-02 -2.17105038e-02\n -6.01924099e-02 -8.73050070e-04 -5.77502958e-02 -1.92599725e-02\n -2.54544932e-02  3.61865573e-02  8.74142200e-02  2.19825488e-02\n -4.17511836e-02  2.23810249e-03  1.29282894e-02 -4.61504469e-03\n -3.36205326e-02 -4.32077190e-03  7.18289812e-05  1.03483051e-02\n  9.02605336e-03  1.03484457e-02  6.79399911e-03  4.32637753e-03\n -4.56274077e-02 -6.43336307e-03 -6.81465352e-03  5.28742932e-02\n  3.55750360e-02  4.66547199e-02 -4.38928045e-03 -1.68250985e-02\n -4.86926734e-02 -9.37862769e-02 -3.78028899e-02 -3.38098556e-02\n -1.43679196e-03 -1.36445779e-02  2.87783649e-02  3.78931388e-02\n -1.33521901e-03 -1.69252809e-02  3.72522511e-02 -4.07474786e-02\n -5.06113134e-02 -9.02247354e-02 -1.15934759e-02  3.15706171e-02\n  4.64663468e-02  6.70510717e-03  2.65799128e-02 -6.92531001e-03\n  4.37395684e-02  2.45141070e-02 -2.35087872e-02 -5.87325506e-02\n -4.08123713e-03  4.45373766e-02 -2.43312158e-02  1.11632384e-02\n -5.59565844e-03  4.17866465e-03  7.04476982e-03  3.05050686e-02\n  7.22473189e-02  5.30193783e-02  5.39401844e-02  1.51972771e-02\n -2.74935178e-02  5.14555201e-02 -9.15949326e-03  3.35317925e-02\n -1.30649796e-02  2.76834555e-02  1.99556034e-02  1.41419210e-02\n -1.66656002e-02  2.62133144e-02 -2.30317749e-02 -1.37923798e-02\n -1.07185347e-02 -6.50987625e-02  1.42148007e-02 -5.56005687e-02\n -2.69027315e-02  2.82453857e-02  1.70734785e-02 -1.11495554e-02\n  1.64067727e-02 -2.24455595e-02  4.06919010e-02 -5.64629063e-02\n  2.53659580e-02 -1.53455194e-02  4.42612395e-02 -5.08659380e-03\n -8.69699121e-02  2.41210517e-02 -4.27796766e-02 -2.82311141e-02\n  1.39079224e-02  1.00714993e-03  6.22122549e-04  3.42624150e-02\n  6.06372766e-02 -4.87227459e-03  4.04174067e-02  1.63182034e-03\n -1.85116678e-02 -6.33387193e-02  5.27498983e-02 -2.35027224e-02\n  7.94468150e-02  3.48630138e-02 -9.92377568e-03  6.17004856e-02\n  2.05726568e-02 -5.64274341e-02 -3.04374490e-02  2.93162540e-02\n -5.05861342e-02  8.59044213e-03  3.42725730e-03 -7.45645013e-33\n -7.25684613e-02 -3.80126387e-02  1.81187894e-02  3.59836668e-02\n -3.30925733e-02 -5.27007245e-02 -2.30624843e-02 -3.14410254e-02\n  1.96894910e-02 -1.68384723e-02  8.51801597e-04  6.17456548e-02\n  3.30259390e-02  2.10289261e-03  7.26474077e-03  2.93832319e-03\n  1.65522583e-02 -7.29600433e-03 -1.88624393e-02 -7.42240325e-02\n  3.00233588e-02  4.29748464e-03  1.14705332e-01 -3.19768116e-02\n  5.49808331e-02  1.29759992e-02 -2.58058049e-02  5.07508114e-04\n  2.70310082e-02  4.79715923e-03  1.62572637e-02 -2.78190505e-02\n -1.22256158e-02 -6.42523309e-03 -8.24582856e-03  4.91062850e-02\n -2.27703936e-02 -9.96970087e-02  4.86390069e-02  4.05522063e-02\n  3.27985035e-03 -7.62056783e-02  4.91211638e-02 -3.88966538e-02\n -3.75447869e-02  8.49424396e-03  7.95271527e-03  1.01593630e-02\n  1.11658173e-02  1.67574622e-02 -1.88077986e-02  2.82971039e-02\n -3.91615890e-02  4.64510806e-02 -3.94838676e-03  3.02681066e-02\n -3.72324362e-02 -3.02771479e-02 -3.06044519e-02  5.62286824e-02\n  3.80021818e-02  1.94437876e-02 -3.78803834e-02 -4.42003496e-02\n  6.04996532e-02 -3.08783129e-02  6.60556480e-02 -1.08021069e-02\n -6.20393753e-02  6.35484699e-03  3.08169750e-03  4.70190644e-02\n  7.42283044e-03  3.16745527e-02  4.72326055e-02 -3.93513665e-02\n -1.99768804e-02  5.52986329e-03  2.00486537e-02  4.14018668e-02\n  1.21492837e-02  3.06577217e-02 -7.37915561e-02 -3.61616090e-02\n -5.95448446e-03 -4.57836799e-02 -1.37026086e-02 -5.44458702e-02\n  9.79645085e-03 -6.94515035e-02 -1.85489133e-02  4.47138064e-02\n -4.47646203e-03 -2.43360195e-02 -8.26695934e-03 -4.80985269e-02\n  1.73653681e-02 -1.96727202e-03  5.04486868e-03  3.07883732e-02\n -5.49797388e-03  3.72438282e-02  4.00703885e-02 -1.55590959e-02\n  6.31593093e-02  3.32241505e-02 -4.79419865e-02  3.53918560e-02\n -7.07630813e-02 -3.15114185e-02  3.00875399e-02 -4.33169417e-02\n  2.43784729e-02 -5.04963659e-03  1.04267225e-02  7.80991977e-03\n  2.65312474e-02  1.26365442e-02 -2.89720041e-03 -8.67342949e-03\n -2.51145065e-02  4.13877331e-02 -1.14362314e-02  5.33206649e-02\n -5.64691052e-03 -3.04861888e-02  1.20359554e-03  1.75486766e-02\n  8.70386586e-02  2.14432999e-02  2.18582503e-03  2.27003731e-02\n  3.29876571e-07  3.93455885e-02  2.64094714e-02  2.51545478e-02\n  2.74902098e-02 -2.32474133e-03 -1.99397169e-02 -2.88132336e-02\n  1.16722472e-02  1.14536919e-02  2.19329614e-02  3.80796865e-02\n -1.42336572e-02 -1.87570304e-02 -5.43493824e-03  3.04056294e-02\n -6.54328475e-03  1.70912556e-02 -2.20858101e-02  1.30974064e-02\n  2.09878553e-02  1.27629694e-02  2.80562695e-02  3.70773510e-03\n  4.75377738e-02 -1.07374247e-02 -2.91353874e-02 -1.29560214e-02\n -2.09038109e-02  4.13117521e-02  4.05307487e-02 -4.30956669e-02\n -9.92780924e-03  4.27160524e-02 -6.13072980e-03  1.31844319e-02\n  1.43845882e-02  9.65530425e-02  9.03167501e-02  1.23944161e-02\n  5.41207232e-02 -4.15734909e-02 -5.56006096e-02 -2.67876014e-02\n -2.78389752e-02  1.69415604e-02  2.62874179e-04 -1.92203280e-02\n -1.86279807e-02 -3.34394872e-02  1.73837375e-02  5.31289652e-02\n  1.34235695e-02 -9.05845256e-04  2.05912590e-02  1.16433529e-02\n -4.20081504e-02 -1.32094650e-02 -2.61863731e-02 -8.61584675e-03\n  8.75203498e-03 -1.79073848e-02 -3.33963856e-02  1.83134992e-02\n  1.05521521e-02  2.55261324e-02  7.06709130e-03 -2.86244584e-04\n  3.29455848e-34  9.93384141e-03 -6.12880476e-02  1.82678420e-02\n  8.14900920e-03 -3.79029755e-03 -2.14971919e-02 -5.39781637e-02\n  2.70799361e-02  3.74008156e-02  1.27861341e-02 -2.73896530e-02]"
        ]
       ],
       "shape": {
        "columns": 6,
        "rows": 5
       }
      },
      "text/html": [
       "<div>\n",
       "<style scoped>\n",
       "    .dataframe tbody tr th:only-of-type {\n",
       "        vertical-align: middle;\n",
       "    }\n",
       "\n",
       "    .dataframe tbody tr th {\n",
       "        vertical-align: top;\n",
       "    }\n",
       "\n",
       "    .dataframe thead th {\n",
       "        text-align: right;\n",
       "    }\n",
       "</style>\n",
       "<table border=\"1\" class=\"dataframe\">\n",
       "  <thead>\n",
       "    <tr style=\"text-align: right;\">\n",
       "      <th></th>\n",
       "      <th>page_number</th>\n",
       "      <th>sentence_chunk</th>\n",
       "      <th>chunk_char_count</th>\n",
       "      <th>chunk_word_count</th>\n",
       "      <th>chunk_token_count</th>\n",
       "      <th>embedding</th>\n",
       "    </tr>\n",
       "  </thead>\n",
       "  <tbody>\n",
       "    <tr>\n",
       "      <th>0</th>\n",
       "      <td>-4</td>\n",
       "      <td>Pakistan Penal Code (Act XLV of 1860) Act XLV ...</td>\n",
       "      <td>1136</td>\n",
       "      <td>180</td>\n",
       "      <td>284.00</td>\n",
       "      <td>[ 2.47545652e-02 -6.15375005e-02  1.93200614e-...</td>\n",
       "    </tr>\n",
       "    <tr>\n",
       "      <th>1</th>\n",
       "      <td>-4</td>\n",
       "      <td>4.Extension of Code to extra-territorial offen...</td>\n",
       "      <td>495</td>\n",
       "      <td>84</td>\n",
       "      <td>123.75</td>\n",
       "      <td>[ 1.09106647e-02 -4.69407067e-02  1.63406041e-...</td>\n",
       "    </tr>\n",
       "    <tr>\n",
       "      <th>2</th>\n",
       "      <td>-3</td>\n",
       "      <td>Illustrations (a) A, a Pakistan subject, commi...</td>\n",
       "      <td>788</td>\n",
       "      <td>151</td>\n",
       "      <td>197.00</td>\n",
       "      <td>[ 2.61548571e-02 -1.92588679e-02  2.78763473e-...</td>\n",
       "    </tr>\n",
       "    <tr>\n",
       "      <th>3</th>\n",
       "      <td>-3</td>\n",
       "      <td>Definitions in the code to be understood subje...</td>\n",
       "      <td>1080</td>\n",
       "      <td>175</td>\n",
       "      <td>270.00</td>\n",
       "      <td>[ 2.71218456e-02 -7.21519217e-02  4.46842872e-...</td>\n",
       "    </tr>\n",
       "    <tr>\n",
       "      <th>4</th>\n",
       "      <td>-2</td>\n",
       "      <td>7.Sense of expression once explained.Every exp...</td>\n",
       "      <td>449</td>\n",
       "      <td>67</td>\n",
       "      <td>112.25</td>\n",
       "      <td>[ 1.91073827e-02 -5.26478924e-02 -1.84137356e-...</td>\n",
       "    </tr>\n",
       "  </tbody>\n",
       "</table>\n",
       "</div>"
      ],
      "text/plain": [
       "   page_number                                     sentence_chunk  \\\n",
       "0           -4  Pakistan Penal Code (Act XLV of 1860) Act XLV ...   \n",
       "1           -4  4.Extension of Code to extra-territorial offen...   \n",
       "2           -3  Illustrations (a) A, a Pakistan subject, commi...   \n",
       "3           -3  Definitions in the code to be understood subje...   \n",
       "4           -2  7.Sense of expression once explained.Every exp...   \n",
       "\n",
       "   chunk_char_count  chunk_word_count  chunk_token_count  \\\n",
       "0              1136               180             284.00   \n",
       "1               495                84             123.75   \n",
       "2               788               151             197.00   \n",
       "3              1080               175             270.00   \n",
       "4               449                67             112.25   \n",
       "\n",
       "                                           embedding  \n",
       "0  [ 2.47545652e-02 -6.15375005e-02  1.93200614e-...  \n",
       "1  [ 1.09106647e-02 -4.69407067e-02  1.63406041e-...  \n",
       "2  [ 2.61548571e-02 -1.92588679e-02  2.78763473e-...  \n",
       "3  [ 2.71218456e-02 -7.21519217e-02  4.46842872e-...  \n",
       "4  [ 1.91073827e-02 -5.26478924e-02 -1.84137356e-...  "
      ]
     },
     "execution_count": 66,
     "metadata": {},
     "output_type": "execute_result"
    }
   ],
   "source": [
    "chunks_and_embedding_load = pd.read_csv(embeddings_save_path)\n",
    "chunks_and_embedding_load.head()"
   ]
  },
  {
   "cell_type": "code",
   "execution_count": null,
   "id": "104225dd",
   "metadata": {},
   "outputs": [],
   "source": []
  }
 ],
 "metadata": {
  "kernelspec": {
   "display_name": "Python 3",
   "language": "python",
   "name": "python3"
  },
  "language_info": {
   "codemirror_mode": {
    "name": "ipython",
    "version": 3
   },
   "file_extension": ".py",
   "mimetype": "text/x-python",
   "name": "python",
   "nbconvert_exporter": "python",
   "pygments_lexer": "ipython3",
   "version": "3.12.10"
  }
 },
 "nbformat": 4,
 "nbformat_minor": 5
}
