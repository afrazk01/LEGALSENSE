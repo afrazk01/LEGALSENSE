{
 "cells": [
  {
   "cell_type": "code",
   "execution_count": 1,
   "id": "0e50c0e4",
   "metadata": {},
   "outputs": [
    {
     "data": {
      "application/vnd.jupyter.widget-view+json": {
       "model_id": "2bc5a9a4af5d43b8b54b92d760f91a2c",
       "version_major": 2,
       "version_minor": 0
      },
      "text/plain": [
       "0it [00:00, ?it/s]"
      ]
     },
     "metadata": {},
     "output_type": "display_data"
    },
    {
     "data": {
      "text/plain": [
       "[{'page_number': -4,\n",
       "  'page_char_count': 1651,\n",
       "  'page_word_count': 283,\n",
       "  'page_sentence_count': 14,\n",
       "  'page_token_count': 412.75,\n",
       "  'text': 'Pakistan Penal Code (Act XLV of 1860) Act XLV of 1860 October 6th, 1860 Amended by: Protection of Women (Criminal Laws Amendment) Act, 2006,Criminal Laws (Amendment) Act, 2004 (I of 2005),Criminal Law (Amendment) Ordinance (LXXXV of 2002),Criminal Laws (Reforms) Ordinance (LXXXVI of 2002),etc.  Whereas it is expedient to provide a general Penal Code for Pakistan:  It is enacted as follows:-   CHAPTER I INTRODUCTION 1. Title and extent of operation of the Code. This Act shall be called the Pakistan Penal Code, and shall take effect throughout Pakistan.   2. Punishment of offences committed within Pakistan. Every person shall be liable to punishment under this Code and not otherwise for every act or omission contrary to the provisions thereof, of which he shall be guilty within Pakistan.   3. Punishment of offences committed beyond, but which by law may be tried within Pakistan. Any person liable, by any Pakistan Law, to be tried for an offence committed beyond Pakistan shall be dealt with according to the provision of this Code for any act committed beyond Pakistan in the same manner as if such act had been committed within Pakistan.   4. Extension of Code to extra-territorial offences. The provisions of this Code apply also to any offence committed by:-   1[(1) any citizen of Pakistan or any person in the service of Pakistan in any place without and beyond Pakistan;] 1  2[] 2 4[] 4  (4) any person on any ship or aircraft registered in Pakistan wherever it may be. Explanation: In this section the word \"offence\" includes every act committed outside Pakistan which, if committed in Pakistan, would be punishable under this Code.'},\n",
       " {'page_number': -3,\n",
       "  'page_char_count': 1896,\n",
       "  'page_word_count': 353,\n",
       "  'page_sentence_count': 14,\n",
       "  'page_token_count': 474.0,\n",
       "  'text': 'Illustrations (a) A, a Pakistan subject, commits a murder in Uganda. He can be tried and convicted of murder in any place in Pakistan in which he may be found.     5[] 5   6[(c) C, a foreigner who is in the service of Pakistan commits a murder in London. He can be tried and convicted of murder at any place in Pakistan in which he may be found.] 6   (d) D, a British subject living in Junagadh, instigates E to commit a murder in Lahore. D is guilty of abetting murder.       7[  5. Certain laws not to be affected by this Act. Nothing in this Act is intended to repeal, vary, suspend or affect any of the provisions of any Act for punishing mutiny and desertion of officers, soldiers, sailors or airmen in the service of the State or of any special or local law.   ] 7   CHAPTER II GENERAL EXPLANATIONS 6. Definitions in the code to be understood subject to exceptions. Throughout this Code every definition of an offence, every penal provision and every illustration of every such definition or penal provision, shall be understood subject to the exceptions contained in the chapter entitled \"General Exceptions,\" though those exceptions are not repeated in such definition, penal provision or illustration.  Illustrations (a) The sections in this Code, which contains definitions of offences, do not express that a child under seven years of age cannot commit such offences; but the definitions are to be understood subject to the general exception which provides that nothing shall be an offence which is done by a child under seven years of age.    (b) A, a police officer, without warrant, apprehends Z who has committed murder. Here A is not guilty of the offence of wrongful confinement; for he was bound by law to apprehend Z, and, therefore, the case falls within the general exception which provides that \"nothing is an offence which is done by a person who is bound by law to do it.\"'}]"
      ]
     },
     "execution_count": 1,
     "metadata": {},
     "output_type": "execute_result"
    }
   ],
   "source": [
    "import os\n",
    "import fitz\n",
    "from tqdm.auto import tqdm\n",
    "\n",
    "pdf_path = \"U:\\\\LEGALSENSE\\\\script\\\\Pakistan Penal Code.pdf\"\n",
    "\n",
    "\n",
    "def text_formatter(text: str) -> str:\n",
    "    cleaned_text = text.replace(\"\\n\", \"\").strip()\n",
    "    return cleaned_text\n",
    "\n",
    "\n",
    "def open_and_read_pdf(pdf_path: str) -> list[dict]:\n",
    "    doc = fitz.open(pdf_path)\n",
    "    pages_and_text = []\n",
    "    for page_number, page in tqdm(enumerate(doc)):\n",
    "        text = page.get_text()\n",
    "        text = text_formatter(text=text)\n",
    "        pages_and_text.append({\"page_number\": page_number - 4,\n",
    "                               \"page_char_count\": len(text),\n",
    "                               \"page_word_count\": len(text.split(\" \")),\n",
    "                               \"page_sentence_count\": len(text.split(\". \")),\n",
    "                               \"page_token_count\": len(text) / 4,\n",
    "                               \"text\": text})\n",
    "    return pages_and_text\n",
    "\n",
    "\n",
    "pages_and_text = open_and_read_pdf(pdf_path=pdf_path)\n",
    "pages_and_text[:2]"
   ]
  },
  {
   "cell_type": "code",
   "execution_count": 21,
   "id": "ec1adf27",
   "metadata": {},
   "outputs": [
    {
     "name": "stderr",
     "output_type": "stream",
     "text": [
      "[nltk_data] Downloading package punkt to\n",
      "[nltk_data]     C:\\Users\\Huzaifa\\AppData\\Roaming\\nltk_data...\n"
     ]
    },
    {
     "name": "stdout",
     "output_type": "stream",
     "text": [
      "['My name is Huzaifa.', 'I am a CS student at PU']\n"
     ]
    },
    {
     "name": "stderr",
     "output_type": "stream",
     "text": [
      "[nltk_data]   Package punkt is already up-to-date!\n"
     ]
    }
   ],
   "source": [
    "import nltk\n",
    "nltk.download('punkt')\n",
    "\n",
    "from nltk.tokenize import sent_tokenize\n",
    "\n",
    "text = \"My name is Huzaifa. I am a CS student at PU\"\n",
    "sentences = sent_tokenize(text)\n",
    "\n",
    "print(sentences)\n",
    "\n"
   ]
  },
  {
   "cell_type": "code",
   "execution_count": 22,
   "id": "cba7ea14",
   "metadata": {},
   "outputs": [
    {
     "data": {
      "application/vnd.jupyter.widget-view+json": {
       "model_id": "0f156e078ccf4a1cb8a4398619759758",
       "version_major": 2,
       "version_minor": 0
      },
      "text/plain": [
       "  0%|          | 0/164 [00:00<?, ?it/s]"
      ]
     },
     "metadata": {},
     "output_type": "display_data"
    }
   ],
   "source": [
    "for item in tqdm(pages_and_text):\n",
    "    item[\"sentences\"] = list(sent_tokenize(item[\"text\"]))\n",
    "    item[\"page_sentence_count\"] = len(item[\"sentences\"])\n",
    "    "
   ]
  },
  {
   "cell_type": "code",
   "execution_count": 25,
   "id": "4803b407",
   "metadata": {},
   "outputs": [
    {
     "data": {
      "text/plain": [
       "[{'page_number': 102,\n",
       "  'page_char_count': 2324,\n",
       "  'page_word_count': 404,\n",
       "  'page_sentence_count': 17,\n",
       "  'page_token_count': 581.0,\n",
       "  'text': 'A. Whoever assaults or uses criminal force to any woman and strips her of her clothes and in that condition, exposes her to the public view, shall be punished with death or with imprisonment for life, and shall also be liable to fine.   ] 137  355. Assault or criminal force with intent to dishonour person, otherwise than on grave provocation: Whoever assaults or uses criminal force to any person, intending thereby to dishonour that person, otherwise than on grave and sudden provocation given by that person, shall be punished with imprisonment of either description for a term which may extend to two years, or with fine, or with both.   356. Assault or criminal force in attempt to commit theft of property carried by a person: Whoever assaults or uses criminal force to any person in attempting to commit theft on any property which that person is then wearing or carrying shall be punished with imprisonment of either description for a term which may extend to two years, or with fine, or with both.   357. Assault or criminal force in attempting wrongfully to confine person: Whoever assaults or uses criminal force to any person, in attempting wrongfully to confine that person, shall be punished with imprisonment of either description for a term which may extend to one year or with fine which may extend to  138[three thousand rupees] 138, or with both.   358. Assault or criminal force on grave provocation: Whoever assaults or uses criminal force to any person on grave and sudden provocation given by that person, shall be punished with simple imprisonment for a term which may extend to one month or with fine which may extend to  139[six hundred rupees] 139, or with both.  Explanation: The last section is subject to the same explanation as Section 352.     Of Kidnapping, Abduction, Slavery and Forced Labour 359. Kidnapping: Kidnapping is of two kinds: Kidnapping from Pakistan and kidnapping from lawful guardianship.   360. Kidnapping from Pakistan, etc.: Whoever conveys any person beyond the limits of Pakistan without the consent of that person, or of some person legally authorised to consent on behalf of that person is said to kidnap that person from Pakistan.   361. Kidnapping from lawful guardianship: Whoever takes or entices any minor under fourteen years of age if a male, or under sixteen',\n",
       "  'sentences': ['A. Whoever assaults or uses criminal force to any woman and strips her of her clothes and in that condition, exposes her to the public view, shall be punished with death or with imprisonment for life, and shall also be liable to fine.   ]',\n",
       "   '137  355.',\n",
       "   'Assault or criminal force with intent to dishonour person, otherwise than on grave provocation: Whoever assaults or uses criminal force to any person, intending thereby to dishonour that person, otherwise than on grave and sudden provocation given by that person, shall be punished with imprisonment of either description for a term which may extend to two years, or with fine, or with both.',\n",
       "   '356.',\n",
       "   'Assault or criminal force in attempt to commit theft of property carried by a person: Whoever assaults or uses criminal force to any person in attempting to commit theft on any property which that person is then wearing or carrying shall be punished with imprisonment of either description for a term which may extend to two years, or with fine, or with both.',\n",
       "   '357.',\n",
       "   'Assault or criminal force in attempting wrongfully to confine person: Whoever assaults or uses criminal force to any person, in attempting wrongfully to confine that person, shall be punished with imprisonment of either description for a term which may extend to one year or with fine which may extend to  138[three thousand rupees] 138, or with both.',\n",
       "   '358.',\n",
       "   'Assault or criminal force on grave provocation: Whoever assaults or uses criminal force to any person on grave and sudden provocation given by that person, shall be punished with simple imprisonment for a term which may extend to one month or with fine which may extend to  139[six hundred rupees] 139, or with both.',\n",
       "   'Explanation: The last section is subject to the same explanation as Section 352.',\n",
       "   'Of Kidnapping, Abduction, Slavery and Forced Labour 359.',\n",
       "   'Kidnapping: Kidnapping is of two kinds: Kidnapping from Pakistan and kidnapping from lawful guardianship.',\n",
       "   '360.',\n",
       "   'Kidnapping from Pakistan, etc.',\n",
       "   ': Whoever conveys any person beyond the limits of Pakistan without the consent of that person, or of some person legally authorised to consent on behalf of that person is said to kidnap that person from Pakistan.',\n",
       "   '361.',\n",
       "   'Kidnapping from lawful guardianship: Whoever takes or entices any minor under fourteen years of age if a male, or under sixteen']}]"
      ]
     },
     "execution_count": 25,
     "metadata": {},
     "output_type": "execute_result"
    }
   ],
   "source": [
    "import random\n",
    "\n",
    "random.sample(pages_and_text, k=1)"
   ]
  },
  {
   "cell_type": "code",
   "execution_count": 26,
   "id": "a6ab9287",
   "metadata": {},
   "outputs": [
    {
     "data": {
      "text/plain": [
       "[[0, 1, 2, 3, 4, 5, 6, 7, 8, 9],\n",
       " [10, 11, 12, 13, 14, 15, 16, 17, 18, 19],\n",
       " [20, 21, 22, 23, 24, 25, 26, 27, 28, 29],\n",
       " [30, 31, 32, 33, 34, 35, 36, 37, 38]]"
      ]
     },
     "execution_count": 26,
     "metadata": {},
     "output_type": "execute_result"
    }
   ],
   "source": [
    "chunk_size_num = 10\n",
    "\n",
    "def split_list(input_list : list[str],\n",
    "               slice_size : int = chunk_size_num) -> list[list[str]]:\n",
    "    return [input_list[i:i + slice_size] for i in range(0, len(input_list), slice_size)]\n",
    "\n",
    "test_split = list(range(39))\n",
    "split_list(test_split)"
   ]
  },
  {
   "cell_type": "code",
   "execution_count": 27,
   "id": "c7eabe2f",
   "metadata": {},
   "outputs": [
    {
     "data": {
      "application/vnd.jupyter.widget-view+json": {
       "model_id": "dd0630ad35ca41db9bd79898f0572f4b",
       "version_major": 2,
       "version_minor": 0
      },
      "text/plain": [
       "  0%|          | 0/164 [00:00<?, ?it/s]"
      ]
     },
     "metadata": {},
     "output_type": "display_data"
    }
   ],
   "source": [
    "for item in tqdm(pages_and_text):\n",
    "    item[\"sentence_chunks\"] = split_list(input_list=item[\"sentences\"],\n",
    "                                         slice_size=chunk_size_num)\n",
    "    item['num_chunks'] = len(item[\"sentence_chunks\"])"
   ]
  },
  {
   "cell_type": "code",
   "execution_count": 28,
   "id": "4a8dec2c",
   "metadata": {},
   "outputs": [
    {
     "data": {
      "text/plain": [
       "[{'page_number': 14,\n",
       "  'page_char_count': 2788,\n",
       "  'page_word_count': 532,\n",
       "  'page_sentence_count': 20,\n",
       "  'page_token_count': 697.0,\n",
       "  'text': \"likely to cause, to the person giving the consent or on whose behalf the consent is given.  Illustration Causing miscarriage (unless caused in good faith for the purpose of saving the life of the woman) to an offence independently of any harm which it may cause or be intended, to cause to the woman. Therefore it is not an offence by reason of such harm; and the consent of the woman or of her guardian to the causing of such miscarriage dose not justify the act.    92. Act done in good faith for benefit of a person without consent: Nothing an offence by reason of any harm which it may cause to a person by whose benefit it is done in good faith even without that person's consent, if the Circumstances are such that is impossible for that person to signify consent, or if that person is incapable of giving consent, and has no guardian or other person in lawful charge of him from whom it is possible to obtain consent in time for the thing to be done with benefit:  Provided  First:  That this exception shall not extend to the intentional causing of death, or the attempting to cause death;  Secondly: That this exception shall not extend to the doing of anything which the person doing it knows to be likely to cause death, for any purpose other than the preventing of death or grievous, hurt, or the curing of any grievous disease or infirmity;  Thirdly:  That this exception shall not extend to the voluntary causing of hurt, or to the attempting to cause hurt for any purpose other than the preventing of death or hurt;  Fourthly:  That this exception shall not extend to the abetment of any offence, to the committing of which offence it would not extend.   Illustrations (a) Z is thrown from his horse, and is insensible. A, a surgeon, finds that Z requires to be trepanned. A not Intending Z's death but in good faith for Z's benefit, performs the trepan before Z recovers his power of judging for himself. A has committed no offence.   (b) Z is carried off by a tiger. A fires at the tiger knowing it to be likely that the shot may kill Z, but not intending to kill Z, and in good faith intending Z's benefit A's ball gives Z a mortal wound. A has committed no offence.    (c) A, a surgeon, sees child suffer an accident which is likely to prove fatal unless an operation be immediately performed. There is no time to apply to the child's guardian. A performs the operation in spite of the entreaties of the child, intending, in good faith, the child's benefit. A has committed no offence.    (d) A is in a house which is on fire with Z, a child. People below hold out a blanket. A drops the child from the house-top, knowing it to be likely that the fall may kill the child, but not intending to kill the child and intending, in good faith, the child's benefit. Here even,\",\n",
       "  'sentences': ['likely to cause, to the person giving the consent or on whose behalf the consent is given.',\n",
       "   'Illustration Causing miscarriage (unless caused in good faith for the purpose of saving the life of the woman) to an offence independently of any harm which it may cause or be intended, to cause to the woman.',\n",
       "   'Therefore it is not an offence by reason of such harm; and the consent of the woman or of her guardian to the causing of such miscarriage dose not justify the act.',\n",
       "   '92.',\n",
       "   \"Act done in good faith for benefit of a person without consent: Nothing an offence by reason of any harm which it may cause to a person by whose benefit it is done in good faith even without that person's consent, if the Circumstances are such that is impossible for that person to signify consent, or if that person is incapable of giving consent, and has no guardian or other person in lawful charge of him from whom it is possible to obtain consent in time for the thing to be done with benefit:  Provided  First:  That this exception shall not extend to the intentional causing of death, or the attempting to cause death;  Secondly: That this exception shall not extend to the doing of anything which the person doing it knows to be likely to cause death, for any purpose other than the preventing of death or grievous, hurt, or the curing of any grievous disease or infirmity;  Thirdly:  That this exception shall not extend to the voluntary causing of hurt, or to the attempting to cause hurt for any purpose other than the preventing of death or hurt;  Fourthly:  That this exception shall not extend to the abetment of any offence, to the committing of which offence it would not extend.\",\n",
       "   'Illustrations (a) Z is thrown from his horse, and is insensible.',\n",
       "   'A, a surgeon, finds that Z requires to be trepanned.',\n",
       "   \"A not Intending Z's death but in good faith for Z's benefit, performs the trepan before Z recovers his power of judging for himself.\",\n",
       "   'A has committed no offence.',\n",
       "   '(b) Z is carried off by a tiger.',\n",
       "   \"A fires at the tiger knowing it to be likely that the shot may kill Z, but not intending to kill Z, and in good faith intending Z's benefit A's ball gives Z a mortal wound.\",\n",
       "   'A has committed no offence.',\n",
       "   '(c) A, a surgeon, sees child suffer an accident which is likely to prove fatal unless an operation be immediately performed.',\n",
       "   \"There is no time to apply to the child's guardian.\",\n",
       "   \"A performs the operation in spite of the entreaties of the child, intending, in good faith, the child's benefit.\",\n",
       "   'A has committed no offence.',\n",
       "   '(d) A is in a house which is on fire with Z, a child.',\n",
       "   'People below hold out a blanket.',\n",
       "   \"A drops the child from the house-top, knowing it to be likely that the fall may kill the child, but not intending to kill the child and intending, in good faith, the child's benefit.\",\n",
       "   'Here even,'],\n",
       "  'sentence_chunks': [['likely to cause, to the person giving the consent or on whose behalf the consent is given.',\n",
       "    'Illustration Causing miscarriage (unless caused in good faith for the purpose of saving the life of the woman) to an offence independently of any harm which it may cause or be intended, to cause to the woman.',\n",
       "    'Therefore it is not an offence by reason of such harm; and the consent of the woman or of her guardian to the causing of such miscarriage dose not justify the act.',\n",
       "    '92.',\n",
       "    \"Act done in good faith for benefit of a person without consent: Nothing an offence by reason of any harm which it may cause to a person by whose benefit it is done in good faith even without that person's consent, if the Circumstances are such that is impossible for that person to signify consent, or if that person is incapable of giving consent, and has no guardian or other person in lawful charge of him from whom it is possible to obtain consent in time for the thing to be done with benefit:  Provided  First:  That this exception shall not extend to the intentional causing of death, or the attempting to cause death;  Secondly: That this exception shall not extend to the doing of anything which the person doing it knows to be likely to cause death, for any purpose other than the preventing of death or grievous, hurt, or the curing of any grievous disease or infirmity;  Thirdly:  That this exception shall not extend to the voluntary causing of hurt, or to the attempting to cause hurt for any purpose other than the preventing of death or hurt;  Fourthly:  That this exception shall not extend to the abetment of any offence, to the committing of which offence it would not extend.\",\n",
       "    'Illustrations (a) Z is thrown from his horse, and is insensible.',\n",
       "    'A, a surgeon, finds that Z requires to be trepanned.',\n",
       "    \"A not Intending Z's death but in good faith for Z's benefit, performs the trepan before Z recovers his power of judging for himself.\",\n",
       "    'A has committed no offence.',\n",
       "    '(b) Z is carried off by a tiger.'],\n",
       "   [\"A fires at the tiger knowing it to be likely that the shot may kill Z, but not intending to kill Z, and in good faith intending Z's benefit A's ball gives Z a mortal wound.\",\n",
       "    'A has committed no offence.',\n",
       "    '(c) A, a surgeon, sees child suffer an accident which is likely to prove fatal unless an operation be immediately performed.',\n",
       "    \"There is no time to apply to the child's guardian.\",\n",
       "    \"A performs the operation in spite of the entreaties of the child, intending, in good faith, the child's benefit.\",\n",
       "    'A has committed no offence.',\n",
       "    '(d) A is in a house which is on fire with Z, a child.',\n",
       "    'People below hold out a blanket.',\n",
       "    \"A drops the child from the house-top, knowing it to be likely that the fall may kill the child, but not intending to kill the child and intending, in good faith, the child's benefit.\",\n",
       "    'Here even,']],\n",
       "  'num_chunks': 2}]"
      ]
     },
     "execution_count": 28,
     "metadata": {},
     "output_type": "execute_result"
    }
   ],
   "source": [
    "random.sample(pages_and_text, k=1)"
   ]
  },
  {
   "cell_type": "code",
   "execution_count": 29,
   "id": "ecc188e5",
   "metadata": {},
   "outputs": [
    {
     "data": {
      "application/vnd.microsoft.datawrangler.viewer.v0+json": {
       "columns": [
        {
         "name": "index",
         "rawType": "object",
         "type": "string"
        },
        {
         "name": "page_number",
         "rawType": "float64",
         "type": "float"
        },
        {
         "name": "page_char_count",
         "rawType": "float64",
         "type": "float"
        },
        {
         "name": "page_word_count",
         "rawType": "float64",
         "type": "float"
        },
        {
         "name": "page_sentence_count",
         "rawType": "float64",
         "type": "float"
        },
        {
         "name": "page_token_count",
         "rawType": "float64",
         "type": "float"
        },
        {
         "name": "num_chunks",
         "rawType": "float64",
         "type": "float"
        }
       ],
       "ref": "cef5cce1-b0fa-4137-a24e-9ca70411c670",
       "rows": [
        [
         "count",
         "164.0",
         "164.0",
         "164.0",
         "164.0",
         "164.0",
         "164.0"
        ],
        [
         "mean",
         "77.5",
         "2462.57",
         "447.39",
         "14.12",
         "615.64",
         "1.9"
        ],
        [
         "std",
         "47.49",
         "449.37",
         "75.68",
         "4.24",
         "112.34",
         "0.5"
        ],
        [
         "min",
         "-4.0",
         "1387.0",
         "268.0",
         "6.0",
         "346.75",
         "1.0"
        ],
        [
         "25%",
         "36.75",
         "2198.0",
         "402.75",
         "11.0",
         "549.5",
         "2.0"
        ],
        [
         "50%",
         "77.5",
         "2548.5",
         "455.5",
         "14.0",
         "637.12",
         "2.0"
        ],
        [
         "75%",
         "118.25",
         "2783.5",
         "504.25",
         "17.0",
         "695.88",
         "2.0"
        ],
        [
         "max",
         "159.0",
         "3370.0",
         "605.0",
         "27.0",
         "842.5",
         "3.0"
        ]
       ],
       "shape": {
        "columns": 6,
        "rows": 8
       }
      },
      "text/html": [
       "<div>\n",
       "<style scoped>\n",
       "    .dataframe tbody tr th:only-of-type {\n",
       "        vertical-align: middle;\n",
       "    }\n",
       "\n",
       "    .dataframe tbody tr th {\n",
       "        vertical-align: top;\n",
       "    }\n",
       "\n",
       "    .dataframe thead th {\n",
       "        text-align: right;\n",
       "    }\n",
       "</style>\n",
       "<table border=\"1\" class=\"dataframe\">\n",
       "  <thead>\n",
       "    <tr style=\"text-align: right;\">\n",
       "      <th></th>\n",
       "      <th>page_number</th>\n",
       "      <th>page_char_count</th>\n",
       "      <th>page_word_count</th>\n",
       "      <th>page_sentence_count</th>\n",
       "      <th>page_token_count</th>\n",
       "      <th>num_chunks</th>\n",
       "    </tr>\n",
       "  </thead>\n",
       "  <tbody>\n",
       "    <tr>\n",
       "      <th>count</th>\n",
       "      <td>164.00</td>\n",
       "      <td>164.00</td>\n",
       "      <td>164.00</td>\n",
       "      <td>164.00</td>\n",
       "      <td>164.00</td>\n",
       "      <td>164.0</td>\n",
       "    </tr>\n",
       "    <tr>\n",
       "      <th>mean</th>\n",
       "      <td>77.50</td>\n",
       "      <td>2462.57</td>\n",
       "      <td>447.39</td>\n",
       "      <td>14.12</td>\n",
       "      <td>615.64</td>\n",
       "      <td>1.9</td>\n",
       "    </tr>\n",
       "    <tr>\n",
       "      <th>std</th>\n",
       "      <td>47.49</td>\n",
       "      <td>449.37</td>\n",
       "      <td>75.68</td>\n",
       "      <td>4.24</td>\n",
       "      <td>112.34</td>\n",
       "      <td>0.5</td>\n",
       "    </tr>\n",
       "    <tr>\n",
       "      <th>min</th>\n",
       "      <td>-4.00</td>\n",
       "      <td>1387.00</td>\n",
       "      <td>268.00</td>\n",
       "      <td>6.00</td>\n",
       "      <td>346.75</td>\n",
       "      <td>1.0</td>\n",
       "    </tr>\n",
       "    <tr>\n",
       "      <th>25%</th>\n",
       "      <td>36.75</td>\n",
       "      <td>2198.00</td>\n",
       "      <td>402.75</td>\n",
       "      <td>11.00</td>\n",
       "      <td>549.50</td>\n",
       "      <td>2.0</td>\n",
       "    </tr>\n",
       "    <tr>\n",
       "      <th>50%</th>\n",
       "      <td>77.50</td>\n",
       "      <td>2548.50</td>\n",
       "      <td>455.50</td>\n",
       "      <td>14.00</td>\n",
       "      <td>637.12</td>\n",
       "      <td>2.0</td>\n",
       "    </tr>\n",
       "    <tr>\n",
       "      <th>75%</th>\n",
       "      <td>118.25</td>\n",
       "      <td>2783.50</td>\n",
       "      <td>504.25</td>\n",
       "      <td>17.00</td>\n",
       "      <td>695.88</td>\n",
       "      <td>2.0</td>\n",
       "    </tr>\n",
       "    <tr>\n",
       "      <th>max</th>\n",
       "      <td>159.00</td>\n",
       "      <td>3370.00</td>\n",
       "      <td>605.00</td>\n",
       "      <td>27.00</td>\n",
       "      <td>842.50</td>\n",
       "      <td>3.0</td>\n",
       "    </tr>\n",
       "  </tbody>\n",
       "</table>\n",
       "</div>"
      ],
      "text/plain": [
       "       page_number  page_char_count  page_word_count  page_sentence_count  \\\n",
       "count       164.00           164.00           164.00               164.00   \n",
       "mean         77.50          2462.57           447.39                14.12   \n",
       "std          47.49           449.37            75.68                 4.24   \n",
       "min          -4.00          1387.00           268.00                 6.00   \n",
       "25%          36.75          2198.00           402.75                11.00   \n",
       "50%          77.50          2548.50           455.50                14.00   \n",
       "75%         118.25          2783.50           504.25                17.00   \n",
       "max         159.00          3370.00           605.00                27.00   \n",
       "\n",
       "       page_token_count  num_chunks  \n",
       "count            164.00       164.0  \n",
       "mean             615.64         1.9  \n",
       "std              112.34         0.5  \n",
       "min              346.75         1.0  \n",
       "25%              549.50         2.0  \n",
       "50%              637.12         2.0  \n",
       "75%              695.88         2.0  \n",
       "max              842.50         3.0  "
      ]
     },
     "execution_count": 29,
     "metadata": {},
     "output_type": "execute_result"
    }
   ],
   "source": [
    "import pandas as pd\n",
    "\n",
    "df = pd.DataFrame(pages_and_text)\n",
    "df.describe().round(2)"
   ]
  },
  {
   "cell_type": "code",
   "execution_count": 38,
   "id": "704a8c0d",
   "metadata": {},
   "outputs": [
    {
     "data": {
      "application/vnd.jupyter.widget-view+json": {
       "model_id": "197551e5c2b447fd85340c0b29c4fed4",
       "version_major": 2,
       "version_minor": 0
      },
      "text/plain": [
       "  0%|          | 0/164 [00:00<?, ?it/s]"
      ]
     },
     "metadata": {},
     "output_type": "display_data"
    },
    {
     "data": {
      "text/plain": [
       "312"
      ]
     },
     "execution_count": 38,
     "metadata": {},
     "output_type": "execute_result"
    }
   ],
   "source": [
    "import re\n",
    "\n",
    "pages_and_chunks = []\n",
    "\n",
    "for item in tqdm(pages_and_text):\n",
    "    for sentence_chunk in item[\"sentence_chunks\"]:\n",
    "        chunk_dict = {}\n",
    "        chunk_dict[\"page_number\"] = item[\"page_number\"]\n",
    "\n",
    "        joined_sentence_chunk = \"\".join(sentence_chunk).replace(\" \",\" \").strip()\n",
    "\n",
    "        chunk_dict[\"sentence_chunk\"] = joined_sentence_chunk\n",
    "\n",
    "        chunk_dict[\"chunk_char_count\"] = len(joined_sentence_chunk)\n",
    "        chunk_dict[\"chunk_word_count\"] = len([word for word in joined_sentence_chunk.split(\" \")])\n",
    "        chunk_dict[\"chunk_token_count\"] = len(joined_sentence_chunk) / 4\n",
    "\n",
    "        pages_and_chunks.append(chunk_dict)\n",
    "\n",
    "len(pages_and_chunks)"
   ]
  },
  {
   "cell_type": "code",
   "execution_count": 40,
   "id": "fdbd068c",
   "metadata": {},
   "outputs": [
    {
     "data": {
      "text/plain": [
       "[{'page_number': 101,\n",
       "  'sentence_chunk': 'Assault or criminal force to deter public servant from discharge of his duty: Whoever assaults or uses criminal force to any person being a public servant in the execution of his duty as such public servant, or with intent to prevent or deter that person from discharging his duty as such public servant, or in consequence of anything done or attempted to be done by such person in the lawful discharge of his duty as such public servant, shall be punished with imprisonment of either description for a term which may extend to two years, or with fine or with both.354.Assault or criminal force to woman with intent to outrage her modesty: Whoever assaults or uses criminal force to any woman, intending to outrage or knowing it to be likely that he will thereby outrage her modesty, shall be punished with imprisonment of either description for a term which may extend to two years or with fine, or with both.137[  354- Assault or use of criminal force to woman and stripping her of her clothes:',\n",
       "  'chunk_char_count': 996,\n",
       "  'chunk_word_count': 176,\n",
       "  'chunk_token_count': 249.0}]"
      ]
     },
     "execution_count": 40,
     "metadata": {},
     "output_type": "execute_result"
    }
   ],
   "source": [
    "random.sample(pages_and_chunks, k=1)"
   ]
  },
  {
   "cell_type": "code",
   "execution_count": 59,
   "id": "5930a083",
   "metadata": {},
   "outputs": [
    {
     "data": {
      "application/vnd.jupyter.widget-view+json": {
       "model_id": "c9cc5592c3ca48009ff8499845fb26fb",
       "version_major": 2,
       "version_minor": 0
      },
      "text/plain": [
       "  0%|          | 0/312 [00:00<?, ?it/s]"
      ]
     },
     "metadata": {},
     "output_type": "display_data"
    }
   ],
   "source": [
    "from sentence_transformers import SentenceTransformer\n",
    "\n",
    "model = SentenceTransformer('all-mpnet-base-v2', device='cpu')\n",
    "\n",
    "\n",
    "\n",
    "model.to('cpu')\n",
    "\n",
    "for item in tqdm(pages_and_chunks):\n",
    "    item[\"embedding\"] = model.encode(item[\"sentence_chunk\"])\n",
    "\n"
   ]
  },
  {
   "cell_type": "code",
   "execution_count": 60,
   "id": "8ece2819",
   "metadata": {},
   "outputs": [
    {
     "data": {
      "text/plain": [
       "'394.Voluntarily causing hurt in committing robbery: If any person, in committing or in attempting to commit robbery, voluntarily causes hurt, such person, and any other person jointly concerned in committing or attempting to commit such robbery, shall be punished with imprisonment for life, or with rigorous imprisonment for a term  157[which shall not be less than four years nor more than] 157 ten years, and shall also be liable to fine.395.Punishment for dacoity: Whoever commits dacoity shall be punished with imprisonment for life, or with rigorous imprisonment for a term which shall not be less than four years nor more than ten years and shall also be liable to fine.396.Dacoity with murder: If any one of five or more persons, who are conjointly committing dacoity, commits murder in so committing dacoity, everyone of those persons shall be punished with death, or imprisonment for life, or rigorous imprisonment for a term which  158[shall not be less than four years nor more than] 158 ten years, and shall also be liable to fine.397.Robbery or dacoity, with attempt to cause death or grievous hurt: If, at the time of committing robbery or dacoity, the offender uses any deadly weapon, or causes grievous hurt to any person or attempts to cause death or grievous hurt to any person the imprisonment with which such offender shall be punished shall not be less than seven years.398.Attempt to commit robbery or dacoity when armed with deadly weapon:  If, at the time of attempting to commit robbery or dacoity, the offender is armed with any deadly weapon, the imprisonment with which such offender shall be punished shall not be less than seven years.'"
      ]
     },
     "execution_count": 60,
     "metadata": {},
     "output_type": "execute_result"
    }
   ],
   "source": [
    "text_chunks = [item[\"sentence_chunk\"] for item in pages_and_chunks]\n",
    "text_chunks[220]"
   ]
  },
  {
   "cell_type": "code",
   "execution_count": 61,
   "id": "cf54ddde",
   "metadata": {},
   "outputs": [
    {
     "data": {
      "text/plain": [
       "312"
      ]
     },
     "execution_count": 61,
     "metadata": {},
     "output_type": "execute_result"
    }
   ],
   "source": [
    "len(text_chunks)"
   ]
  },
  {
   "cell_type": "code",
   "execution_count": 64,
   "id": "ffa1eebf",
   "metadata": {},
   "outputs": [
    {
     "data": {
      "text/plain": [
       "{'page_number': -4,\n",
       " 'sentence_chunk': 'Pakistan Penal Code (Act XLV of 1860) Act XLV of 1860 October 6th, 1860 Amended by: Protection of Women (Criminal Laws Amendment) Act, 2006,Criminal Laws (Amendment) Act, 2004 (I of 2005),Criminal Law (Amendment) Ordinance (LXXXV of 2002),Criminal Laws (Reforms) Ordinance (LXXXVI of 2002),etc.Whereas it is expedient to provide a general Penal Code for Pakistan:  It is enacted as follows:-   CHAPTER I INTRODUCTION 1.Title and extent of operation of the Code.This Act shall be called the Pakistan Penal Code, and shall take effect throughout Pakistan.2.Punishment of offences committed within Pakistan.Every person shall be liable to punishment under this Code and not otherwise for every act or omission contrary to the provisions thereof, of which he shall be guilty within Pakistan.3.Punishment of offences committed beyond, but which by law may be tried within Pakistan.Any person liable, by any Pakistan Law, to be tried for an offence committed beyond Pakistan shall be dealt with according to the provision of this Code for any act committed beyond Pakistan in the same manner as if such act had been committed within Pakistan.',\n",
       " 'chunk_char_count': 1136,\n",
       " 'chunk_word_count': 180,\n",
       " 'chunk_token_count': 284.0,\n",
       " 'embedding': array([ 2.47545652e-02, -6.15375005e-02,  1.93200614e-02, -5.34213409e-02,\n",
       "        -3.76302227e-02,  4.22385372e-02,  1.33115714e-02,  3.47075947e-02,\n",
       "         5.23611978e-02,  5.15326560e-02, -1.17556853e-02,  5.79266297e-03,\n",
       "         3.53276730e-02,  4.38640974e-02,  8.16444606e-02,  4.02041040e-02,\n",
       "        -1.35620451e-02,  2.54697911e-02,  4.63628359e-02, -4.71001910e-03,\n",
       "         1.62816867e-02,  1.87531877e-02, -2.43378412e-02,  2.00294890e-02,\n",
       "         2.58142315e-02,  1.60125305e-03, -1.89146120e-02,  2.11473275e-02,\n",
       "        -5.27520142e-02, -3.53074409e-02,  5.16142584e-02,  2.11484749e-02,\n",
       "         3.18121426e-02, -1.53818401e-02,  1.92988682e-06, -3.45969126e-02,\n",
       "        -3.48602235e-02, -1.03142885e-02,  2.36025825e-02,  5.60540967e-02,\n",
       "        -5.29486015e-02, -6.60754321e-03,  8.44678842e-03, -3.45356576e-02,\n",
       "        -1.18269194e-02, -9.74225812e-03,  4.00251225e-02,  7.18884319e-02,\n",
       "         1.66058331e-03,  6.95042908e-02,  1.60859283e-02, -6.88648298e-02,\n",
       "        -3.17099281e-02, -1.30245779e-02, -1.06089991e-02, -3.11202575e-02,\n",
       "         3.02329995e-02,  6.55663460e-02,  3.19661237e-02,  3.21628414e-02,\n",
       "         1.27401100e-02, -6.10168017e-02,  4.49886471e-02, -3.43851000e-02,\n",
       "        -5.31890653e-02, -5.34683093e-02, -2.00420413e-02,  4.10422217e-03,\n",
       "         3.08699887e-02,  7.64122047e-03, -1.24630108e-02, -4.15468141e-02,\n",
       "         5.46898227e-03, -1.50967883e-02, -3.02072037e-02, -7.46557936e-02,\n",
       "         8.90270248e-03,  3.81247811e-02, -3.72091420e-02,  2.14122459e-02,\n",
       "         3.64912301e-02,  2.88749542e-02, -4.97381166e-02, -3.54009867e-02,\n",
       "        -2.61891242e-02,  1.41425245e-02, -2.48790570e-02, -4.50105816e-02,\n",
       "        -6.72228187e-02,  1.39041366e-02, -3.10354251e-02,  4.87276427e-02,\n",
       "         4.59457487e-02, -3.60504468e-03,  9.39480681e-03, -1.95352919e-02,\n",
       "         1.41499685e-02, -6.62159026e-02,  7.04050586e-02, -9.93173495e-02,\n",
       "        -2.38560550e-02,  4.63656075e-02,  2.11803652e-02, -1.12502016e-02,\n",
       "        -5.73313199e-02,  2.89818812e-02,  1.92570426e-02, -5.50289312e-03,\n",
       "        -3.50358803e-03, -1.96354911e-02,  4.04909672e-03,  1.05102118e-02,\n",
       "         2.14243308e-02,  8.45194422e-03, -1.25377979e-02,  5.58309108e-02,\n",
       "        -5.29920049e-02, -6.62891753e-03,  6.99926587e-03,  6.49181614e-03,\n",
       "        -2.38971673e-02, -4.85510863e-02, -4.00782656e-03, -2.25840090e-03,\n",
       "         3.19053121e-02, -3.24146077e-02, -1.72496811e-02,  5.61153889e-03,\n",
       "        -2.23146565e-02, -7.62748532e-03, -2.43076519e-03, -1.61511991e-02,\n",
       "        -4.27880250e-02,  7.23046288e-02, -3.99814434e-02,  3.63393575e-02,\n",
       "         3.47552518e-03,  4.73249890e-03,  2.71524722e-03,  2.65461951e-02,\n",
       "        -3.37985419e-02, -7.02474732e-03, -1.53452554e-03,  2.49023382e-02,\n",
       "         2.31712274e-02, -2.85692066e-02, -2.56832913e-02,  4.31406572e-02,\n",
       "         5.33462781e-03,  4.55670729e-02, -2.42816936e-02, -1.47540281e-02,\n",
       "         2.08593141e-02,  6.53662859e-03,  1.96859296e-02, -5.14478004e-03,\n",
       "        -2.48697586e-02, -6.08690921e-03, -3.09326109e-02,  1.87446829e-02,\n",
       "        -2.74404138e-03,  9.49315261e-03,  3.20211984e-02,  1.09353680e-02,\n",
       "         6.25727279e-03, -7.70402653e-03, -2.13759113e-02, -2.24407502e-02,\n",
       "         1.19161308e-02, -5.92367537e-02,  1.36085534e-02, -4.35293987e-02,\n",
       "        -2.98077054e-02,  4.75428887e-02, -7.93293267e-02,  4.98266295e-02,\n",
       "         4.54721935e-02,  4.18008864e-02,  4.02510762e-02,  2.40800623e-02,\n",
       "        -8.70736316e-03,  2.47732047e-02,  4.26575635e-03, -1.16468314e-02,\n",
       "         4.93863150e-02, -5.41600259e-03,  1.26066012e-02, -4.21690345e-02,\n",
       "        -9.39015578e-03, -1.32094026e-02,  1.14806974e-03,  4.03225571e-02,\n",
       "         7.63904396e-03,  5.88554936e-03,  7.22552417e-03,  5.34071065e-02,\n",
       "         4.92236726e-02, -7.54421530e-03,  2.70125940e-02, -5.38342781e-02,\n",
       "         1.84428599e-02,  2.26847269e-02,  2.19141934e-02,  6.32226318e-02,\n",
       "        -3.59178409e-02,  3.37159820e-02, -2.00781859e-02, -9.28465929e-03,\n",
       "        -2.48572081e-02, -1.82377491e-02, -6.10292377e-03, -1.02607803e-02,\n",
       "        -3.32481675e-02, -6.94611808e-03, -4.30671088e-02,  8.61386675e-03,\n",
       "        -7.92098604e-03, -3.94925922e-02,  1.23466533e-02, -5.90210371e-02,\n",
       "        -2.18534395e-02,  5.20705432e-02, -2.85313427e-02, -2.99329348e-02,\n",
       "        -5.95679656e-02,  2.27690544e-02, -4.04404216e-02,  1.69440027e-04,\n",
       "        -1.10450499e-02, -3.97658758e-02, -7.92187266e-03, -9.70907137e-03,\n",
       "         1.28839174e-02,  4.06093076e-02,  2.26335172e-02,  1.25939846e-02,\n",
       "        -2.52586920e-02, -6.01970293e-02,  1.49488626e-02, -4.96644080e-02,\n",
       "         2.05046888e-02, -4.52433564e-02, -7.92512670e-03, -2.21867263e-02,\n",
       "         1.74718741e-02,  3.66472527e-02,  2.23230966e-03, -4.77113649e-02,\n",
       "         1.61414687e-03, -7.53167970e-03, -5.86126298e-02,  5.42211272e-02,\n",
       "        -4.36109751e-02, -1.68126058e-02, -1.09106884e-03, -1.77623518e-02,\n",
       "         4.51014116e-02,  4.64505889e-02,  5.16250767e-02,  1.54685704e-02,\n",
       "        -3.56821865e-02, -1.76098403e-02, -4.84086759e-02,  4.71261702e-02,\n",
       "         5.08304127e-02, -5.71995080e-02, -4.30393964e-02,  9.69885662e-03,\n",
       "         8.12263135e-03,  4.49392647e-02, -7.68116042e-02,  2.34296899e-02,\n",
       "         3.94965932e-02,  4.62216185e-03, -5.67047372e-02, -4.62143719e-02,\n",
       "        -2.90388688e-02,  1.24972789e-02, -1.62904728e-02,  5.13001047e-02,\n",
       "        -4.56596017e-02,  3.02137644e-03,  5.97161204e-02, -2.28668060e-02,\n",
       "        -1.30704278e-02, -1.42698968e-03, -3.14498506e-02,  2.44898349e-02,\n",
       "        -1.25562949e-02,  5.92561737e-02,  3.91008705e-02,  8.86744820e-03,\n",
       "        -6.71568140e-02, -3.23685743e-02,  1.75395645e-02, -4.96959947e-02,\n",
       "        -3.30359936e-02, -1.40440604e-02,  2.39459220e-02,  5.49891870e-03,\n",
       "         2.65358649e-02,  3.49858254e-02, -9.58677847e-03, -3.88685381e-03,\n",
       "        -1.46225607e-03,  3.82661708e-02,  2.86206454e-02, -9.52886790e-03,\n",
       "        -5.30687682e-02, -2.63720416e-02, -4.18693088e-02,  4.52721445e-03,\n",
       "        -6.96009472e-02, -5.75341582e-02, -2.33185347e-02,  1.69830136e-02,\n",
       "        -4.04086187e-02, -3.90885845e-02, -3.42776142e-02,  1.69156622e-02,\n",
       "         4.98912483e-03,  3.55120690e-04, -1.18273050e-02,  3.81166376e-02,\n",
       "         4.61505726e-02, -3.63975279e-02, -1.18823573e-02, -1.62429549e-03,\n",
       "        -2.01829746e-02,  2.27899407e-03,  1.59304310e-02, -3.05808056e-02,\n",
       "        -5.01849987e-02,  4.87311482e-02, -1.36609338e-02, -4.31881361e-02,\n",
       "        -7.35182140e-04,  8.22140649e-03,  1.03196343e-02, -1.14371153e-02,\n",
       "        -3.60476486e-02,  6.90740766e-03,  2.95680519e-02, -3.66927572e-02,\n",
       "         7.56425932e-02,  5.70190214e-02, -5.12605421e-02,  3.56807634e-02,\n",
       "         9.76779982e-02,  2.33337469e-02, -3.70322242e-02, -3.63875702e-02,\n",
       "        -5.92274033e-02,  4.66868505e-02, -1.53773632e-02, -8.25376809e-02,\n",
       "        -8.28786287e-03, -4.00730222e-02, -2.70060711e-02,  5.36499843e-02,\n",
       "        -7.34711662e-02, -2.18606312e-02, -1.13787398e-01,  4.16858383e-02,\n",
       "         5.69469631e-02,  6.89112917e-02,  3.77959426e-04, -5.02484404e-02,\n",
       "        -1.04318587e-02,  6.68192096e-03,  2.47887569e-04,  2.12222263e-02,\n",
       "         6.94692926e-03,  2.41809096e-02, -1.91876311e-02,  2.11920962e-03,\n",
       "        -2.97741406e-02, -3.77296582e-02, -6.28736094e-02,  1.44066904e-02,\n",
       "        -3.82850282e-02, -6.12974539e-02,  9.88820568e-02,  4.64164652e-03,\n",
       "        -2.46695932e-02, -3.01981922e-02,  1.65810678e-02,  2.49019428e-03,\n",
       "         2.04973500e-02,  3.10481265e-02,  2.31626425e-02, -3.81248654e-03,\n",
       "        -4.54067215e-02,  2.51271147e-02,  1.10655222e-02,  4.47180830e-02,\n",
       "         2.08599661e-02,  4.51130606e-02, -2.61346158e-02,  3.79559137e-02,\n",
       "         1.93545464e-02,  4.81882580e-02,  5.55849038e-02,  9.20967478e-03,\n",
       "        -4.00371924e-02,  4.41128295e-03,  2.22215895e-03, -2.39820569e-03,\n",
       "        -1.34441983e-02, -1.90086849e-02, -6.90579936e-02, -1.65484212e-02,\n",
       "        -4.57513556e-02, -5.75691834e-03, -3.73518877e-02,  3.33757401e-02,\n",
       "        -1.19831245e-02, -1.42423827e-02,  3.58612835e-02,  4.77396995e-02,\n",
       "        -1.49229290e-02,  1.00998022e-02, -1.57807525e-02, -9.90352407e-03,\n",
       "         3.03783733e-02,  2.22783368e-02, -1.16818575e-02, -1.54686840e-02,\n",
       "         1.43844970e-02,  2.46484578e-03,  2.59196367e-02, -1.83319636e-02,\n",
       "        -3.10477577e-02, -4.84852269e-02, -1.07070476e-01,  4.98283692e-02,\n",
       "        -4.88965400e-02, -2.11722241e-03, -5.05094342e-02,  5.69568910e-02,\n",
       "         1.26886216e-03,  9.21360217e-03,  4.00192803e-03,  3.94549519e-02,\n",
       "         6.47468166e-03,  4.01691049e-02, -3.81397717e-02, -4.78330776e-02,\n",
       "        -8.93506631e-02, -2.44558174e-02, -6.07987233e-02,  3.84813920e-02,\n",
       "        -2.21058801e-02, -3.37476470e-02,  4.59259152e-02,  2.29950510e-02,\n",
       "        -6.31095171e-02,  2.26864871e-03,  1.44483466e-02,  2.50798818e-02,\n",
       "        -4.05889004e-03, -2.64130859e-03, -4.43935022e-02, -5.92396036e-02,\n",
       "        -1.51688902e-04,  2.26214994e-02, -1.05538182e-01,  7.17106101e-04,\n",
       "         2.97279339e-02,  1.64942760e-02,  6.55212402e-02, -2.13225316e-02,\n",
       "         1.04732253e-02, -2.76235081e-02, -3.47899832e-03,  1.73205025e-02,\n",
       "        -2.72748526e-02,  1.78101305e-02,  5.30097215e-03,  1.57445464e-02,\n",
       "         3.07488032e-02, -3.31658795e-02,  3.11041027e-02, -1.11057684e-01,\n",
       "         1.63402352e-02, -3.32517028e-02,  4.86590713e-03, -1.51055269e-02,\n",
       "        -2.18052883e-02,  1.72003899e-02,  2.41833087e-02,  2.11749580e-02,\n",
       "         1.94125362e-02,  5.39817475e-03, -9.34814475e-03,  2.19448861e-02,\n",
       "        -5.32931648e-02,  1.48790134e-02,  1.00649804e-01,  4.72518615e-03,\n",
       "         8.77211057e-03,  1.29612098e-02, -1.79863162e-02, -3.76048647e-02,\n",
       "        -4.96670306e-02, -2.29007029e-03, -4.85474728e-02, -2.28809156e-02,\n",
       "        -5.51369460e-03,  2.27283352e-04,  2.03236025e-02,  4.43395190e-02,\n",
       "        -2.31101327e-02,  2.89921053e-02,  6.05405159e-02,  6.49815146e-03,\n",
       "        -1.74901902e-03, -1.99685432e-03,  2.41874382e-02,  3.63251492e-02,\n",
       "         2.05707978e-02, -5.45157492e-02,  4.16452140e-02, -7.69024715e-02,\n",
       "        -2.80901343e-02, -3.61261424e-03, -3.34481453e-03, -2.26453077e-02,\n",
       "         5.08134486e-03,  4.24142089e-03,  3.53002697e-02, -2.40468197e-02,\n",
       "         7.26968795e-02,  2.82737967e-02, -2.16612332e-02,  5.41974558e-03,\n",
       "         4.78400961e-02, -2.10579615e-02,  8.07602610e-03, -9.54308547e-03,\n",
       "         5.13424948e-02,  7.65141845e-03, -5.63874887e-03,  8.40752618e-04,\n",
       "         6.54708035e-03,  5.95897436e-03, -7.04277353e-03,  2.38713045e-02,\n",
       "         1.22928452e-02, -7.39714727e-02, -3.97115350e-02,  5.69685176e-02,\n",
       "         9.88378450e-02, -7.01672724e-03, -2.69498434e-02, -4.61752475e-33,\n",
       "        -1.88986771e-02, -7.11430935e-03,  2.02322342e-02,  3.92634086e-02,\n",
       "        -1.86493229e-02, -3.46845761e-02, -3.49796563e-02, -5.20596057e-02,\n",
       "         5.75322844e-03, -1.55544551e-02,  4.81845764e-03,  4.17423807e-02,\n",
       "        -6.41812384e-03, -3.73853520e-02,  2.54288036e-02, -1.77236162e-02,\n",
       "         4.60993610e-02,  1.00598810e-02,  6.80121630e-02, -1.28290001e-02,\n",
       "         1.06620193e-02,  1.30677549e-02,  5.88006005e-02, -1.44685688e-03,\n",
       "         9.19928774e-02, -2.19958778e-02, -2.78574359e-02, -1.93908587e-02,\n",
       "         9.60431900e-03,  1.86270177e-02,  6.36369549e-03, -7.62282386e-02,\n",
       "         4.43690978e-02, -1.30896531e-02,  1.85593672e-03,  5.33958450e-02,\n",
       "        -4.38722745e-02, -2.22375821e-02, -1.08920150e-02,  1.48928817e-02,\n",
       "         3.50271985e-02, -3.47354822e-02,  2.61217766e-02, -3.14076655e-02,\n",
       "        -7.40477145e-02, -4.07337137e-02, -2.87168100e-02,  1.21894861e-02,\n",
       "        -4.62231375e-02, -2.58399267e-02, -2.60018986e-02,  1.65420317e-03,\n",
       "        -5.91530884e-03,  3.06607243e-02, -8.81185755e-03, -4.18310352e-02,\n",
       "         3.44856046e-02,  3.07470150e-02,  1.55663153e-03,  4.20668535e-02,\n",
       "         4.92775701e-02,  3.33952308e-02, -3.07843797e-02, -5.49814627e-02,\n",
       "         5.43804988e-02, -4.52664569e-02, -3.84139270e-02, -2.98571773e-02,\n",
       "         2.78074238e-02,  1.79719813e-02,  3.40570733e-02, -3.06071714e-02,\n",
       "        -9.18517411e-02, -2.88983621e-03,  4.71909717e-02, -7.24493265e-02,\n",
       "        -5.41341417e-02,  4.31229062e-02,  3.25963013e-02,  8.30921009e-02,\n",
       "         1.47876125e-02,  6.74200654e-02, -5.77764288e-02, -8.49538483e-03,\n",
       "         4.54362668e-02, -3.48601267e-02,  1.76844131e-02, -1.56334490e-02,\n",
       "         1.67782381e-02, -1.26076164e-03,  4.90027927e-02,  2.02127937e-02,\n",
       "        -4.88434359e-03, -5.17750531e-03,  2.82428693e-02,  1.35381622e-02,\n",
       "        -7.80936554e-02,  7.18075829e-03,  3.31475548e-02,  2.37066876e-02,\n",
       "        -6.74939230e-02, -6.40986264e-02,  5.20213395e-02, -1.54759297e-02,\n",
       "        -4.30741115e-03,  3.12704965e-02,  2.54870020e-02,  2.24222895e-02,\n",
       "        -3.85804730e-03, -1.77247599e-02,  1.49637870e-02, -1.43798665e-04,\n",
       "         1.02335250e-03,  4.63017039e-02, -6.61817100e-03,  2.05764044e-02,\n",
       "         3.39031057e-03, -4.17330638e-02,  2.63660774e-02,  2.62793209e-02,\n",
       "         3.14415805e-02, -1.52430460e-02,  3.71580794e-02,  2.24289503e-02,\n",
       "         2.82371622e-02,  2.30585299e-02,  2.77835932e-02,  2.31580734e-02,\n",
       "         2.05561426e-03, -1.03585366e-02, -5.71040530e-03,  6.64746389e-02,\n",
       "         2.42876126e-07,  1.41209438e-02, -1.78436805e-02,  4.64607738e-02,\n",
       "         5.70752705e-03, -2.84246393e-02, -7.67199183e-03, -3.10069453e-02,\n",
       "         3.81614156e-02,  2.51684673e-02,  3.72428261e-02, -2.96892710e-02,\n",
       "        -4.00397740e-03,  7.66683463e-03,  3.21041117e-03, -5.31280637e-02,\n",
       "        -8.58438481e-03,  6.45937324e-02, -2.38686316e-02,  4.52522077e-02,\n",
       "         9.10506546e-02,  3.40194851e-02, -2.28046365e-02,  6.95732981e-03,\n",
       "         3.13727930e-02,  4.55373339e-02, -3.95748317e-02,  1.85625604e-03,\n",
       "        -1.22064371e-02, -6.01081103e-02, -8.78292974e-03, -9.98513214e-03,\n",
       "         1.14338733e-02,  9.18251835e-03,  3.11578494e-02,  1.13659091e-02,\n",
       "        -2.94786040e-03,  3.12967673e-02,  8.43222886e-02,  4.26916964e-02,\n",
       "         1.86670758e-02, -3.25693935e-02, -1.13900967e-01,  3.27252895e-02,\n",
       "        -5.01975529e-02,  1.23504531e-02,  1.28860608e-01, -4.84409928e-02,\n",
       "         9.98919830e-03,  4.67294082e-02,  4.35476080e-02,  4.58829030e-02,\n",
       "        -7.71978498e-03,  2.10748482e-02, -6.22405596e-02,  4.82219681e-02,\n",
       "        -2.67130844e-02,  7.18952389e-03, -2.41706800e-02, -1.83103457e-02,\n",
       "        -1.23249711e-02,  5.22289798e-02, -3.03980932e-02,  7.58213038e-03,\n",
       "         1.59089491e-02,  2.49047522e-02, -1.83552280e-02,  4.48501259e-02,\n",
       "         2.40411691e-34,  3.32647599e-02, -7.94196054e-02,  6.98302174e-03,\n",
       "         1.31919198e-02, -3.03840786e-02,  3.12956348e-02, -2.87335366e-02,\n",
       "        -1.78084411e-02,  4.57738116e-02, -4.13764529e-02,  2.03765277e-02],\n",
       "       dtype=float32)}"
      ]
     },
     "execution_count": 64,
     "metadata": {},
     "output_type": "execute_result"
    }
   ],
   "source": [
    "pages_and_chunks[0]"
   ]
  },
  {
   "cell_type": "code",
   "execution_count": 65,
   "id": "5e57103c",
   "metadata": {},
   "outputs": [],
   "source": [
    "chunks_and_embeddings = pd.DataFrame(pages_and_chunks)\n",
    "embeddings_save_path = \"U:\\\\LEGALSENSE\\\\chunks_and_embeddings.csv\"\n",
    "chunks_and_embeddings.to_csv(embeddings_save_path, index=False)"
   ]
  },
  {
   "cell_type": "code",
   "execution_count": null,
   "id": "2946d88c",
   "metadata": {},
   "outputs": [],
   "source": []
  }
 ],
 "metadata": {
  "kernelspec": {
   "display_name": "Python 3",
   "language": "python",
   "name": "python3"
  },
  "language_info": {
   "codemirror_mode": {
    "name": "ipython",
    "version": 3
   },
   "file_extension": ".py",
   "mimetype": "text/x-python",
   "name": "python",
   "nbconvert_exporter": "python",
   "pygments_lexer": "ipython3",
   "version": "3.12.10"
  }
 },
 "nbformat": 4,
 "nbformat_minor": 5
}
