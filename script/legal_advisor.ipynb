{
 "cells": [
  {
   "cell_type": "code",
   "execution_count": 1,
   "id": "0e50c0e4",
   "metadata": {},
   "outputs": [
    {
     "data": {
      "application/vnd.jupyter.widget-view+json": {
       "model_id": "2bc5a9a4af5d43b8b54b92d760f91a2c",
       "version_major": 2,
       "version_minor": 0
      },
      "text/plain": [
       "0it [00:00, ?it/s]"
      ]
     },
     "metadata": {},
     "output_type": "display_data"
    },
    {
     "data": {
      "text/plain": [
       "[{'page_number': -4,\n",
       "  'page_char_count': 1651,\n",
       "  'page_word_count': 283,\n",
       "  'page_sentence_count': 14,\n",
       "  'page_token_count': 412.75,\n",
       "  'text': 'Pakistan Penal Code (Act XLV of 1860) Act XLV of 1860 October 6th, 1860 Amended by: Protection of Women (Criminal Laws Amendment) Act, 2006,Criminal Laws (Amendment) Act, 2004 (I of 2005),Criminal Law (Amendment) Ordinance (LXXXV of 2002),Criminal Laws (Reforms) Ordinance (LXXXVI of 2002),etc.  Whereas it is expedient to provide a general Penal Code for Pakistan:  It is enacted as follows:-   CHAPTER I INTRODUCTION 1. Title and extent of operation of the Code. This Act shall be called the Pakistan Penal Code, and shall take effect throughout Pakistan.   2. Punishment of offences committed within Pakistan. Every person shall be liable to punishment under this Code and not otherwise for every act or omission contrary to the provisions thereof, of which he shall be guilty within Pakistan.   3. Punishment of offences committed beyond, but which by law may be tried within Pakistan. Any person liable, by any Pakistan Law, to be tried for an offence committed beyond Pakistan shall be dealt with according to the provision of this Code for any act committed beyond Pakistan in the same manner as if such act had been committed within Pakistan.   4. Extension of Code to extra-territorial offences. The provisions of this Code apply also to any offence committed by:-   1[(1) any citizen of Pakistan or any person in the service of Pakistan in any place without and beyond Pakistan;] 1  2[] 2 4[] 4  (4) any person on any ship or aircraft registered in Pakistan wherever it may be. Explanation: In this section the word \"offence\" includes every act committed outside Pakistan which, if committed in Pakistan, would be punishable under this Code.'},\n",
       " {'page_number': -3,\n",
       "  'page_char_count': 1896,\n",
       "  'page_word_count': 353,\n",
       "  'page_sentence_count': 14,\n",
       "  'page_token_count': 474.0,\n",
       "  'text': 'Illustrations (a) A, a Pakistan subject, commits a murder in Uganda. He can be tried and convicted of murder in any place in Pakistan in which he may be found.     5[] 5   6[(c) C, a foreigner who is in the service of Pakistan commits a murder in London. He can be tried and convicted of murder at any place in Pakistan in which he may be found.] 6   (d) D, a British subject living in Junagadh, instigates E to commit a murder in Lahore. D is guilty of abetting murder.       7[  5. Certain laws not to be affected by this Act. Nothing in this Act is intended to repeal, vary, suspend or affect any of the provisions of any Act for punishing mutiny and desertion of officers, soldiers, sailors or airmen in the service of the State or of any special or local law.   ] 7   CHAPTER II GENERAL EXPLANATIONS 6. Definitions in the code to be understood subject to exceptions. Throughout this Code every definition of an offence, every penal provision and every illustration of every such definition or penal provision, shall be understood subject to the exceptions contained in the chapter entitled \"General Exceptions,\" though those exceptions are not repeated in such definition, penal provision or illustration.  Illustrations (a) The sections in this Code, which contains definitions of offences, do not express that a child under seven years of age cannot commit such offences; but the definitions are to be understood subject to the general exception which provides that nothing shall be an offence which is done by a child under seven years of age.    (b) A, a police officer, without warrant, apprehends Z who has committed murder. Here A is not guilty of the offence of wrongful confinement; for he was bound by law to apprehend Z, and, therefore, the case falls within the general exception which provides that \"nothing is an offence which is done by a person who is bound by law to do it.\"'}]"
      ]
     },
     "execution_count": 1,
     "metadata": {},
     "output_type": "execute_result"
    }
   ],
   "source": [
    "import os\n",
    "import fitz\n",
    "from tqdm.auto import tqdm\n",
    "\n",
    "pdf_path = \"U:\\\\LEGALSENSE\\\\script\\\\Pakistan Penal Code.pdf\"\n",
    "\n",
    "\n",
    "def text_formatter(text: str) -> str:\n",
    "    cleaned_text = text.replace(\"\\n\", \"\").strip()\n",
    "    return cleaned_text\n",
    "\n",
    "\n",
    "def open_and_read_pdf(pdf_path: str) -> list[dict]:\n",
    "    doc = fitz.open(pdf_path)\n",
    "    pages_and_text = []\n",
    "    for page_number, page in tqdm(enumerate(doc)):\n",
    "        text = page.get_text()\n",
    "        text = text_formatter(text=text)\n",
    "        pages_and_text.append({\"page_number\": page_number - 4,\n",
    "                               \"page_char_count\": len(text),\n",
    "                               \"page_word_count\": len(text.split(\" \")),\n",
    "                               \"page_sentence_count\": len(text.split(\". \")),\n",
    "                               \"page_token_count\": len(text) / 4,\n",
    "                               \"text\": text})\n",
    "    return pages_and_text\n",
    "\n",
    "\n",
    "pages_and_text = open_and_read_pdf(pdf_path=pdf_path)\n",
    "pages_and_text[:2]"
   ]
  },
  {
   "cell_type": "code",
   "execution_count": 21,
   "id": "ec1adf27",
   "metadata": {},
   "outputs": [
    {
     "name": "stderr",
     "output_type": "stream",
     "text": [
      "[nltk_data] Downloading package punkt to\n",
      "[nltk_data]     C:\\Users\\Huzaifa\\AppData\\Roaming\\nltk_data...\n"
     ]
    },
    {
     "name": "stdout",
     "output_type": "stream",
     "text": [
      "['My name is Huzaifa.', 'I am a CS student at PU']\n"
     ]
    },
    {
     "name": "stderr",
     "output_type": "stream",
     "text": [
      "[nltk_data]   Package punkt is already up-to-date!\n"
     ]
    }
   ],
   "source": [
    "import nltk\n",
    "nltk.download('punkt')\n",
    "\n",
    "from nltk.tokenize import sent_tokenize\n",
    "\n",
    "text = \"My name is Huzaifa. I am a CS student at PU\"\n",
    "sentences = sent_tokenize(text)\n",
    "\n",
    "print(sentences)\n",
    "\n"
   ]
  },
  {
   "cell_type": "code",
   "execution_count": 22,
   "id": "cba7ea14",
   "metadata": {},
   "outputs": [
    {
     "data": {
      "application/vnd.jupyter.widget-view+json": {
       "model_id": "0f156e078ccf4a1cb8a4398619759758",
       "version_major": 2,
       "version_minor": 0
      },
      "text/plain": [
       "  0%|          | 0/164 [00:00<?, ?it/s]"
      ]
     },
     "metadata": {},
     "output_type": "display_data"
    }
   ],
   "source": [
    "for item in tqdm(pages_and_text):\n",
    "    item[\"sentences\"] = list(sent_tokenize(item[\"text\"]))\n",
    "    item[\"page_sentence_count\"] = len(item[\"sentences\"])\n",
    "    "
   ]
  },
  {
   "cell_type": "code",
   "execution_count": 25,
   "id": "4803b407",
   "metadata": {},
   "outputs": [
    {
     "data": {
      "text/plain": [
       "[{'page_number': 102,\n",
       "  'page_char_count': 2324,\n",
       "  'page_word_count': 404,\n",
       "  'page_sentence_count': 17,\n",
       "  'page_token_count': 581.0,\n",
       "  'text': 'A. Whoever assaults or uses criminal force to any woman and strips her of her clothes and in that condition, exposes her to the public view, shall be punished with death or with imprisonment for life, and shall also be liable to fine.   ] 137  355. Assault or criminal force with intent to dishonour person, otherwise than on grave provocation: Whoever assaults or uses criminal force to any person, intending thereby to dishonour that person, otherwise than on grave and sudden provocation given by that person, shall be punished with imprisonment of either description for a term which may extend to two years, or with fine, or with both.   356. Assault or criminal force in attempt to commit theft of property carried by a person: Whoever assaults or uses criminal force to any person in attempting to commit theft on any property which that person is then wearing or carrying shall be punished with imprisonment of either description for a term which may extend to two years, or with fine, or with both.   357. Assault or criminal force in attempting wrongfully to confine person: Whoever assaults or uses criminal force to any person, in attempting wrongfully to confine that person, shall be punished with imprisonment of either description for a term which may extend to one year or with fine which may extend to  138[three thousand rupees] 138, or with both.   358. Assault or criminal force on grave provocation: Whoever assaults or uses criminal force to any person on grave and sudden provocation given by that person, shall be punished with simple imprisonment for a term which may extend to one month or with fine which may extend to  139[six hundred rupees] 139, or with both.  Explanation: The last section is subject to the same explanation as Section 352.     Of Kidnapping, Abduction, Slavery and Forced Labour 359. Kidnapping: Kidnapping is of two kinds: Kidnapping from Pakistan and kidnapping from lawful guardianship.   360. Kidnapping from Pakistan, etc.: Whoever conveys any person beyond the limits of Pakistan without the consent of that person, or of some person legally authorised to consent on behalf of that person is said to kidnap that person from Pakistan.   361. Kidnapping from lawful guardianship: Whoever takes or entices any minor under fourteen years of age if a male, or under sixteen',\n",
       "  'sentences': ['A. Whoever assaults or uses criminal force to any woman and strips her of her clothes and in that condition, exposes her to the public view, shall be punished with death or with imprisonment for life, and shall also be liable to fine.   ]',\n",
       "   '137  355.',\n",
       "   'Assault or criminal force with intent to dishonour person, otherwise than on grave provocation: Whoever assaults or uses criminal force to any person, intending thereby to dishonour that person, otherwise than on grave and sudden provocation given by that person, shall be punished with imprisonment of either description for a term which may extend to two years, or with fine, or with both.',\n",
       "   '356.',\n",
       "   'Assault or criminal force in attempt to commit theft of property carried by a person: Whoever assaults or uses criminal force to any person in attempting to commit theft on any property which that person is then wearing or carrying shall be punished with imprisonment of either description for a term which may extend to two years, or with fine, or with both.',\n",
       "   '357.',\n",
       "   'Assault or criminal force in attempting wrongfully to confine person: Whoever assaults or uses criminal force to any person, in attempting wrongfully to confine that person, shall be punished with imprisonment of either description for a term which may extend to one year or with fine which may extend to  138[three thousand rupees] 138, or with both.',\n",
       "   '358.',\n",
       "   'Assault or criminal force on grave provocation: Whoever assaults or uses criminal force to any person on grave and sudden provocation given by that person, shall be punished with simple imprisonment for a term which may extend to one month or with fine which may extend to  139[six hundred rupees] 139, or with both.',\n",
       "   'Explanation: The last section is subject to the same explanation as Section 352.',\n",
       "   'Of Kidnapping, Abduction, Slavery and Forced Labour 359.',\n",
       "   'Kidnapping: Kidnapping is of two kinds: Kidnapping from Pakistan and kidnapping from lawful guardianship.',\n",
       "   '360.',\n",
       "   'Kidnapping from Pakistan, etc.',\n",
       "   ': Whoever conveys any person beyond the limits of Pakistan without the consent of that person, or of some person legally authorised to consent on behalf of that person is said to kidnap that person from Pakistan.',\n",
       "   '361.',\n",
       "   'Kidnapping from lawful guardianship: Whoever takes or entices any minor under fourteen years of age if a male, or under sixteen']}]"
      ]
     },
     "execution_count": 25,
     "metadata": {},
     "output_type": "execute_result"
    }
   ],
   "source": [
    "import random\n",
    "\n",
    "random.sample(pages_and_text, k=1)"
   ]
  },
  {
   "cell_type": "code",
   "execution_count": null,
   "id": "a6ab9287",
   "metadata": {},
   "outputs": [],
   "source": [
    "chunk_size_num = 10\n",
    "\n",
    "def split_list(input_list : list[str],\n",
    "               slice_size : int = chunk_size_num) -> list[list[str]]:\n",
    "    return [input_list[i:i + slice_size] for i in range(0, len(input_list), slice_size)]\n",
    "\n"
   ]
  }
 ],
 "metadata": {
  "kernelspec": {
   "display_name": "Python 3",
   "language": "python",
   "name": "python3"
  },
  "language_info": {
   "codemirror_mode": {
    "name": "ipython",
    "version": 3
   },
   "file_extension": ".py",
   "mimetype": "text/x-python",
   "name": "python",
   "nbconvert_exporter": "python",
   "pygments_lexer": "ipython3",
   "version": "3.12.10"
  }
 },
 "nbformat": 4,
 "nbformat_minor": 5
}
